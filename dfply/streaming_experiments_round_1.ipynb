{
 "cells": [
  {
   "cell_type": "markdown",
   "metadata": {},
   "source": [
    "# Thinking about the data frame class"
   ]
  },
  {
   "cell_type": "markdown",
   "metadata": {},
   "source": [
    "## Options\n",
    "\n",
    "* Replace `dict` rows a la `csv.DictReader` with `PMap` or `Records` from `pyrsistent`\n",
    "    * Advantages\n",
    "        * Immutable and persistent\n",
    "        * We can leverage some of the built-in features\n",
    "            * Types and Invariants\n",
    "            * Transformations\n",
    "    * Disadvantages\n",
    "        * Performance hit\n",
    "        * Rowwise\n",
    "* Create column generators + operations\n",
    "    * Advantages\n",
    "        * Makes columns operations very easy\n",
    "        * We can avoid Intention overhead\n",
    "    * Disadvantages\n",
    "        * Need to `intertools.tee` the original iterator"
   ]
  },
  {
   "cell_type": "markdown",
   "metadata": {},
   "source": [
    "# Examples"
   ]
  },
  {
   "cell_type": "code",
   "execution_count": 5,
   "metadata": {},
   "outputs": [
    {
     "data": {
      "text/plain": [
       "([OrderedDict([('Salesperson', 'Ann'),\n",
       "               ('Compact', '22'),\n",
       "               ('Sedan', '18'),\n",
       "               ('SUV', '15'),\n",
       "               ('Truck', '12')]),\n",
       "  OrderedDict([('Salesperson', 'Bob'),\n",
       "               ('Compact', '19'),\n",
       "               ('Sedan', '12'),\n",
       "               ('SUV', '17'),\n",
       "               ('Truck', '20')]),\n",
       "  OrderedDict([('Salesperson', 'Yolanda'),\n",
       "               ('Compact', '19'),\n",
       "               ('Sedan', '8'),\n",
       "               ('SUV', '32'),\n",
       "               ('Truck', '15')]),\n",
       "  OrderedDict([('Salesperson', 'Xerxes'),\n",
       "               ('Compact', '12'),\n",
       "               ('Sedan', '23'),\n",
       "               ('SUV', '18'),\n",
       "               ('Truck', '9')])],\n",
       " ['Salesperson', 'Compact', 'Sedan', 'SUV', 'Truck'])"
      ]
     },
     "execution_count": 5,
     "metadata": {},
     "output_type": "execute_result"
    }
   ],
   "source": [
    "from csv import DictReader, Sniffer\n",
    "with open('./data/auto_sales.csv', newline='\\n') as csvfile:\n",
    "    dialect = Sniffer().sniff(csvfile.read(1024))\n",
    "    csvfile.seek(0)\n",
    "    reader = DictReader(csvfile, dialect=dialect)\n",
    "    columns = reader.fieldnames\n",
    "    l = list(reader)\n",
    "l, columns"
   ]
  },
  {
   "cell_type": "code",
   "execution_count": 15,
   "metadata": {},
   "outputs": [],
   "source": [
    "from pyrsistent import freeze, pmap"
   ]
  },
  {
   "cell_type": "code",
   "execution_count": 16,
   "metadata": {},
   "outputs": [
    {
     "data": {
      "text/plain": [
       "[pmap({'Compact': '22', 'Sedan': '18', 'Salesperson': 'Ann', 'Truck': '12', 'SUV': '15'}),\n",
       " pmap({'Compact': '19', 'Sedan': '12', 'Salesperson': 'Bob', 'Truck': '20', 'SUV': '17'}),\n",
       " pmap({'Compact': '19', 'Sedan': '8', 'Salesperson': 'Yolanda', 'Truck': '15', 'SUV': '32'}),\n",
       " pmap({'Compact': '12', 'Sedan': '23', 'Salesperson': 'Xerxes', 'Truck': '9', 'SUV': '18'})]"
      ]
     },
     "execution_count": 16,
     "metadata": {},
     "output_type": "execute_result"
    }
   ],
   "source": [
    "list(map(pmap, l))"
   ]
  },
  {
   "cell_type": "code",
   "execution_count": 17,
   "metadata": {},
   "outputs": [],
   "source": [
    "r = pmap(l[0])\n",
    "r2 = r.discard('Truck')"
   ]
  },
  {
   "cell_type": "code",
   "execution_count": 18,
   "metadata": {},
   "outputs": [
    {
     "data": {
      "text/plain": [
       "True"
      ]
     },
     "execution_count": 18,
     "metadata": {},
     "output_type": "execute_result"
    }
   ],
   "source": [
    "'class'.isidentifier()"
   ]
  },
  {
   "cell_type": "code",
   "execution_count": 19,
   "metadata": {},
   "outputs": [],
   "source": [
    "from pyrsistent import PRecord, field"
   ]
  },
  {
   "cell_type": "code",
   "execution_count": 20,
   "metadata": {},
   "outputs": [
    {
     "data": {
      "text/plain": [
       "ARecord(x=3)"
      ]
     },
     "execution_count": 20,
     "metadata": {},
     "output_type": "execute_result"
    }
   ],
   "source": [
    "from pyrsistent import PRecord, field\n",
    "class ARecord(PRecord):\n",
    "    x = field()\n",
    "\n",
    "r = ARecord(x=3)\n",
    "r"
   ]
  },
  {
   "cell_type": "code",
   "execution_count": 21,
   "metadata": {},
   "outputs": [
    {
     "data": {
      "text/plain": [
       "ARecord(x=3)"
      ]
     },
     "execution_count": 21,
     "metadata": {},
     "output_type": "execute_result"
    }
   ],
   "source": [
    "from pyrsistent import PRecord, field\n",
    "\n",
    "ARecord = type('ARecord', (PRecord,), {'x':field()})\n",
    "r = ARecord(x=3)\n",
    "r"
   ]
  },
  {
   "cell_type": "markdown",
   "metadata": {},
   "source": [
    "## Testing basic functionality of rows as `PRecords`"
   ]
  },
  {
   "cell_type": "code",
   "execution_count": 9,
   "metadata": {},
   "outputs": [],
   "source": [
    "from pyrsistent import ny\n",
    "col_types = [str, int, int, int]\n",
    "Row = type('Row', (PRecord,), {name:field(initial=None) for name in columns if name.isidentifier()})\n",
    "\n",
    "?Row.transform(['Salesperson', ny], lambda s: s.lower())"
   ]
  },
  {
   "cell_type": "code",
   "execution_count": 10,
   "metadata": {},
   "outputs": [
    {
     "data": {
      "text/plain": [
       "[Row(Compact='22', Truck='12', SUV='15', Salesperson='Ann', Sedan='18'),\n",
       " Row(Compact='19', Truck='20', SUV='17', Salesperson='Bob', Sedan='12'),\n",
       " Row(Compact='19', Truck='15', SUV='32', Salesperson='Yolanda', Sedan='8'),\n",
       " Row(Compact='12', Truck='9', SUV='18', Salesperson='Xerxes', Sedan='23')]"
      ]
     },
     "execution_count": 10,
     "metadata": {},
     "output_type": "execute_result"
    }
   ],
   "source": [
    "r1 = Row(**l[0])\n",
    "rows = list(map(lambda r: Row(**r), l))\n",
    "rows"
   ]
  },
  {
   "cell_type": "code",
   "execution_count": 11,
   "metadata": {},
   "outputs": [
    {
     "ename": "AttributeError",
     "evalue": "'a' is not among the specified fields for Row",
     "output_type": "error",
     "traceback": [
      "\u001b[0;31m---------------------------------------------------------------------------\u001b[0m",
      "\u001b[0;31mAttributeError\u001b[0m                            Traceback (most recent call last)",
      "\u001b[0;32m<ipython-input-11-659792c82ec5>\u001b[0m in \u001b[0;36m<module>\u001b[0;34m()\u001b[0m\n\u001b[0;32m----> 1\u001b[0;31m \u001b[0mRow\u001b[0m\u001b[0;34m(\u001b[0m\u001b[0;34m**\u001b[0m\u001b[0;34m{\u001b[0m\u001b[0;34m'a'\u001b[0m\u001b[0;34m:\u001b[0m\u001b[0;36m5\u001b[0m\u001b[0;34m,\u001b[0m \u001b[0;34m'b'\u001b[0m\u001b[0;34m:\u001b[0m\u001b[0;36m2\u001b[0m\u001b[0;34m,\u001b[0m \u001b[0;34m'Salesperson'\u001b[0m\u001b[0;34m:\u001b[0m\u001b[0;34m'Bob'\u001b[0m\u001b[0;34m}\u001b[0m\u001b[0;34m)\u001b[0m\u001b[0;34m\u001b[0m\u001b[0m\n\u001b[0m",
      "\u001b[0;32m~/.pyenv/versions/anaconda3-5.0.0/lib/python3.6/site-packages/pyrsistent/_precord.py\u001b[0m in \u001b[0;36m__new__\u001b[0;34m(cls, **kwargs)\u001b[0m\n\u001b[1;32m     49\u001b[0m         \u001b[0me\u001b[0m \u001b[0;34m=\u001b[0m \u001b[0m_PRecordEvolver\u001b[0m\u001b[0;34m(\u001b[0m\u001b[0mcls\u001b[0m\u001b[0;34m,\u001b[0m \u001b[0mpmap\u001b[0m\u001b[0;34m(\u001b[0m\u001b[0;34m)\u001b[0m\u001b[0;34m,\u001b[0m \u001b[0m_factory_fields\u001b[0m\u001b[0;34m=\u001b[0m\u001b[0mfactory_fields\u001b[0m\u001b[0;34m)\u001b[0m\u001b[0;34m\u001b[0m\u001b[0m\n\u001b[1;32m     50\u001b[0m         \u001b[0;32mfor\u001b[0m \u001b[0mk\u001b[0m\u001b[0;34m,\u001b[0m \u001b[0mv\u001b[0m \u001b[0;32min\u001b[0m \u001b[0minitial_values\u001b[0m\u001b[0;34m.\u001b[0m\u001b[0mitems\u001b[0m\u001b[0;34m(\u001b[0m\u001b[0;34m)\u001b[0m\u001b[0;34m:\u001b[0m\u001b[0;34m\u001b[0m\u001b[0m\n\u001b[0;32m---> 51\u001b[0;31m             \u001b[0me\u001b[0m\u001b[0;34m[\u001b[0m\u001b[0mk\u001b[0m\u001b[0;34m]\u001b[0m \u001b[0;34m=\u001b[0m \u001b[0mv\u001b[0m\u001b[0;34m\u001b[0m\u001b[0m\n\u001b[0m\u001b[1;32m     52\u001b[0m \u001b[0;34m\u001b[0m\u001b[0m\n\u001b[1;32m     53\u001b[0m         \u001b[0;32mreturn\u001b[0m \u001b[0me\u001b[0m\u001b[0;34m.\u001b[0m\u001b[0mpersistent\u001b[0m\u001b[0;34m(\u001b[0m\u001b[0;34m)\u001b[0m\u001b[0;34m\u001b[0m\u001b[0m\n",
      "\u001b[0;32m~/.pyenv/versions/anaconda3-5.0.0/lib/python3.6/site-packages/pyrsistent/_precord.py\u001b[0m in \u001b[0;36m__setitem__\u001b[0;34m(self, key, original_value)\u001b[0m\n\u001b[1;32m    117\u001b[0m \u001b[0;34m\u001b[0m\u001b[0m\n\u001b[1;32m    118\u001b[0m     \u001b[0;32mdef\u001b[0m \u001b[0m__setitem__\u001b[0m\u001b[0;34m(\u001b[0m\u001b[0mself\u001b[0m\u001b[0;34m,\u001b[0m \u001b[0mkey\u001b[0m\u001b[0;34m,\u001b[0m \u001b[0moriginal_value\u001b[0m\u001b[0;34m)\u001b[0m\u001b[0;34m:\u001b[0m\u001b[0;34m\u001b[0m\u001b[0m\n\u001b[0;32m--> 119\u001b[0;31m         \u001b[0mself\u001b[0m\u001b[0;34m.\u001b[0m\u001b[0mset\u001b[0m\u001b[0;34m(\u001b[0m\u001b[0mkey\u001b[0m\u001b[0;34m,\u001b[0m \u001b[0moriginal_value\u001b[0m\u001b[0;34m)\u001b[0m\u001b[0;34m\u001b[0m\u001b[0m\n\u001b[0m\u001b[1;32m    120\u001b[0m \u001b[0;34m\u001b[0m\u001b[0m\n\u001b[1;32m    121\u001b[0m     \u001b[0;32mdef\u001b[0m \u001b[0mset\u001b[0m\u001b[0;34m(\u001b[0m\u001b[0mself\u001b[0m\u001b[0;34m,\u001b[0m \u001b[0mkey\u001b[0m\u001b[0;34m,\u001b[0m \u001b[0moriginal_value\u001b[0m\u001b[0;34m)\u001b[0m\u001b[0;34m:\u001b[0m\u001b[0;34m\u001b[0m\u001b[0m\n",
      "\u001b[0;32m~/.pyenv/versions/anaconda3-5.0.0/lib/python3.6/site-packages/pyrsistent/_precord.py\u001b[0m in \u001b[0;36mset\u001b[0;34m(self, key, original_value)\u001b[0m\n\u001b[1;32m    140\u001b[0m             \u001b[0;32mreturn\u001b[0m \u001b[0msuper\u001b[0m\u001b[0;34m(\u001b[0m\u001b[0m_PRecordEvolver\u001b[0m\u001b[0;34m,\u001b[0m \u001b[0mself\u001b[0m\u001b[0;34m)\u001b[0m\u001b[0;34m.\u001b[0m\u001b[0mset\u001b[0m\u001b[0;34m(\u001b[0m\u001b[0mkey\u001b[0m\u001b[0;34m,\u001b[0m \u001b[0mvalue\u001b[0m\u001b[0;34m)\u001b[0m\u001b[0;34m\u001b[0m\u001b[0m\n\u001b[1;32m    141\u001b[0m         \u001b[0;32melse\u001b[0m\u001b[0;34m:\u001b[0m\u001b[0;34m\u001b[0m\u001b[0m\n\u001b[0;32m--> 142\u001b[0;31m             \u001b[0;32mraise\u001b[0m \u001b[0mAttributeError\u001b[0m\u001b[0;34m(\u001b[0m\u001b[0;34m\"'{0}' is not among the specified fields for {1}\"\u001b[0m\u001b[0;34m.\u001b[0m\u001b[0mformat\u001b[0m\u001b[0;34m(\u001b[0m\u001b[0mkey\u001b[0m\u001b[0;34m,\u001b[0m \u001b[0mself\u001b[0m\u001b[0;34m.\u001b[0m\u001b[0m_destination_cls\u001b[0m\u001b[0;34m.\u001b[0m\u001b[0m__name__\u001b[0m\u001b[0;34m)\u001b[0m\u001b[0;34m)\u001b[0m\u001b[0;34m\u001b[0m\u001b[0m\n\u001b[0m\u001b[1;32m    143\u001b[0m \u001b[0;34m\u001b[0m\u001b[0m\n\u001b[1;32m    144\u001b[0m     \u001b[0;32mdef\u001b[0m \u001b[0mpersistent\u001b[0m\u001b[0;34m(\u001b[0m\u001b[0mself\u001b[0m\u001b[0;34m)\u001b[0m\u001b[0;34m:\u001b[0m\u001b[0;34m\u001b[0m\u001b[0m\n",
      "\u001b[0;31mAttributeError\u001b[0m: 'a' is not among the specified fields for Row"
     ]
    }
   ],
   "source": [
    "Row(**{'a':5, 'b':2, 'Salesperson':'Bob'})"
   ]
  },
  {
   "cell_type": "code",
   "execution_count": 12,
   "metadata": {},
   "outputs": [
    {
     "ename": "ValueError",
     "evalue": "invalid literal for int() with base 10: 'a'",
     "output_type": "error",
     "traceback": [
      "\u001b[0;31m---------------------------------------------------------------------------\u001b[0m",
      "\u001b[0;31mValueError\u001b[0m                                Traceback (most recent call last)",
      "\u001b[0;32m<ipython-input-12-233884bacd4e>\u001b[0m in \u001b[0;36m<module>\u001b[0;34m()\u001b[0m\n\u001b[0;32m----> 1\u001b[0;31m \u001b[0mint\u001b[0m\u001b[0;34m(\u001b[0m\u001b[0;34m'a'\u001b[0m\u001b[0;34m)\u001b[0m\u001b[0;34m\u001b[0m\u001b[0m\n\u001b[0m",
      "\u001b[0;31mValueError\u001b[0m: invalid literal for int() with base 10: 'a'"
     ]
    }
   ],
   "source": [
    "int('a')"
   ]
  },
  {
   "cell_type": "code",
   "execution_count": 97,
   "metadata": {},
   "outputs": [
    {
     "data": {
      "text/plain": [
       "'str'"
      ]
     },
     "execution_count": 97,
     "metadata": {},
     "output_type": "execute_result"
    }
   ],
   "source": [
    "str.__name__"
   ]
  },
  {
   "cell_type": "markdown",
   "metadata": {},
   "source": [
    "## Making a `Row` with type"
   ]
  },
  {
   "cell_type": "code",
   "execution_count": 52,
   "metadata": {},
   "outputs": [],
   "source": [
    "from pyrsistent import PRecord, field, freeze, pmap\n",
    "\n",
    "\n",
    "\n",
    "def col_factory(type_constructor):\n",
    "    if type_constructor.__name__ == 'str':\n",
    "        return lambda val: val if len(val) > 0 else None\n",
    "    else:\n",
    "        def factory(val):\n",
    "            try:\n",
    "                return type_constructor(val)\n",
    "            except ValueError:\n",
    "                return None\n",
    "        return factory\n",
    "\n",
    "def get_col_types(names, col_type_dict):\n",
    "    return [col_type_dict.get(name, str) for name in names]\n",
    "\n",
    "def get_field(col_type, **kwargs):\n",
    "    return field(type=(col_type, type(None)),\n",
    "                 factory = col_factory(col_type),\n",
    "                 initial = None,\n",
    "                 **kwargs)\n",
    "    \n",
    "def columns_and_types(names, col_type_dict):\n",
    "    return zip(names, get_col_types(names, col_type_dict))\n",
    "\n",
    "def row_fields(names, col_type_dict, kwarg_dict={}):\n",
    "    return {name:get_field(col_type, **kwarg_dict.get(name, {})) \n",
    "            for name, col_type in columns_and_types(names, col_type_dict) \n",
    "            if name.isidentifier()}\n",
    "\n",
    "# Filter by keys, useful for select\n",
    "def filter_method(self, pred):\n",
    "    out = self\n",
    "    for key in self:\n",
    "        if not pred(key):\n",
    "            out =  out.discard(key)\n",
    "    return out\n",
    "            \n",
    "# Method for mapping a function to type A to a Maybe A (i.e. deal with None's)\n",
    "def alter(self, f, k):\n",
    "    out = self.get(k, None)\n",
    "    if out is None:\n",
    "        return self.set(**{k:None})\n",
    "    else:\n",
    "        try:\n",
    "            return self.set(**{k:f(out)})\n",
    "        except:\n",
    "            return self.set(**{k:None})\n",
    "\n",
    "def alter_with_dict(self, dict_of_func):\n",
    "    \n",
    "    return self.set()\n",
    "        \n",
    "def map(self, f):\n",
    "    out = self\n",
    "    for key in self:\n",
    "        out = out.set(**{k:f(self[k])})\n",
    "    return out\n",
    "\n",
    "def makeRow(names, col_type_dict={}, field_kwargs = {'mandatory':True}):\n",
    "    return type('Row', (PRecord,), row_fields(names, col_type_dict, kwarg_dict=field_kwargs))\n",
    "\n",
    "def makeRowFromDict(d, col_types={}, **kwargs):\n",
    "    names = list(d.keys())\n",
    "    if hasattr\n",
    "    col_type_dict = get_col_types\n",
    "    fields = row_fields(names, col_type_dict, **kwargs)\n",
    "    return type('Row', (PRecord, ), fields)(**d)"
   ]
  },
  {
   "cell_type": "code",
   "execution_count": 53,
   "metadata": {},
   "outputs": [
    {
     "ename": "TypeError",
     "evalue": "object of type 'int' has no len()",
     "output_type": "error",
     "traceback": [
      "\u001b[0;31m---------------------------------------------------------------------------\u001b[0m",
      "\u001b[0;31mTypeError\u001b[0m                                 Traceback (most recent call last)",
      "\u001b[0;32m<ipython-input-53-8691436fef81>\u001b[0m in \u001b[0;36m<module>\u001b[0;34m()\u001b[0m\n\u001b[0;32m----> 1\u001b[0;31m \u001b[0mmakeRowFromDict\u001b[0m\u001b[0;34m(\u001b[0m\u001b[0;34m{\u001b[0m\u001b[0;34m'Truck'\u001b[0m\u001b[0;34m:\u001b[0m \u001b[0;36m12\u001b[0m\u001b[0;34m,\u001b[0m \u001b[0;34m'Utility'\u001b[0m\u001b[0;34m:\u001b[0m \u001b[0;36m27\u001b[0m\u001b[0;34m,\u001b[0m \u001b[0;34m'Sedan'\u001b[0m\u001b[0;34m:\u001b[0m \u001b[0;36m18\u001b[0m\u001b[0;34m,\u001b[0m \u001b[0;34m'SUV'\u001b[0m\u001b[0;34m:\u001b[0m \u001b[0;36m15\u001b[0m\u001b[0;34m,\u001b[0m \u001b[0;34m'Compact'\u001b[0m\u001b[0;34m:\u001b[0m \u001b[0;36m22\u001b[0m\u001b[0;34m,\u001b[0m \u001b[0;34m'Salesperson'\u001b[0m\u001b[0;34m:\u001b[0m \u001b[0;34m'Ann'\u001b[0m\u001b[0;34m}\u001b[0m\u001b[0;34m)\u001b[0m\u001b[0;34m\u001b[0m\u001b[0m\n\u001b[0m",
      "\u001b[0;32m<ipython-input-52-844d2687337b>\u001b[0m in \u001b[0;36mmakeRowFromDict\u001b[0;34m(d, col_type_dict, **kwargs)\u001b[0m\n\u001b[1;32m     66\u001b[0m     \u001b[0mnames\u001b[0m \u001b[0;34m=\u001b[0m \u001b[0mlist\u001b[0m\u001b[0;34m(\u001b[0m\u001b[0md\u001b[0m\u001b[0;34m.\u001b[0m\u001b[0mkeys\u001b[0m\u001b[0;34m(\u001b[0m\u001b[0;34m)\u001b[0m\u001b[0;34m)\u001b[0m\u001b[0;34m\u001b[0m\u001b[0m\n\u001b[1;32m     67\u001b[0m     \u001b[0mfields\u001b[0m \u001b[0;34m=\u001b[0m \u001b[0mrow_fields\u001b[0m\u001b[0;34m(\u001b[0m\u001b[0mnames\u001b[0m\u001b[0;34m,\u001b[0m \u001b[0mcol_type_dict\u001b[0m\u001b[0;34m,\u001b[0m \u001b[0;34m**\u001b[0m\u001b[0mkwargs\u001b[0m\u001b[0;34m)\u001b[0m\u001b[0;34m\u001b[0m\u001b[0m\n\u001b[0;32m---> 68\u001b[0;31m     \u001b[0;32mreturn\u001b[0m \u001b[0mtype\u001b[0m\u001b[0;34m(\u001b[0m\u001b[0;34m'Row'\u001b[0m\u001b[0;34m,\u001b[0m \u001b[0;34m(\u001b[0m\u001b[0mPRecord\u001b[0m\u001b[0;34m,\u001b[0m \u001b[0;34m)\u001b[0m\u001b[0;34m,\u001b[0m \u001b[0mfields\u001b[0m\u001b[0;34m)\u001b[0m\u001b[0;34m(\u001b[0m\u001b[0;34m**\u001b[0m\u001b[0md\u001b[0m\u001b[0;34m)\u001b[0m\u001b[0;34m\u001b[0m\u001b[0m\n\u001b[0m",
      "\u001b[0;32m~/.pyenv/versions/anaconda3-5.0.0/lib/python3.6/site-packages/pyrsistent/_precord.py\u001b[0m in \u001b[0;36m__new__\u001b[0;34m(cls, **kwargs)\u001b[0m\n\u001b[1;32m     49\u001b[0m         \u001b[0me\u001b[0m \u001b[0;34m=\u001b[0m \u001b[0m_PRecordEvolver\u001b[0m\u001b[0;34m(\u001b[0m\u001b[0mcls\u001b[0m\u001b[0;34m,\u001b[0m \u001b[0mpmap\u001b[0m\u001b[0;34m(\u001b[0m\u001b[0;34m)\u001b[0m\u001b[0;34m,\u001b[0m \u001b[0m_factory_fields\u001b[0m\u001b[0;34m=\u001b[0m\u001b[0mfactory_fields\u001b[0m\u001b[0;34m)\u001b[0m\u001b[0;34m\u001b[0m\u001b[0m\n\u001b[1;32m     50\u001b[0m         \u001b[0;32mfor\u001b[0m \u001b[0mk\u001b[0m\u001b[0;34m,\u001b[0m \u001b[0mv\u001b[0m \u001b[0;32min\u001b[0m \u001b[0minitial_values\u001b[0m\u001b[0;34m.\u001b[0m\u001b[0mitems\u001b[0m\u001b[0;34m(\u001b[0m\u001b[0;34m)\u001b[0m\u001b[0;34m:\u001b[0m\u001b[0;34m\u001b[0m\u001b[0m\n\u001b[0;32m---> 51\u001b[0;31m             \u001b[0me\u001b[0m\u001b[0;34m[\u001b[0m\u001b[0mk\u001b[0m\u001b[0;34m]\u001b[0m \u001b[0;34m=\u001b[0m \u001b[0mv\u001b[0m\u001b[0;34m\u001b[0m\u001b[0m\n\u001b[0m\u001b[1;32m     52\u001b[0m \u001b[0;34m\u001b[0m\u001b[0m\n\u001b[1;32m     53\u001b[0m         \u001b[0;32mreturn\u001b[0m \u001b[0me\u001b[0m\u001b[0;34m.\u001b[0m\u001b[0mpersistent\u001b[0m\u001b[0;34m(\u001b[0m\u001b[0;34m)\u001b[0m\u001b[0;34m\u001b[0m\u001b[0m\n",
      "\u001b[0;32m~/.pyenv/versions/anaconda3-5.0.0/lib/python3.6/site-packages/pyrsistent/_precord.py\u001b[0m in \u001b[0;36m__setitem__\u001b[0;34m(self, key, original_value)\u001b[0m\n\u001b[1;32m    117\u001b[0m \u001b[0;34m\u001b[0m\u001b[0m\n\u001b[1;32m    118\u001b[0m     \u001b[0;32mdef\u001b[0m \u001b[0m__setitem__\u001b[0m\u001b[0;34m(\u001b[0m\u001b[0mself\u001b[0m\u001b[0;34m,\u001b[0m \u001b[0mkey\u001b[0m\u001b[0;34m,\u001b[0m \u001b[0moriginal_value\u001b[0m\u001b[0;34m)\u001b[0m\u001b[0;34m:\u001b[0m\u001b[0;34m\u001b[0m\u001b[0m\n\u001b[0;32m--> 119\u001b[0;31m         \u001b[0mself\u001b[0m\u001b[0;34m.\u001b[0m\u001b[0mset\u001b[0m\u001b[0;34m(\u001b[0m\u001b[0mkey\u001b[0m\u001b[0;34m,\u001b[0m \u001b[0moriginal_value\u001b[0m\u001b[0;34m)\u001b[0m\u001b[0;34m\u001b[0m\u001b[0m\n\u001b[0m\u001b[1;32m    120\u001b[0m \u001b[0;34m\u001b[0m\u001b[0m\n\u001b[1;32m    121\u001b[0m     \u001b[0;32mdef\u001b[0m \u001b[0mset\u001b[0m\u001b[0;34m(\u001b[0m\u001b[0mself\u001b[0m\u001b[0;34m,\u001b[0m \u001b[0mkey\u001b[0m\u001b[0;34m,\u001b[0m \u001b[0moriginal_value\u001b[0m\u001b[0;34m)\u001b[0m\u001b[0;34m:\u001b[0m\u001b[0;34m\u001b[0m\u001b[0m\n",
      "\u001b[0;32m~/.pyenv/versions/anaconda3-5.0.0/lib/python3.6/site-packages/pyrsistent/_precord.py\u001b[0m in \u001b[0;36mset\u001b[0;34m(self, key, original_value)\u001b[0m\n\u001b[1;32m    124\u001b[0m             \u001b[0;32mif\u001b[0m \u001b[0mself\u001b[0m\u001b[0;34m.\u001b[0m\u001b[0m_factory_fields\u001b[0m \u001b[0;32mis\u001b[0m \u001b[0;32mNone\u001b[0m \u001b[0;32mor\u001b[0m \u001b[0mfield\u001b[0m \u001b[0;32min\u001b[0m \u001b[0mself\u001b[0m\u001b[0;34m.\u001b[0m\u001b[0m_factory_fields\u001b[0m\u001b[0;34m:\u001b[0m\u001b[0;34m\u001b[0m\u001b[0m\n\u001b[1;32m    125\u001b[0m                 \u001b[0;32mtry\u001b[0m\u001b[0;34m:\u001b[0m\u001b[0;34m\u001b[0m\u001b[0m\n\u001b[0;32m--> 126\u001b[0;31m                     \u001b[0mvalue\u001b[0m \u001b[0;34m=\u001b[0m \u001b[0mfield\u001b[0m\u001b[0;34m.\u001b[0m\u001b[0mfactory\u001b[0m\u001b[0;34m(\u001b[0m\u001b[0moriginal_value\u001b[0m\u001b[0;34m)\u001b[0m\u001b[0;34m\u001b[0m\u001b[0m\n\u001b[0m\u001b[1;32m    127\u001b[0m                 \u001b[0;32mexcept\u001b[0m \u001b[0mInvariantException\u001b[0m \u001b[0;32mas\u001b[0m \u001b[0me\u001b[0m\u001b[0;34m:\u001b[0m\u001b[0;34m\u001b[0m\u001b[0m\n\u001b[1;32m    128\u001b[0m                     \u001b[0mself\u001b[0m\u001b[0;34m.\u001b[0m\u001b[0m_invariant_error_codes\u001b[0m \u001b[0;34m+=\u001b[0m \u001b[0me\u001b[0m\u001b[0;34m.\u001b[0m\u001b[0minvariant_errors\u001b[0m\u001b[0;34m\u001b[0m\u001b[0m\n",
      "\u001b[0;32m<ipython-input-52-844d2687337b>\u001b[0m in \u001b[0;36m<lambda>\u001b[0;34m(val)\u001b[0m\n\u001b[1;32m      5\u001b[0m \u001b[0;32mdef\u001b[0m \u001b[0mcol_factory\u001b[0m\u001b[0;34m(\u001b[0m\u001b[0mtype_constructor\u001b[0m\u001b[0;34m)\u001b[0m\u001b[0;34m:\u001b[0m\u001b[0;34m\u001b[0m\u001b[0m\n\u001b[1;32m      6\u001b[0m     \u001b[0;32mif\u001b[0m \u001b[0mtype_constructor\u001b[0m\u001b[0;34m.\u001b[0m\u001b[0m__name__\u001b[0m \u001b[0;34m==\u001b[0m \u001b[0;34m'str'\u001b[0m\u001b[0;34m:\u001b[0m\u001b[0;34m\u001b[0m\u001b[0m\n\u001b[0;32m----> 7\u001b[0;31m         \u001b[0;32mreturn\u001b[0m \u001b[0;32mlambda\u001b[0m \u001b[0mval\u001b[0m\u001b[0;34m:\u001b[0m \u001b[0mval\u001b[0m \u001b[0;32mif\u001b[0m \u001b[0mlen\u001b[0m\u001b[0;34m(\u001b[0m\u001b[0mval\u001b[0m\u001b[0;34m)\u001b[0m \u001b[0;34m>\u001b[0m \u001b[0;36m0\u001b[0m \u001b[0;32melse\u001b[0m \u001b[0;32mNone\u001b[0m\u001b[0;34m\u001b[0m\u001b[0m\n\u001b[0m\u001b[1;32m      8\u001b[0m     \u001b[0;32melse\u001b[0m\u001b[0;34m:\u001b[0m\u001b[0;34m\u001b[0m\u001b[0m\n\u001b[1;32m      9\u001b[0m         \u001b[0;32mdef\u001b[0m \u001b[0mfactory\u001b[0m\u001b[0;34m(\u001b[0m\u001b[0mval\u001b[0m\u001b[0;34m)\u001b[0m\u001b[0;34m:\u001b[0m\u001b[0;34m\u001b[0m\u001b[0m\n",
      "\u001b[0;31mTypeError\u001b[0m: object of type 'int' has no len()"
     ]
    }
   ],
   "source": [
    "makeRowFromDict({'Truck': 12, 'Utility': 27, 'Sedan': 18, 'SUV': 15, 'Compact': 22, 'Salesperson': 'Ann'})"
   ]
  },
  {
   "cell_type": "code",
   "execution_count": 30,
   "metadata": {},
   "outputs": [
    {
     "data": {
      "text/plain": [
       "pmap({'Compact': <class 'int'>, 'Sedan': <class 'int'>, 'Truck': <class 'int'>, 'SUV': <class 'int'>, 'Salesperson': <class 'str'>})"
      ]
     },
     "execution_count": 30,
     "metadata": {},
     "output_type": "execute_result"
    }
   ],
   "source": [
    "my_col_types = {'Salesperson':str, \n",
    "             'SUV':int, \n",
    "             'Truck':int}\n",
    "my_col_types2 = freeze(my_col_types).update({'Sedan':int, 'Compact':int})\n",
    "my_col_types2"
   ]
  },
  {
   "cell_type": "code",
   "execution_count": 16,
   "metadata": {
    "scrolled": true
   },
   "outputs": [
    {
     "data": {
      "text/plain": [
       "[Row(Truck=12, Compact='22', SUV=15, Salesperson='Ann', Sedan='18'),\n",
       " Row(Truck=20, Compact='19', SUV=17, Salesperson='Bob', Sedan='12'),\n",
       " Row(Truck=15, Compact='19', SUV=32, Salesperson='Yolanda', Sedan='8'),\n",
       " Row(Truck=9, Compact='12', SUV=18, Salesperson='Xerxes', Sedan='23')]"
      ]
     },
     "execution_count": 16,
     "metadata": {},
     "output_type": "execute_result"
    }
   ],
   "source": [
    "Row = makeRow(columns, my_col_types)\n",
    "rows1 = [Row(**row) for row in l]\n",
    "rows1"
   ]
  },
  {
   "cell_type": "code",
   "execution_count": 19,
   "metadata": {
    "scrolled": true
   },
   "outputs": [
    {
     "data": {
      "text/plain": [
       "[Row(Truck=12, Compact=22, SUV=15, Salesperson='Ann', Sedan=18),\n",
       " Row(Truck=20, Compact=19, SUV=17, Salesperson='Bob', Sedan=12),\n",
       " Row(Truck=15, Compact=19, SUV=32, Salesperson='Yolanda', Sedan=8),\n",
       " Row(Truck=9, Compact=12, SUV=18, Salesperson='Xerxes', Sedan=23)]"
      ]
     },
     "execution_count": 19,
     "metadata": {},
     "output_type": "execute_result"
    }
   ],
   "source": [
    "Row = makeRow(columns, my_col_types2)\n",
    "rows2 = [Row(**row) for row in l]\n",
    "rows2"
   ]
  },
  {
   "cell_type": "code",
   "execution_count": 55,
   "metadata": {},
   "outputs": [
    {
     "data": {
      "text/plain": [
       "Row(Truck=12, Compact=22, SUV=15, Salesperson='Ann', Sedan=18)"
      ]
     },
     "execution_count": 55,
     "metadata": {},
     "output_type": "execute_result"
    }
   ],
   "source": [
    "r1 = rows2[0]\n",
    "r1"
   ]
  },
  {
   "cell_type": "code",
   "execution_count": 58,
   "metadata": {},
   "outputs": [
    {
     "data": {
      "text/plain": [
       "pmap({'Truck': <pyrsistent._field_common._PField object at 0x11767f410>, 'Sedan': <pyrsistent._field_common._PField object at 0x11767f150>, 'SUV': <pyrsistent._field_common._PField object at 0x11767f518>, 'Compact': <pyrsistent._field_common._PField object at 0x11767f468>, 'Salesperson': <pyrsistent._field_common._PField object at 0x11063b0f8>})"
      ]
     },
     "execution_count": 58,
     "metadata": {},
     "output_type": "execute_result"
    }
   ],
   "source": [
    "pmap(r1._precord_fields)"
   ]
  },
  {
   "cell_type": "code",
   "execution_count": 59,
   "metadata": {},
   "outputs": [
    {
     "data": {
      "text/plain": [
       "pmap({'Truck': None, 'Sedan': None, 'SUV': None, 'Compact': None, 'Salesperson': None})"
      ]
     },
     "execution_count": 59,
     "metadata": {},
     "output_type": "execute_result"
    }
   ],
   "source": [
    "pmap(r1._precord_initial_values)"
   ]
  },
  {
   "cell_type": "code",
   "execution_count": 61,
   "metadata": {},
   "outputs": [
    {
     "data": {
      "text/plain": [
       "pmap({})"
      ]
     },
     "execution_count": 61,
     "metadata": {},
     "output_type": "execute_result"
    }
   ],
   "source": [
    "pmap(r1._precord_invariants)"
   ]
  },
  {
   "cell_type": "code",
   "execution_count": 62,
   "metadata": {},
   "outputs": [
    {
     "data": {
      "text/plain": [
       "pmap({})"
      ]
     },
     "execution_count": 62,
     "metadata": {},
     "output_type": "execute_result"
    }
   ],
   "source": [
    "pmap(r1._precord_mandatory_fields)"
   ]
  },
  {
   "cell_type": "code",
   "execution_count": null,
   "metadata": {},
   "outputs": [],
   "source": []
  },
  {
   "cell_type": "markdown",
   "metadata": {},
   "source": [
    "## Note Map.mapWithKey is just set with a dict comp for kwargs "
   ]
  },
  {
   "cell_type": "code",
   "execution_count": 36,
   "metadata": {},
   "outputs": [
    {
     "data": {
      "text/plain": [
       "Row(Truck=24, Compact=44, SUV=30, Salesperson='Ann', Sedan=36)"
      ]
     },
     "execution_count": 36,
     "metadata": {},
     "output_type": "execute_result"
    }
   ],
   "source": [
    "r1.set(**{k:2*v for k, v in r1.items() if k != 'Salesperson'})"
   ]
  },
  {
   "cell_type": "code",
   "execution_count": 32,
   "metadata": {},
   "outputs": [],
   "source": [
    "?r1.update"
   ]
  },
  {
   "cell_type": "code",
   "execution_count": 49,
   "metadata": {},
   "outputs": [
    {
     "data": {
      "text/plain": [
       "pmap({'Truck': 12, 'Utility': 27, 'Sedan': 18, 'SUV': 15, 'Compact': 22, 'Salesperson': 'Ann'})"
      ]
     },
     "execution_count": 49,
     "metadata": {},
     "output_type": "execute_result"
    }
   ],
   "source": [
    "pmap(r1).update({'Utility':r1.Truck + r1.SUV})"
   ]
  },
  {
   "cell_type": "code",
   "execution_count": 50,
   "metadata": {},
   "outputs": [
    {
     "ename": "AttributeError",
     "evalue": "'Utility' is not among the specified fields for Row",
     "output_type": "error",
     "traceback": [
      "\u001b[0;31m---------------------------------------------------------------------------\u001b[0m",
      "\u001b[0;31mAttributeError\u001b[0m                            Traceback (most recent call last)",
      "\u001b[0;32m<ipython-input-50-e6b7b17379b8>\u001b[0m in \u001b[0;36m<module>\u001b[0;34m()\u001b[0m\n\u001b[0;32m----> 1\u001b[0;31m \u001b[0mr1\u001b[0m\u001b[0;34m.\u001b[0m\u001b[0mupdate\u001b[0m\u001b[0;34m(\u001b[0m\u001b[0;34m{\u001b[0m\u001b[0;34m'Truck'\u001b[0m\u001b[0;34m:\u001b[0m \u001b[0;36m12\u001b[0m\u001b[0;34m,\u001b[0m \u001b[0;34m'Utility'\u001b[0m\u001b[0;34m:\u001b[0m \u001b[0;36m27\u001b[0m\u001b[0;34m,\u001b[0m \u001b[0;34m'Sedan'\u001b[0m\u001b[0;34m:\u001b[0m \u001b[0;36m18\u001b[0m\u001b[0;34m,\u001b[0m \u001b[0;34m'SUV'\u001b[0m\u001b[0;34m:\u001b[0m \u001b[0;36m15\u001b[0m\u001b[0;34m,\u001b[0m \u001b[0;34m'Compact'\u001b[0m\u001b[0;34m:\u001b[0m \u001b[0;36m22\u001b[0m\u001b[0;34m,\u001b[0m \u001b[0;34m'Salesperson'\u001b[0m\u001b[0;34m:\u001b[0m \u001b[0;34m'Ann'\u001b[0m\u001b[0;34m}\u001b[0m\u001b[0;34m)\u001b[0m\u001b[0;34m\u001b[0m\u001b[0m\n\u001b[0m",
      "\u001b[0;32m~/.pyenv/versions/anaconda3-5.0.0/lib/python3.6/site-packages/pyrsistent/_pmap.py\u001b[0m in \u001b[0;36mupdate\u001b[0;34m(self, *maps)\u001b[0m\n\u001b[1;32m    218\u001b[0m         \u001b[0mpmap\u001b[0m\u001b[0;34m(\u001b[0m\u001b[0;34m{\u001b[0m\u001b[0;34m'a'\u001b[0m\u001b[0;34m:\u001b[0m \u001b[0;36m17\u001b[0m\u001b[0;34m,\u001b[0m \u001b[0;34m'c'\u001b[0m\u001b[0;34m:\u001b[0m \u001b[0;36m3\u001b[0m\u001b[0;34m,\u001b[0m \u001b[0;34m'b'\u001b[0m\u001b[0;34m:\u001b[0m \u001b[0;36m2\u001b[0m\u001b[0;34m,\u001b[0m \u001b[0;34m'd'\u001b[0m\u001b[0;34m:\u001b[0m \u001b[0;36m35\u001b[0m\u001b[0;34m}\u001b[0m\u001b[0;34m)\u001b[0m\u001b[0;34m\u001b[0m\u001b[0m\n\u001b[1;32m    219\u001b[0m         \"\"\"\n\u001b[0;32m--> 220\u001b[0;31m         \u001b[0;32mreturn\u001b[0m \u001b[0mself\u001b[0m\u001b[0;34m.\u001b[0m\u001b[0mupdate_with\u001b[0m\u001b[0;34m(\u001b[0m\u001b[0;32mlambda\u001b[0m \u001b[0ml\u001b[0m\u001b[0;34m,\u001b[0m \u001b[0mr\u001b[0m\u001b[0;34m:\u001b[0m \u001b[0mr\u001b[0m\u001b[0;34m,\u001b[0m \u001b[0;34m*\u001b[0m\u001b[0mmaps\u001b[0m\u001b[0;34m)\u001b[0m\u001b[0;34m\u001b[0m\u001b[0m\n\u001b[0m\u001b[1;32m    221\u001b[0m \u001b[0;34m\u001b[0m\u001b[0m\n\u001b[1;32m    222\u001b[0m     \u001b[0;32mdef\u001b[0m \u001b[0mupdate_with\u001b[0m\u001b[0;34m(\u001b[0m\u001b[0mself\u001b[0m\u001b[0;34m,\u001b[0m \u001b[0mupdate_fn\u001b[0m\u001b[0;34m,\u001b[0m \u001b[0;34m*\u001b[0m\u001b[0mmaps\u001b[0m\u001b[0;34m)\u001b[0m\u001b[0;34m:\u001b[0m\u001b[0;34m\u001b[0m\u001b[0m\n",
      "\u001b[0;32m~/.pyenv/versions/anaconda3-5.0.0/lib/python3.6/site-packages/pyrsistent/_pmap.py\u001b[0m in \u001b[0;36mupdate_with\u001b[0;34m(self, update_fn, *maps)\u001b[0m\n\u001b[1;32m    239\u001b[0m         \u001b[0;32mfor\u001b[0m \u001b[0mmap\u001b[0m \u001b[0;32min\u001b[0m \u001b[0mmaps\u001b[0m\u001b[0;34m:\u001b[0m\u001b[0;34m\u001b[0m\u001b[0m\n\u001b[1;32m    240\u001b[0m             \u001b[0;32mfor\u001b[0m \u001b[0mkey\u001b[0m\u001b[0;34m,\u001b[0m \u001b[0mvalue\u001b[0m \u001b[0;32min\u001b[0m \u001b[0mmap\u001b[0m\u001b[0;34m.\u001b[0m\u001b[0mitems\u001b[0m\u001b[0;34m(\u001b[0m\u001b[0;34m)\u001b[0m\u001b[0;34m:\u001b[0m\u001b[0;34m\u001b[0m\u001b[0m\n\u001b[0;32m--> 241\u001b[0;31m                 \u001b[0mevolver\u001b[0m\u001b[0;34m.\u001b[0m\u001b[0mset\u001b[0m\u001b[0;34m(\u001b[0m\u001b[0mkey\u001b[0m\u001b[0;34m,\u001b[0m \u001b[0mupdate_fn\u001b[0m\u001b[0;34m(\u001b[0m\u001b[0mevolver\u001b[0m\u001b[0;34m[\u001b[0m\u001b[0mkey\u001b[0m\u001b[0;34m]\u001b[0m\u001b[0;34m,\u001b[0m \u001b[0mvalue\u001b[0m\u001b[0;34m)\u001b[0m \u001b[0;32mif\u001b[0m \u001b[0mkey\u001b[0m \u001b[0;32min\u001b[0m \u001b[0mevolver\u001b[0m \u001b[0;32melse\u001b[0m \u001b[0mvalue\u001b[0m\u001b[0;34m)\u001b[0m\u001b[0;34m\u001b[0m\u001b[0m\n\u001b[0m\u001b[1;32m    242\u001b[0m \u001b[0;34m\u001b[0m\u001b[0m\n\u001b[1;32m    243\u001b[0m         \u001b[0;32mreturn\u001b[0m \u001b[0mevolver\u001b[0m\u001b[0;34m.\u001b[0m\u001b[0mpersistent\u001b[0m\u001b[0;34m(\u001b[0m\u001b[0;34m)\u001b[0m\u001b[0;34m\u001b[0m\u001b[0m\n",
      "\u001b[0;32m~/.pyenv/versions/anaconda3-5.0.0/lib/python3.6/site-packages/pyrsistent/_precord.py\u001b[0m in \u001b[0;36mset\u001b[0;34m(self, key, original_value)\u001b[0m\n\u001b[1;32m    140\u001b[0m             \u001b[0;32mreturn\u001b[0m \u001b[0msuper\u001b[0m\u001b[0;34m(\u001b[0m\u001b[0m_PRecordEvolver\u001b[0m\u001b[0;34m,\u001b[0m \u001b[0mself\u001b[0m\u001b[0;34m)\u001b[0m\u001b[0;34m.\u001b[0m\u001b[0mset\u001b[0m\u001b[0;34m(\u001b[0m\u001b[0mkey\u001b[0m\u001b[0;34m,\u001b[0m \u001b[0mvalue\u001b[0m\u001b[0;34m)\u001b[0m\u001b[0;34m\u001b[0m\u001b[0m\n\u001b[1;32m    141\u001b[0m         \u001b[0;32melse\u001b[0m\u001b[0;34m:\u001b[0m\u001b[0;34m\u001b[0m\u001b[0m\n\u001b[0;32m--> 142\u001b[0;31m             \u001b[0;32mraise\u001b[0m \u001b[0mAttributeError\u001b[0m\u001b[0;34m(\u001b[0m\u001b[0;34m\"'{0}' is not among the specified fields for {1}\"\u001b[0m\u001b[0;34m.\u001b[0m\u001b[0mformat\u001b[0m\u001b[0;34m(\u001b[0m\u001b[0mkey\u001b[0m\u001b[0;34m,\u001b[0m \u001b[0mself\u001b[0m\u001b[0;34m.\u001b[0m\u001b[0m_destination_cls\u001b[0m\u001b[0;34m.\u001b[0m\u001b[0m__name__\u001b[0m\u001b[0;34m)\u001b[0m\u001b[0;34m)\u001b[0m\u001b[0;34m\u001b[0m\u001b[0m\n\u001b[0m\u001b[1;32m    143\u001b[0m \u001b[0;34m\u001b[0m\u001b[0m\n\u001b[1;32m    144\u001b[0m     \u001b[0;32mdef\u001b[0m \u001b[0mpersistent\u001b[0m\u001b[0;34m(\u001b[0m\u001b[0mself\u001b[0m\u001b[0;34m)\u001b[0m\u001b[0;34m:\u001b[0m\u001b[0;34m\u001b[0m\u001b[0m\n",
      "\u001b[0;31mAttributeError\u001b[0m: 'Utility' is not among the specified fields for Row"
     ]
    }
   ],
   "source": [
    "r1.update({'Truck': 12, 'Utility': 27, 'Sedan': 18, 'SUV': 15, 'Compact': 22, 'Salesperson': 'Ann'})"
   ]
  },
  {
   "cell_type": "code",
   "execution_count": 47,
   "metadata": {},
   "outputs": [
    {
     "data": {
      "text/plain": [
       "['_Evolver',\n",
       " '__add__',\n",
       " '__class__',\n",
       " '__contains__',\n",
       " '__delattr__',\n",
       " '__dir__',\n",
       " '__doc__',\n",
       " '__eq__',\n",
       " '__format__',\n",
       " '__ge__',\n",
       " '__getattr__',\n",
       " '__getattribute__',\n",
       " '__getitem__',\n",
       " '__gt__',\n",
       " '__hash__',\n",
       " '__init__',\n",
       " '__init_subclass__',\n",
       " '__iter__',\n",
       " '__le__',\n",
       " '__len__',\n",
       " '__lt__',\n",
       " '__module__',\n",
       " '__ne__',\n",
       " '__new__',\n",
       " '__reduce__',\n",
       " '__reduce_ex__',\n",
       " '__repr__',\n",
       " '__setattr__',\n",
       " '__sizeof__',\n",
       " '__slots__',\n",
       " '__str__',\n",
       " '__subclasshook__',\n",
       " '__weakref__',\n",
       " '_buckets',\n",
       " '_cached_hash',\n",
       " '_contains',\n",
       " '_get_bucket',\n",
       " '_getitem',\n",
       " '_precord_fields',\n",
       " '_precord_initial_values',\n",
       " '_precord_invariants',\n",
       " '_precord_mandatory_fields',\n",
       " '_size',\n",
       " 'copy',\n",
       " 'create',\n",
       " 'discard',\n",
       " 'evolver',\n",
       " 'get',\n",
       " 'items',\n",
       " 'iteritems',\n",
       " 'iterkeys',\n",
       " 'itervalues',\n",
       " 'keys',\n",
       " 'remove',\n",
       " 'serialize',\n",
       " 'set',\n",
       " 'transform',\n",
       " 'update',\n",
       " 'update_with',\n",
       " 'values']"
      ]
     },
     "execution_count": 47,
     "metadata": {},
     "output_type": "execute_result"
    }
   ],
   "source": []
  },
  {
   "cell_type": "code",
   "execution_count": 41,
   "metadata": {},
   "outputs": [],
   "source": [
    "e1 = r1.evolver()"
   ]
  },
  {
   "cell_type": "code",
   "execution_count": 43,
   "metadata": {},
   "outputs": [
    {
     "ename": "AttributeError",
     "evalue": "Row has no attribute 'Utility'",
     "output_type": "error",
     "traceback": [
      "\u001b[0;31m---------------------------------------------------------------------------\u001b[0m",
      "\u001b[0;31mKeyError\u001b[0m                                  Traceback (most recent call last)",
      "\u001b[0;32m~/.pyenv/versions/anaconda3-5.0.0/lib/python3.6/site-packages/pyrsistent/_pmap.py\u001b[0m in \u001b[0;36m__getattr__\u001b[0;34m(self, key)\u001b[0m\n\u001b[1;32m     94\u001b[0m         \u001b[0;32mtry\u001b[0m\u001b[0;34m:\u001b[0m\u001b[0;34m\u001b[0m\u001b[0m\n\u001b[0;32m---> 95\u001b[0;31m             \u001b[0;32mreturn\u001b[0m \u001b[0mself\u001b[0m\u001b[0;34m[\u001b[0m\u001b[0mkey\u001b[0m\u001b[0;34m]\u001b[0m\u001b[0;34m\u001b[0m\u001b[0m\n\u001b[0m\u001b[1;32m     96\u001b[0m         \u001b[0;32mexcept\u001b[0m \u001b[0mKeyError\u001b[0m\u001b[0;34m:\u001b[0m\u001b[0;34m\u001b[0m\u001b[0m\n",
      "\u001b[0;32m~/.pyenv/versions/anaconda3-5.0.0/lib/python3.6/site-packages/pyrsistent/_pmap.py\u001b[0m in \u001b[0;36m__getitem__\u001b[0;34m(self, key)\u001b[0m\n\u001b[1;32m     70\u001b[0m     \u001b[0;32mdef\u001b[0m \u001b[0m__getitem__\u001b[0m\u001b[0;34m(\u001b[0m\u001b[0mself\u001b[0m\u001b[0;34m,\u001b[0m \u001b[0mkey\u001b[0m\u001b[0;34m)\u001b[0m\u001b[0;34m:\u001b[0m\u001b[0;34m\u001b[0m\u001b[0m\n\u001b[0;32m---> 71\u001b[0;31m         \u001b[0;32mreturn\u001b[0m \u001b[0mPMap\u001b[0m\u001b[0;34m.\u001b[0m\u001b[0m_getitem\u001b[0m\u001b[0;34m(\u001b[0m\u001b[0mself\u001b[0m\u001b[0;34m.\u001b[0m\u001b[0m_buckets\u001b[0m\u001b[0;34m,\u001b[0m \u001b[0mkey\u001b[0m\u001b[0;34m)\u001b[0m\u001b[0;34m\u001b[0m\u001b[0m\n\u001b[0m\u001b[1;32m     72\u001b[0m \u001b[0;34m\u001b[0m\u001b[0m\n",
      "\u001b[0;32m~/.pyenv/versions/anaconda3-5.0.0/lib/python3.6/site-packages/pyrsistent/_pmap.py\u001b[0m in \u001b[0;36m_getitem\u001b[0;34m(buckets, key)\u001b[0m\n\u001b[1;32m     67\u001b[0m \u001b[0;34m\u001b[0m\u001b[0m\n\u001b[0;32m---> 68\u001b[0;31m         \u001b[0;32mraise\u001b[0m \u001b[0mKeyError\u001b[0m\u001b[0;34m(\u001b[0m\u001b[0mkey\u001b[0m\u001b[0;34m)\u001b[0m\u001b[0;34m\u001b[0m\u001b[0m\n\u001b[0m\u001b[1;32m     69\u001b[0m \u001b[0;34m\u001b[0m\u001b[0m\n",
      "\u001b[0;31mKeyError\u001b[0m: 'Utility'",
      "\nDuring handling of the above exception, another exception occurred:\n",
      "\u001b[0;31mAttributeError\u001b[0m                            Traceback (most recent call last)",
      "\u001b[0;32m<ipython-input-43-daf9c79bff77>\u001b[0m in \u001b[0;36m<module>\u001b[0;34m()\u001b[0m\n\u001b[0;32m----> 1\u001b[0;31m \u001b[0me1\u001b[0m\u001b[0;34m.\u001b[0m\u001b[0mset\u001b[0m\u001b[0;34m(\u001b[0m\u001b[0mUtility\u001b[0m \u001b[0;34m=\u001b[0m \u001b[0mr1\u001b[0m\u001b[0;34m.\u001b[0m\u001b[0mTruck\u001b[0m \u001b[0;34m+\u001b[0m \u001b[0mr1\u001b[0m\u001b[0;34m.\u001b[0m\u001b[0mUtility\u001b[0m\u001b[0;34m)\u001b[0m\u001b[0;34m\u001b[0m\u001b[0m\n\u001b[0m",
      "\u001b[0;32m~/.pyenv/versions/anaconda3-5.0.0/lib/python3.6/site-packages/pyrsistent/_pmap.py\u001b[0m in \u001b[0;36m__getattr__\u001b[0;34m(self, key)\u001b[0m\n\u001b[1;32m     96\u001b[0m         \u001b[0;32mexcept\u001b[0m \u001b[0mKeyError\u001b[0m\u001b[0;34m:\u001b[0m\u001b[0;34m\u001b[0m\u001b[0m\n\u001b[1;32m     97\u001b[0m             raise AttributeError(\n\u001b[0;32m---> 98\u001b[0;31m                 \u001b[0;34m\"{0} has no attribute '{1}'\"\u001b[0m\u001b[0;34m.\u001b[0m\u001b[0mformat\u001b[0m\u001b[0;34m(\u001b[0m\u001b[0mtype\u001b[0m\u001b[0;34m(\u001b[0m\u001b[0mself\u001b[0m\u001b[0;34m)\u001b[0m\u001b[0;34m.\u001b[0m\u001b[0m__name__\u001b[0m\u001b[0;34m,\u001b[0m \u001b[0mkey\u001b[0m\u001b[0;34m)\u001b[0m\u001b[0;34m\u001b[0m\u001b[0m\n\u001b[0m\u001b[1;32m     99\u001b[0m             )\n\u001b[1;32m    100\u001b[0m \u001b[0;34m\u001b[0m\u001b[0m\n",
      "\u001b[0;31mAttributeError\u001b[0m: Row has no attribute 'Utility'"
     ]
    }
   ],
   "source": [
    "e1.set(Utility = r1.Truck + r1.Utility)"
   ]
  },
  {
   "cell_type": "markdown",
   "metadata": {},
   "source": [
    "## Use a `PRecord` to store the Column index "
   ]
  },
  {
   "cell_type": "code",
   "execution_count": null,
   "metadata": {},
   "outputs": [],
   "source": [
    "Columns = type('Columns', (PRecord,) {'columns': })"
   ]
  },
  {
   "cell_type": "markdown",
   "metadata": {},
   "source": [
    "## Initial Testing with `column` (universe) and `set` (current collection)"
   ]
  },
  {
   "cell_type": "code",
   "execution_count": 260,
   "metadata": {},
   "outputs": [],
   "source": [
    "from pyrsistent import pset, pset_field, pvector_field, PRecord\n",
    "\n",
    "_COMPARISON_METHODS = ['__ne__',\n",
    "                       '__ge__', \n",
    "                       '__lt__', \n",
    "                       '__eq__', \n",
    "                       '__gt__', \n",
    "                       'issuperset', \n",
    "                       'issubset',\n",
    "                       '__contains__', \n",
    "                       'isdisjoint',\n",
    "                       '__le__']\n",
    "\n",
    "_UNARY_OPERATIONS = ['__len__', \n",
    "                     '__sizeof__'] \n",
    "\n",
    "_SET_OPERATIONS = ['__and__', \n",
    "                   '__sub__', \n",
    "                   '__or__',  \n",
    "                   '__xor__', \n",
    "                   'union', \n",
    "                   'intersection', \n",
    "                   'difference', \n",
    "                   'symmetric_difference', \n",
    "                   'update']\n",
    "\n",
    "\n",
    "def wrap_comparison_method(method_name):\n",
    "    def magic_method(self, other):\n",
    "        if isinstance(other, PRecord) and hasattr(other, 'current_set'): \n",
    "            return getattr(self.current_set, method_name)(other.current_set)\n",
    "        else:\n",
    "            return getattr(self.current_set, method_name)(other)\n",
    "    return magic_method\n",
    "\n",
    "\n",
    "def wrap_unary_method(method_name):\n",
    "    def magic_method(self):\n",
    "        return getattr(self.current_set, method_name)()\n",
    "    return magic_method\n",
    "\n",
    "\n",
    "def wrap_set_operations(method_name):\n",
    "    def magic_method(self, other):\n",
    "        if isinstance(other, PRecord) and hasattr(other, 'current_set'): \n",
    "            current_set = getattr(self.current_set, method_name)(other.current_set)\n",
    "        else:\n",
    "            current_set = getattr(self.current_set, method_name)(other)\n",
    "        return self.__class__(all_columns = self.all_columns, current_set=current_set)\n",
    "    return magic_method\n",
    "\n",
    "\n",
    "def column_invert(self):\n",
    "    current_set = pset(self.all_columns) - self.current_set\n",
    "    return self.__class__(all_columns=self.all_columns, current_set=current_set)\n",
    "\n",
    "def column_iter(self):\n",
    "    for item in self.current_set:\n",
    "        yield item\n",
    "\n",
    "class Columns(PRecord):\n",
    "    all_columns = pvector_field(str)\n",
    "    current_set = pset_field(str)\n",
    "    \n",
    "    \n",
    "for method in _COMPARISON_METHODS:\n",
    "    setattr(Columns, method, wrap_comparison_method(method))\n",
    "\n",
    "for method in _UNARY_OPERATIONS:\n",
    "    setattr(Columns, method, wrap_unary_method(method))\n",
    "    \n",
    "for method in _SET_OPERATIONS:\n",
    "    setattr(Columns, method, wrap_set_operations(method))\n",
    "    \n",
    "setattr(Columns, '__invert__', column_invert)\n",
    "setattr(Columns, '__iter__', lambda self: self.current_set.__iter__())"
   ]
  },
  {
   "cell_type": "code",
   "execution_count": 261,
   "metadata": {},
   "outputs": [],
   "source": [
    "# Things I decided to remove\n",
    "_set_methods_return_set = ['remove', \n",
    "                           'copy', \n",
    "                           'discard', \n",
    "                           'add']"
   ]
  },
  {
   "cell_type": "code",
   "execution_count": 288,
   "metadata": {},
   "outputs": [],
   "source": [
    "columns = ['Salesperson', 'Compact', 'Sedan', 'SUV', 'Truck']\n",
    "c1 = Columns(all_columns=columns, current_set=columns)\n",
    "c2 = Columns(all_columns=columns, current_set=columns)\n",
    "c3 = Columns(all_columns=columns, current_set=pset(['Truck','SUV']))\n",
    "\n",
    "def check_membership(items, cols):\n",
    "    return all(i in items for i in cols)\n",
    "def check_equality(items, cols):\n",
    "    return pset(items) == cols\n",
    "\n",
    "assert check_equality(['Compact', 'Truck', 'Salesperson', 'Sedan', 'SUV'], ~(c1 ^ c1))\n",
    "assert not c1 != c1\n",
    "assert not c1 != c2\n",
    "assert c1 != c3\n",
    "assert check_membership(['Compact', 'Salesperson', 'Sedan'], c1 ^ c1)\n",
    "assert check_equality([],  c1 ^ c2)\n",
    "assert check_equality(['Compact', 'Salesperson', 'Sedan'], c1 ^ c3)\n",
    "assert check_equality(['Compact', 'Truck', 'Salesperson', 'Sedan', 'SUV'], ~(c1 ^ c2))\n",
    "assert check_equality(['Truck', 'SUV'], ~(c1 ^ c3))\n",
    "assert check_equality(columns, c1 & c1)\n",
    "assert check_equality(columns, c1 & c2)\n",
    "assert check_equality(['Truck', 'SUV'], c1 & c3)\n",
    "assert check_equality([], c1 - c1)\n",
    "assert check_equality([], c1 - c2)\n",
    "assert check_equality(['Compact', 'Salesperson', 'Sedan'], c1 - c3)\n",
    "assert check_equality(['Truck', 'SUV'], ~(c1 - c3))"
   ]
  },
  {
   "cell_type": "code",
   "execution_count": 291,
   "metadata": {},
   "outputs": [],
   "source": [
    "def make_unique_column_name():\n",
    "    n = 0\n",
    "    def col_maker():\n",
    "        nonlocal n\n",
    "        n += 1\n",
    "        return 'Column' + str(n)\n",
    "    return col_maker"
   ]
  },
  {
   "cell_type": "code",
   "execution_count": 293,
   "metadata": {},
   "outputs": [
    {
     "name": "stdout",
     "output_type": "stream",
     "text": [
      "Column1\n",
      "Column2\n",
      "Column3\n",
      "Column4\n",
      "Column5\n"
     ]
    }
   ],
   "source": [
    "col_name = make_unique_column_name()\n",
    "for i in range(5):\n",
    "    print(col_name())\n"
   ]
  },
  {
   "cell_type": "code",
   "execution_count": 294,
   "metadata": {},
   "outputs": [],
   "source": [
    "\n",
    "def make_current_column_class():\n",
    "    col_names = make_unique_column_name()\n",
    "    def column_class_maker(columns):\n",
    "        cls_name = col_names()\n",
    "        return \n",
    "    "
   ]
  },
  {
   "cell_type": "code",
   "execution_count": 336,
   "metadata": {},
   "outputs": [],
   "source": [
    "def column_fields(columns):\n",
    "    return {n:field(factory=lambda s: Columns(all_columns=columns, current_set=pset([s]))) for n in columns if n.isidentifier()}\n",
    "\n",
    "\n",
    "def make_column_type(columns):\n",
    "    return type(col_name(), (Columns, ), column_fields(columns))"
   ]
  },
  {
   "cell_type": "code",
   "execution_count": 337,
   "metadata": {},
   "outputs": [
    {
     "data": {
      "text/plain": [
       "{'Salesperson': <pyrsistent._field_common._PField at 0x117bdeaf0>,\n",
       " 'Compact': <pyrsistent._field_common._PField at 0x117bdeeb8>,\n",
       " 'Sedan': <pyrsistent._field_common._PField at 0x117bac258>,\n",
       " 'SUV': <pyrsistent._field_common._PField at 0x117bac200>,\n",
       " 'Truck': <pyrsistent._field_common._PField at 0x117bac1a8>}"
      ]
     },
     "execution_count": 337,
     "metadata": {},
     "output_type": "execute_result"
    }
   ],
   "source": [
    "cols = column_fields(columns)\n",
    "cols"
   ]
  },
  {
   "cell_type": "code",
   "execution_count": 338,
   "metadata": {},
   "outputs": [],
   "source": [
    "?pmap({'a':1, 'b':2}).update_with"
   ]
  },
  {
   "cell_type": "code",
   "execution_count": 339,
   "metadata": {},
   "outputs": [
    {
     "data": {
      "text/plain": [
       "pmap({'Compact': 'Compact', 'Truck': 'Truck', 'SUV': 'SUV', 'current_set': ['Salesperson', 'Compact', 'Sedan', 'SUV', 'Truck'], 'Salesperson': 'Salesperson', 'Sedan': 'Sedan', 'all_columns': ['Salesperson', 'Compact', 'Sedan', 'SUV', 'Truck']})"
      ]
     },
     "execution_count": 339,
     "metadata": {},
     "output_type": "execute_result"
    }
   ],
   "source": [
    "def make_columns_input(columns):\n",
    "    output = pmap({'all_columns':columns,\n",
    "                   'current_set':columns})\n",
    "    return output.update({n:n for n in columns})\n",
    "make_columns_input(columns)"
   ]
  },
  {
   "cell_type": "code",
   "execution_count": 342,
   "metadata": {},
   "outputs": [
    {
     "data": {
      "text/plain": [
       "Column18(Compact=Columns(current_set=StrPSet(['Compact']), all_columns=StrPVector(['Salesperson', 'Compact', 'Sedan', 'SUV', 'Truck'])), Truck=Columns(current_set=StrPSet(['Truck']), all_columns=StrPVector(['Salesperson', 'Compact', 'Sedan', 'SUV', 'Truck'])), SUV=Columns(current_set=StrPSet(['SUV']), all_columns=StrPVector(['Salesperson', 'Compact', 'Sedan', 'SUV', 'Truck'])), current_set=StrPSet(['Compact', 'Truck', 'Salesperson', 'Sedan', 'SUV']), Salesperson=Columns(current_set=StrPSet(['Salesperson']), all_columns=StrPVector(['Salesperson', 'Compact', 'Sedan', 'SUV', 'Truck'])), Sedan=Columns(current_set=StrPSet(['Sedan']), all_columns=StrPVector(['Salesperson', 'Compact', 'Sedan', 'SUV', 'Truck'])), all_columns=StrPVector(['Salesperson', 'Compact', 'Sedan', 'SUV', 'Truck']))"
      ]
     },
     "execution_count": 342,
     "metadata": {},
     "output_type": "execute_result"
    }
   ],
   "source": [
    "def make_columns(columns):\n",
    "    return make_column_type(columns)(**make_columns_input(columns))\n",
    "cols = make_columns(columns)\n",
    "cols"
   ]
  },
  {
   "cell_type": "code",
   "execution_count": 345,
   "metadata": {},
   "outputs": [
    {
     "data": {
      "text/plain": [
       "Columns(current_set=StrPSet(['Truck', 'Salesperson']), all_columns=StrPVector(['Salesperson', 'Compact', 'Sedan', 'SUV', 'Truck']))"
      ]
     },
     "execution_count": 345,
     "metadata": {},
     "output_type": "execute_result"
    }
   ],
   "source": [
    "cols.Salesperson + cols.Truck"
   ]
  },
  {
   "cell_type": "code",
   "execution_count": 346,
   "metadata": {},
   "outputs": [
    {
     "data": {
      "text/plain": [
       "Columns(current_set=StrPSet(['Compact', 'SUV', 'Sedan']), all_columns=StrPVector(['Salesperson', 'Compact', 'Sedan', 'SUV', 'Truck']))"
      ]
     },
     "execution_count": 346,
     "metadata": {},
     "output_type": "execute_result"
    }
   ],
   "source": [
    "~(cols.Salesperson + cols.Truck)"
   ]
  },
  {
   "cell_type": "markdown",
   "metadata": {},
   "source": [
    "## Intensions on column precord\n",
    "\n",
    "Applying an col record gives col names"
   ]
  },
  {
   "cell_type": "code",
   "execution_count": 431,
   "metadata": {},
   "outputs": [
    {
     "data": {
      "text/plain": [
       "Column23(Compact=Columns(current_set=StrPSet(['Compact']), all_columns=StrPVector(['Salesperson', 'Compact', 'Sedan', 'SUV', 'Truck'])), Truck=Columns(current_set=StrPSet(['Truck']), all_columns=StrPVector(['Salesperson', 'Compact', 'Sedan', 'SUV', 'Truck'])), SUV=Columns(current_set=StrPSet(['SUV']), all_columns=StrPVector(['Salesperson', 'Compact', 'Sedan', 'SUV', 'Truck'])), current_set=StrPSet(['Compact', 'Truck', 'Salesperson', 'Sedan', 'SUV']), Salesperson=Columns(current_set=StrPSet(['Salesperson']), all_columns=StrPVector(['Salesperson', 'Compact', 'Sedan', 'SUV', 'Truck'])), Sedan=Columns(current_set=StrPSet(['Sedan']), all_columns=StrPVector(['Salesperson', 'Compact', 'Sedan', 'SUV', 'Truck'])), all_columns=StrPVector(['Salesperson', 'Compact', 'Sedan', 'SUV', 'Truck']))"
      ]
     },
     "execution_count": 431,
     "metadata": {},
     "output_type": "execute_result"
    }
   ],
   "source": [
    "from dfply import Intention\n",
    "from dfply.base import _set_magic_method\n",
    "\n",
    "setattr(Intention, '__invert__', _set_magic_method('__invert__'))\n",
    "columns = ['Salesperson', 'Compact', 'Sedan', 'SUV', 'Truck']\n",
    "cols = make_columns(columns)\n",
    "cols"
   ]
  },
  {
   "cell_type": "code",
   "execution_count": 434,
   "metadata": {},
   "outputs": [],
   "source": [
    "e1 = X.SUV\n",
    "e2 = X.Truck\n",
    "e3 = e1 + e2\n",
    "e4 = ~e3"
   ]
  },
  {
   "cell_type": "markdown",
   "metadata": {},
   "source": [
    "## <font color=red>TODO: Need to add `__invert__` to Intension</font>"
   ]
  },
  {
   "cell_type": "code",
   "execution_count": 435,
   "metadata": {},
   "outputs": [
    {
     "data": {
      "text/plain": [
       "(Columns(current_set=StrPSet(['SUV']), all_columns=StrPVector(['Salesperson', 'Compact', 'Sedan', 'SUV', 'Truck'])),\n",
       " Columns(current_set=StrPSet(['Truck']), all_columns=StrPVector(['Salesperson', 'Compact', 'Sedan', 'SUV', 'Truck'])),\n",
       " Columns(current_set=StrPSet(['Truck', 'SUV']), all_columns=StrPVector(['Salesperson', 'Compact', 'Sedan', 'SUV', 'Truck'])),\n",
       " Columns(current_set=StrPSet(['Compact', 'Salesperson', 'Sedan']), all_columns=StrPVector(['Salesperson', 'Compact', 'Sedan', 'SUV', 'Truck'])))"
      ]
     },
     "execution_count": 435,
     "metadata": {},
     "output_type": "execute_result"
    }
   ],
   "source": [
    "a1 = e1.evaluate(cols)\n",
    "a2 = e2.evaluate(cols)\n",
    "a3 = e3.evaluate(cols)\n",
    "a4 = e4.evaluate(cols)\n",
    "a1, a2, a3, a4"
   ]
  },
  {
   "cell_type": "markdown",
   "metadata": {},
   "source": [
    "## Old version that returned strings"
   ]
  },
  {
   "cell_type": "code",
   "execution_count": 30,
   "metadata": {},
   "outputs": [],
   "source": [
    "def wrapped_tuples(method_names, wrapper):\n",
    "    return tuple((name, wrapper(name)) for name in method_names)\n",
    "\n",
    "    \n",
    "def wrap_method(method_name):\n",
    "    \"\"\"Makes a magic method that defers to the columns field\"\"\"\n",
    "    def magic_method(self, *args, **kwargs):\n",
    "        return getattr(self.columns, method_name)(*args, **kwargs)\n",
    "    return magic_method\n",
    "\n",
    "\n",
    "_other_set_methods = ['__len__', \n",
    "                      '__contains__', \n",
    "                      '__sizeof__', \n",
    "                      'issuperset', \n",
    "                      'isdisjoint', \n",
    "                      'issubset',\n",
    "                      'union', \n",
    "                      'remove', \n",
    "                      'intersection', \n",
    "                      'difference', \n",
    "                      'copy', \n",
    "                      'discard', \n",
    "                      'symmetric_difference', \n",
    "                      'update',\n",
    "                      'add']\n",
    "\n",
    "_set_methods = (wrapped_tuples(_comparison_methods, wrap_comparison_method) + \n",
    "                wrapped_tuples(_other_set_methods, wrap_method) +\n",
    "               (('negate', lambda self, *args: self.columns - pset(args)), ))"
   ]
  },
  {
   "cell_type": "code",
   "execution_count": 36,
   "metadata": {},
   "outputs": [],
   "source": [
    "def make_Columns_class(columns):\n",
    "    return type('Columns', (PRecord,), {'all_columns':pset_field(str), 'current_set':pset_field(str)})"
   ]
  },
  {
   "cell_type": "code",
   "execution_count": 46,
   "metadata": {},
   "outputs": [
    {
     "data": {
      "text/plain": [
       "Columns(current_set=StrPSet(['Compact', 'Truck', 'Salesperson', 'Sedan', 'SUV']), all_columns=StrPSet(['Compact', 'Truck', 'Salesperson', 'Sedan', 'SUV']))"
      ]
     },
     "execution_count": 46,
     "metadata": {},
     "output_type": "execute_result"
    }
   ],
   "source": [
    "import pyrsistent\n",
    "Cols = make_Columns_class(columns)\n",
    "cols = Cols(all_columns = columns, current_set = columns)\n",
    "cols"
   ]
  },
  {
   "cell_type": "code",
   "execution_count": null,
   "metadata": {},
   "outputs": [],
   "source": [
    "def col_field(cls, name):\n",
    "    def method(self):"
   ]
  },
  {
   "cell_type": "code",
   "execution_count": 28,
   "metadata": {},
   "outputs": [
    {
     "data": {
      "text/plain": [
       "(('Salesperson', <pyrsistent._field_common._PField at 0x117abb410>),\n",
       " ('Compact', <pyrsistent._field_common._PField at 0x117abb048>),\n",
       " ('Sedan', <pyrsistent._field_common._PField at 0x117abb0f8>),\n",
       " ('SUV', <pyrsistent._field_common._PField at 0x117abb150>),\n",
       " ('Truck', <pyrsistent._field_common._PField at 0x117abb1a8>),\n",
       " ('columns', <pyrsistent._field_common._PField at 0x117abb468>),\n",
       " ('set', <pyrsistent._field_common._PField at 0x117abb258>))"
      ]
     },
     "execution_count": 28,
     "metadata": {},
     "output_type": "execute_result"
    }
   ],
   "source": [
    "fields = col_fields(columns)\n",
    "fields"
   ]
  },
  {
   "cell_type": "markdown",
   "metadata": {},
   "source": [
    "## Initial Testing"
   ]
  },
  {
   "cell_type": "code",
   "execution_count": 22,
   "metadata": {},
   "outputs": [],
   "source": [
    "from pyrsistent import pset, pset_field\n",
    "\n",
    "def col_fields(columns):\n",
    "    return tuple((name,field(str)) for name in columns) + (('columns', pset_field(str)),)\n",
    "\n",
    "\n",
    "\n",
    "# TODO: Think about how to return a new columns object\n"
   ]
  },
  {
   "cell_type": "code",
   "execution_count": 577,
   "metadata": {},
   "outputs": [
    {
     "ename": "TypeError",
     "evalue": "wrapped_tuples() missing 1 required positional argument: 'wrapper'",
     "output_type": "error",
     "traceback": [
      "\u001b[0;31m---------------------------------------------------------------------------\u001b[0m",
      "\u001b[0;31mTypeError\u001b[0m                                 Traceback (most recent call last)",
      "\u001b[0;32m<ipython-input-577-9498a1c1dd32>\u001b[0m in \u001b[0;36m<module>\u001b[0;34m()\u001b[0m\n\u001b[1;32m     28\u001b[0m \u001b[0;34m\u001b[0m\u001b[0m\n\u001b[1;32m     29\u001b[0m \u001b[0;34m\u001b[0m\u001b[0m\n\u001b[0;32m---> 30\u001b[0;31m \u001b[0m_other_set_methods_wrapped\u001b[0m \u001b[0;34m=\u001b[0m \u001b[0mwrapped_tuples\u001b[0m\u001b[0;34m(\u001b[0m\u001b[0m_other_set_methods\u001b[0m\u001b[0;34m)\u001b[0m\u001b[0;34m\u001b[0m\u001b[0m\n\u001b[0m\u001b[1;32m     31\u001b[0m \u001b[0m_set_methods\u001b[0m \u001b[0;34m=\u001b[0m \u001b[0mtuple\u001b[0m\u001b[0;34m(\u001b[0m\u001b[0;34m(\u001b[0m\u001b[0mname\u001b[0m\u001b[0;34m,\u001b[0m \u001b[0mwrap_method\u001b[0m\u001b[0;34m(\u001b[0m\u001b[0mname\u001b[0m\u001b[0;34m)\u001b[0m\u001b[0;34m)\u001b[0m \u001b[0;32mfor\u001b[0m \u001b[0mname\u001b[0m \u001b[0;32min\u001b[0m \u001b[0m_set_methods_return_set\u001b[0m \u001b[0;34m+\u001b[0m \u001b[0m_other_set_methods\u001b[0m\u001b[0;34m)\u001b[0m\u001b[0;34m\u001b[0m\u001b[0m\n\u001b[1;32m     32\u001b[0m \u001b[0m_set_methods\u001b[0m \u001b[0;34m=\u001b[0m \u001b[0m_set_methods\u001b[0m \u001b[0;34m+\u001b[0m \u001b[0;34m(\u001b[0m\u001b[0;34m(\u001b[0m\u001b[0;34m'negate'\u001b[0m\u001b[0;34m,\u001b[0m \u001b[0;32mlambda\u001b[0m \u001b[0mself\u001b[0m\u001b[0;34m,\u001b[0m \u001b[0;34m*\u001b[0m\u001b[0margs\u001b[0m\u001b[0;34m:\u001b[0m \u001b[0mself\u001b[0m\u001b[0;34m.\u001b[0m\u001b[0mcolumns\u001b[0m \u001b[0;34m-\u001b[0m \u001b[0mpset\u001b[0m\u001b[0;34m(\u001b[0m\u001b[0margs\u001b[0m\u001b[0;34m)\u001b[0m\u001b[0;34m)\u001b[0m\u001b[0;34m,\u001b[0m \u001b[0;34m)\u001b[0m\u001b[0;34m\u001b[0m\u001b[0m\n",
      "\u001b[0;31mTypeError\u001b[0m: wrapped_tuples() missing 1 required positional argument: 'wrapper'"
     ]
    }
   ],
   "source": [
    "_other_set_methods = ['__len__', \n",
    "                      '__ne__',\n",
    "                      '__ge__', \n",
    "                      '__lt__', \n",
    "                      '__eq__', \n",
    "                      'issuperset', \n",
    "                      '__or__', \n",
    "                      '__contains__', \n",
    "                      '__sizeof__', \n",
    "                      'isdisjoint', \n",
    "                      'issubset',\n",
    "                      '__gt__', \n",
    "                      '__le__']\n",
    "\n",
    "_set_methods_return_set = ['__and__', \n",
    "                           '__sub__', \n",
    "                           'union', \n",
    "                           'remove', \n",
    "                           '__or__',  \n",
    "                           '__xor__', \n",
    "                           'intersection', \n",
    "                           'difference', \n",
    "                           'copy', \n",
    "                           'discard', \n",
    "                           'symmetric_difference', \n",
    "                           'update',\n",
    "                           'add']\n",
    "\n",
    "\n",
    "_other_set_methods_wrapped = wrapped_tuples(_other_set_methods) \n",
    "_set_methods = tuple((name, wrap_method(name)) for name in _set_methods_return_set + _other_set_methods)\n",
    "_set_methods = _set_methods + (('negate', lambda self, *args: self.columns - pset(args)), )"
   ]
  },
  {
   "cell_type": "code",
   "execution_count": 473,
   "metadata": {},
   "outputs": [],
   "source": [
    "_comparison_methods = ['__ne__',\n",
    "                      '__ge__', \n",
    "                      '__lt__', \n",
    "                      '__eq__', \n",
    "                      '__or__', \n",
    "                      '__gt__', \n",
    "                      '__le__',\n",
    "                      '__and__', \n",
    "                      '__sub__', \n",
    "                      '__or__',  \n",
    "                      '__xor__']\n",
    "\n",
    "def wrap_comparison_method(method_name):\n",
    "    msg = 'Set comparison require both object be Column Record'\n",
    "    def magic_method(self, other):\n",
    "        if isinstance(other, PRecord) and hasattr(other, 'columns'): \n",
    "            return getattr(self.columns, method_name)(other.columns)\n",
    "        else:\n",
    "            return getattr(self.columns, method_name)(other)\n",
    "    return magic_method\n",
    "\n",
    "def wrapped_tuples(method_names, wrapper):\n",
    "    return tuple((name, wrapper(name)) for name in method_names)\n",
    "\n",
    "    \n",
    "def wrap_method(method_name):\n",
    "    \"\"\"Makes a magic method that defers to the columns field\"\"\"\n",
    "    def magic_method(self, *args, **kwargs):\n",
    "        return getattr(self.columns, method_name)(*args, **kwargs)\n",
    "    return magic_method\n",
    "\n",
    "\n",
    "_other_set_methods = ['__len__', \n",
    "                      '__contains__', \n",
    "                      '__sizeof__', \n",
    "                      'issuperset', \n",
    "                      'isdisjoint', \n",
    "                      'issubset',\n",
    "                      'union', \n",
    "                      'remove', \n",
    "                      'intersection', \n",
    "                      'difference', \n",
    "                      'copy', \n",
    "                      'discard', \n",
    "                      'symmetric_difference', \n",
    "                      'update',\n",
    "                      'add']\n",
    "\n",
    "_set_methods = (wrapped_tuples(_comparison_methods, wrap_comparison_method) + \n",
    "                wrapped_tuples(_other_set_methods, wrap_method) +\n",
    "               (('negate', lambda self, *args: self.columns - pset(args)), ))"
   ]
  },
  {
   "cell_type": "code",
   "execution_count": 474,
   "metadata": {},
   "outputs": [],
   "source": [
    "def wrap_in_class(cls, method_name):\n",
    "    def magic_method(self, *args, **kwargs):\n",
    "        output = getattr(self.columns, method_name)(*args, **kwargs)\n",
    "        return cls(**make_field_values(output)) \n",
    "    return magic_method\n",
    "\n",
    "def decorate_method_returns_column(method):\n",
    "    def magic_method(self, *args, **kwargs):\n",
    "        output = method(self, *args, **kwargs)\n",
    "        Cols = type('Columns', (PRecord,), dict(fields(output) + _set_methods))\n",
    "        for name in _set_methods_return_set:\n",
    "            setattr(Cols, name, wrap_in_class(Cols, name))\n",
    "        return Cols(**make_field_values(output)) \n",
    "    return magic_method"
   ]
  },
  {
   "cell_type": "code",
   "execution_count": 475,
   "metadata": {},
   "outputs": [
    {
     "data": {
      "text/plain": [
       "{'Salesperson': 'Salesperson',\n",
       " 'Compact': 'Compact',\n",
       " 'Sedan': 'Sedan',\n",
       " 'SUV': 'SUV',\n",
       " 'Truck': 'Truck',\n",
       " 'columns': pset(['Salesperson', 'SUV', 'Truck', 'Sedan', 'Compact'])}"
      ]
     },
     "execution_count": 475,
     "metadata": {},
     "output_type": "execute_result"
    }
   ],
   "source": [
    "def make_field_values(columns):\n",
    "    return dict(tuple(zip(columns, columns)) + (('columns', pset(columns)),))\n",
    "make_field_values(columns)"
   ]
  },
  {
   "cell_type": "code",
   "execution_count": 505,
   "metadata": {},
   "outputs": [],
   "source": [
    "def make_column_record(columns):\n",
    "    if isinstance(columns, PRecord) and hasattr(columns, 'columns'):\n",
    "        columns = columns.columns\n",
    "    Col =  type('Columns', (PRecord,), dict(col_fields(columns) + _set_methods))\n",
    "    return Col(**make_field_values(columns))\n",
    "    "
   ]
  },
  {
   "cell_type": "code",
   "execution_count": 506,
   "metadata": {
    "scrolled": false
   },
   "outputs": [
    {
     "data": {
      "text/plain": [
       "Columns(Salesperson='Salesperson', SUV='SUV', Truck='Truck', Sedan='Sedan', columns=StrPSet(['Salesperson', 'SUV', 'Truck', 'Sedan', 'Compact']), Compact='Compact')"
      ]
     },
     "execution_count": 506,
     "metadata": {},
     "output_type": "execute_result"
    }
   ],
   "source": [
    "cols = make_column_record(columns)\n",
    "cols"
   ]
  },
  {
   "cell_type": "code",
   "execution_count": 507,
   "metadata": {},
   "outputs": [
    {
     "data": {
      "text/plain": [
       "True"
      ]
     },
     "execution_count": 507,
     "metadata": {},
     "output_type": "execute_result"
    }
   ],
   "source": [
    "isinstance(cols, PRecord)"
   ]
  },
  {
   "cell_type": "markdown",
   "metadata": {},
   "source": [
    "## Column fields return columns names (strings)"
   ]
  },
  {
   "cell_type": "code",
   "execution_count": 1,
   "metadata": {},
   "outputs": [
    {
     "ename": "NameError",
     "evalue": "name 'cols' is not defined",
     "output_type": "error",
     "traceback": [
      "\u001b[0;31m---------------------------------------------------------------------------\u001b[0m",
      "\u001b[0;31mNameError\u001b[0m                                 Traceback (most recent call last)",
      "\u001b[0;32m<ipython-input-1-477533ef7e54>\u001b[0m in \u001b[0;36m<module>\u001b[0;34m()\u001b[0m\n\u001b[0;32m----> 1\u001b[0;31m \u001b[0mcols\u001b[0m\u001b[0;34m.\u001b[0m\u001b[0mTruck\u001b[0m\u001b[0;34m\u001b[0m\u001b[0m\n\u001b[0m",
      "\u001b[0;31mNameError\u001b[0m: name 'cols' is not defined"
     ]
    }
   ],
   "source": [
    "cols.Truck"
   ]
  },
  {
   "cell_type": "code",
   "execution_count": 514,
   "metadata": {},
   "outputs": [
    {
     "data": {
      "text/plain": [
       "Columns(Salesperson='Salesperson', SUV='SUV', Truck='Truck', Sedan='Sedan', columns=StrPSet(['Salesperson', 'SUV', 'Truck', 'Sedan', 'Compact']), Compact='Compact')"
      ]
     },
     "execution_count": 514,
     "metadata": {},
     "output_type": "execute_result"
    }
   ],
   "source": [
    "make_column_record(cols)"
   ]
  },
  {
   "cell_type": "markdown",
   "metadata": {},
   "source": [
    "## Use the `negate` method to negate a column list"
   ]
  },
  {
   "cell_type": "code",
   "execution_count": 509,
   "metadata": {},
   "outputs": [
    {
     "data": {
      "text/plain": [
       "pset(['SUV', 'Truck', 'Sedan', 'Compact'])"
      ]
     },
     "execution_count": 509,
     "metadata": {},
     "output_type": "execute_result"
    }
   ],
   "source": [
    "cols.negate('Salesperson')"
   ]
  },
  {
   "cell_type": "code",
   "execution_count": 510,
   "metadata": {},
   "outputs": [
    {
     "data": {
      "text/plain": [
       "pset(['SUV', 'Sedan', 'Compact'])"
      ]
     },
     "execution_count": 510,
     "metadata": {},
     "output_type": "execute_result"
    }
   ],
   "source": [
    "cols.negate(cols.Salesperson, cols.Truck)"
   ]
  },
  {
   "cell_type": "markdown",
   "metadata": {},
   "source": [
    "## Use set operations\n",
    "\n",
    "**Useful for select and select helpers**\n",
    "\n",
    "Note: These will then need to be recast as a new Columns class"
   ]
  },
  {
   "cell_type": "code",
   "execution_count": 511,
   "metadata": {},
   "outputs": [
    {
     "data": {
      "text/plain": [
       "(True, False)"
      ]
     },
     "execution_count": 511,
     "metadata": {},
     "output_type": "execute_result"
    }
   ],
   "source": [
    "'Salesperson' in cols, 'Todd' in cols"
   ]
  },
  {
   "cell_type": "code",
   "execution_count": 512,
   "metadata": {},
   "outputs": [
    {
     "data": {
      "text/plain": [
       "5"
      ]
     },
     "execution_count": 512,
     "metadata": {},
     "output_type": "execute_result"
    }
   ],
   "source": [
    "len(cols)"
   ]
  },
  {
   "cell_type": "code",
   "execution_count": 484,
   "metadata": {},
   "outputs": [
    {
     "data": {
      "text/plain": [
       "pset(['SUV', 'Sedan', 'Compact'])"
      ]
     },
     "execution_count": 484,
     "metadata": {},
     "output_type": "execute_result"
    }
   ],
   "source": [
    "names = make_column_record(['Salesperson', 'Truck'])\n",
    "cols - names "
   ]
  },
  {
   "cell_type": "code",
   "execution_count": 485,
   "metadata": {},
   "outputs": [
    {
     "data": {
      "text/plain": [
       "pset(['SUV', 'Sedan', 'Compact'])"
      ]
     },
     "execution_count": 485,
     "metadata": {},
     "output_type": "execute_result"
    }
   ],
   "source": [
    "names = ['Salesperson', 'Truck']\n",
    "cols - names "
   ]
  },
  {
   "cell_type": "code",
   "execution_count": 486,
   "metadata": {},
   "outputs": [
    {
     "data": {
      "text/plain": [
       "pset(['SUV', 'Sedan', 'Compact'])"
      ]
     },
     "execution_count": 486,
     "metadata": {},
     "output_type": "execute_result"
    }
   ],
   "source": [
    "cols.difference(names)"
   ]
  },
  {
   "cell_type": "code",
   "execution_count": 487,
   "metadata": {},
   "outputs": [
    {
     "data": {
      "text/plain": [
       "pset(['Salesperson', 'Truck'])"
      ]
     },
     "execution_count": 487,
     "metadata": {},
     "output_type": "execute_result"
    }
   ],
   "source": [
    "cols & names"
   ]
  },
  {
   "cell_type": "code",
   "execution_count": 490,
   "metadata": {},
   "outputs": [
    {
     "data": {
      "text/plain": [
       "True"
      ]
     },
     "execution_count": 490,
     "metadata": {},
     "output_type": "execute_result"
    }
   ],
   "source": [
    "a = make_column_record(cols & names) \n",
    "b = make_column_record(names)\n",
    "a == b"
   ]
  },
  {
   "cell_type": "code",
   "execution_count": 492,
   "metadata": {},
   "outputs": [
    {
     "data": {
      "text/plain": [
       "True"
      ]
     },
     "execution_count": 492,
     "metadata": {},
     "output_type": "execute_result"
    }
   ],
   "source": [
    "a = make_column_record(cols & names) \n",
    "b = make_column_record(names)\n",
    "a == b"
   ]
  },
  {
   "cell_type": "code",
   "execution_count": 493,
   "metadata": {},
   "outputs": [
    {
     "data": {
      "text/plain": [
       "pset(['Salesperson', 'Truck'])"
      ]
     },
     "execution_count": 493,
     "metadata": {},
     "output_type": "execute_result"
    }
   ],
   "source": [
    "cols.intersection(names)"
   ]
  },
  {
   "cell_type": "code",
   "execution_count": 494,
   "metadata": {},
   "outputs": [
    {
     "data": {
      "text/plain": [
       "pset(['Utility', 'Salesperson', 'SUV', 'Truck', 'Sedan', 'Compact'])"
      ]
     },
     "execution_count": 494,
     "metadata": {},
     "output_type": "execute_result"
    }
   ],
   "source": [
    "new_names = names + [\"Utility\"]\n",
    "cols | new_names"
   ]
  },
  {
   "cell_type": "code",
   "execution_count": 497,
   "metadata": {},
   "outputs": [
    {
     "data": {
      "text/plain": [
       "pset(['Utility', 'Salesperson', 'SUV', 'Truck', 'Sedan', 'Compact'])"
      ]
     },
     "execution_count": 497,
     "metadata": {},
     "output_type": "execute_result"
    }
   ],
   "source": [
    "new_names = names + [\"Utility\"]\n",
    "cols | make_column_record(new_names)"
   ]
  },
  {
   "cell_type": "code",
   "execution_count": 498,
   "metadata": {},
   "outputs": [
    {
     "data": {
      "text/plain": [
       "pset(['Utility', 'Salesperson', 'SUV', 'Truck', 'Sedan', 'Compact'])"
      ]
     },
     "execution_count": 498,
     "metadata": {},
     "output_type": "execute_result"
    }
   ],
   "source": [
    "cols.union(new_names)"
   ]
  },
  {
   "cell_type": "code",
   "execution_count": 499,
   "metadata": {},
   "outputs": [
    {
     "data": {
      "text/plain": [
       "True"
      ]
     },
     "execution_count": 499,
     "metadata": {},
     "output_type": "execute_result"
    }
   ],
   "source": [
    "cols.union(new_names) > cols"
   ]
  },
  {
   "cell_type": "code",
   "execution_count": 500,
   "metadata": {},
   "outputs": [
    {
     "data": {
      "text/plain": [
       "pset(['SUV', 'Utility', 'Sedan', 'Compact'])"
      ]
     },
     "execution_count": 500,
     "metadata": {},
     "output_type": "execute_result"
    }
   ],
   "source": [
    "cols ^ new_names"
   ]
  },
  {
   "cell_type": "code",
   "execution_count": 501,
   "metadata": {},
   "outputs": [
    {
     "data": {
      "text/plain": [
       "False"
      ]
     },
     "execution_count": 501,
     "metadata": {},
     "output_type": "execute_result"
    }
   ],
   "source": [
    "cols ^ new_names > cols"
   ]
  },
  {
   "cell_type": "code",
   "execution_count": 502,
   "metadata": {},
   "outputs": [
    {
     "data": {
      "text/plain": [
       "True"
      ]
     },
     "execution_count": 502,
     "metadata": {},
     "output_type": "execute_result"
    }
   ],
   "source": [
    "cols == cols"
   ]
  },
  {
   "cell_type": "code",
   "execution_count": 504,
   "metadata": {},
   "outputs": [
    {
     "data": {
      "text/plain": [
       "False"
      ]
     },
     "execution_count": 504,
     "metadata": {},
     "output_type": "execute_result"
    }
   ],
   "source": [
    "cols == make_column_record(cols)"
   ]
  },
  {
   "cell_type": "code",
   "execution_count": 412,
   "metadata": {},
   "outputs": [
    {
     "data": {
      "text/plain": [
       "pset(['SUV', 'Utility', 'Sedan', 'Compact'])"
      ]
     },
     "execution_count": 412,
     "metadata": {},
     "output_type": "execute_result"
    }
   ],
   "source": [
    "cols.symmetric_difference(new_names)"
   ]
  },
  {
   "cell_type": "code",
   "execution_count": 413,
   "metadata": {},
   "outputs": [
    {
     "data": {
      "text/plain": [
       "StrPSet(['SUV', 'Truck', 'Sedan', 'Compact'])"
      ]
     },
     "execution_count": 413,
     "metadata": {},
     "output_type": "execute_result"
    }
   ],
   "source": [
    "cols.columns.discard('Salesperson')"
   ]
  },
  {
   "cell_type": "code",
   "execution_count": 414,
   "metadata": {},
   "outputs": [
    {
     "data": {
      "text/plain": [
       "['Evolver',\n",
       " '_Evolver',\n",
       " '__and__',\n",
       " '__class__',\n",
       " '__contains__',\n",
       " '__delattr__',\n",
       " '__dir__',\n",
       " '__doc__',\n",
       " '__eq__',\n",
       " '__format__',\n",
       " '__ge__',\n",
       " '__getattribute__',\n",
       " '__gt__',\n",
       " '__hash__',\n",
       " '__init__',\n",
       " '__init_subclass__',\n",
       " '__iter__',\n",
       " '__le__',\n",
       " '__len__',\n",
       " '__lt__',\n",
       " '__module__',\n",
       " '__ne__',\n",
       " '__new__',\n",
       " '__or__',\n",
       " '__reduce__',\n",
       " '__reduce_ex__',\n",
       " '__repr__',\n",
       " '__serializer__',\n",
       " '__setattr__',\n",
       " '__sizeof__',\n",
       " '__slots__',\n",
       " '__str__',\n",
       " '__sub__',\n",
       " '__subclasshook__',\n",
       " '__type__',\n",
       " '__weakref__',\n",
       " '__xor__',\n",
       " '_checked_invariants',\n",
       " '_checked_types',\n",
       " '_from_iterable',\n",
       " '_map',\n",
       " 'add',\n",
       " 'copy',\n",
       " 'create',\n",
       " 'difference',\n",
       " 'discard',\n",
       " 'evolver',\n",
       " 'intersection',\n",
       " 'isdisjoint',\n",
       " 'issubset',\n",
       " 'issuperset',\n",
       " 'remove',\n",
       " 'serialize',\n",
       " 'symmetric_difference',\n",
       " 'union',\n",
       " 'update']"
      ]
     },
     "execution_count": 414,
     "metadata": {},
     "output_type": "execute_result"
    }
   ],
   "source": [
    "dir(cols.columns)"
   ]
  },
  {
   "cell_type": "code",
   "execution_count": 204,
   "metadata": {},
   "outputs": [
    {
     "data": {
      "text/plain": [
       "pset(['Salesperson', 'SUV', 'Truck', 'Sedan', 'Compact'])"
      ]
     },
     "execution_count": 204,
     "metadata": {},
     "output_type": "execute_result"
    }
   ],
   "source": [
    "from pyrsistent import pset\n",
    "pset(cols.keys())"
   ]
  },
  {
   "cell_type": "code",
   "execution_count": 161,
   "metadata": {},
   "outputs": [
    {
     "data": {
      "text/plain": [
       "['_Evolver',\n",
       " '_buckets',\n",
       " '_cached_hash',\n",
       " '_contains',\n",
       " '_get_bucket',\n",
       " '_getitem',\n",
       " '_precord_fields',\n",
       " '_precord_initial_values',\n",
       " '_precord_invariants',\n",
       " '_precord_mandatory_fields',\n",
       " '_size',\n",
       " 'copy',\n",
       " 'create',\n",
       " 'discard',\n",
       " 'evolver',\n",
       " 'get',\n",
       " 'items',\n",
       " 'iteritems',\n",
       " 'iterkeys',\n",
       " 'itervalues',\n",
       " 'keys',\n",
       " 'remove',\n",
       " 'serialize',\n",
       " 'set',\n",
       " 'transform',\n",
       " 'update',\n",
       " 'update_with',\n",
       " 'values']"
      ]
     },
     "execution_count": 161,
     "metadata": {},
     "output_type": "execute_result"
    }
   ],
   "source": [
    "[m for m in dir(Row) if not m.startswith('__')]"
   ]
  },
  {
   "cell_type": "code",
   "execution_count": 168,
   "metadata": {},
   "outputs": [
    {
     "data": {
      "text/plain": [
       "{'Salesperson': 'Ann', 'SUV': 15, 'Truck': 12, 'Sedan': '18', 'Compact': '22'}"
      ]
     },
     "execution_count": 168,
     "metadata": {},
     "output_type": "execute_result"
    }
   ],
   "source": [
    "row1 = rows[0]\n",
    "row1.serialize()"
   ]
  },
  {
   "cell_type": "code",
   "execution_count": null,
   "metadata": {},
   "outputs": [],
   "source": [
    "def mutate_row()"
   ]
  },
  {
   "cell_type": "code",
   "execution_count": 142,
   "metadata": {},
   "outputs": [
    {
     "data": {
      "text/plain": [
       "[Row(Salesperson='Ann', SUV=15, Truck=12, Sedan=18, Compact=22),\n",
       " Row(Salesperson='Bob', SUV=17, Truck=20, Sedan=12, Compact=19),\n",
       " Row(Salesperson='Yolanda', SUV=32, Truck=15, Sedan=8, Compact=19),\n",
       " Row(Salesperson='Xerxes', SUV=18, Truck=9, Sedan=23, Compact=12)]"
      ]
     },
     "execution_count": 142,
     "metadata": {},
     "output_type": "execute_result"
    }
   ],
   "source": [
    "Row2 = makeRow(columns, my_col_types2)\n",
    "rows2 = [Row2(**row) for row in l]\n",
    "rows2"
   ]
  },
  {
   "cell_type": "code",
   "execution_count": 69,
   "metadata": {
    "scrolled": true
   },
   "outputs": [
    {
     "data": {
      "text/plain": [
       "[Row(Salesperson='Ann', SUV=15, Truck=12, Sedan=18, Compact=22),\n",
       " Row(Salesperson='Bob', SUV=17, Truck=20, Sedan=12, Compact=19),\n",
       " Row(Salesperson='Yolanda', SUV=32, Truck=15, Sedan=8, Compact=19),\n",
       " Row(Salesperson='Xerxes', SUV=18, Truck=9, Sedan=23, Compact=12)]"
      ]
     },
     "execution_count": 69,
     "metadata": {},
     "output_type": "execute_result"
    }
   ],
   "source": [
    "Row = type('Row', (PRecord,), {name:field(factory=fact) for name, fact in zip(columns, col_types) if name.isidentifier()})\n",
    "r1 = Row(**l[0])\n",
    "rows = list(map(lambda r: Row(**r), l))\n",
    "rows"
   ]
  },
  {
   "cell_type": "markdown",
   "metadata": {},
   "source": [
    "### This approach makes column arithmetic easy"
   ]
  },
  {
   "cell_type": "code",
   "execution_count": 385,
   "metadata": {},
   "outputs": [
    {
     "data": {
      "text/plain": [
       "['ann', 'bob', 'yolanda', 'xerxes']"
      ]
     },
     "execution_count": 385,
     "metadata": {},
     "output_type": "execute_result"
    }
   ],
   "source": [
    "[r.Salesperson.lower() for r in rows]"
   ]
  },
  {
   "cell_type": "code",
   "execution_count": 386,
   "metadata": {},
   "outputs": [
    {
     "data": {
      "text/plain": [
       "[27, 37, 47, 27]"
      ]
     },
     "execution_count": 386,
     "metadata": {},
     "output_type": "execute_result"
    }
   ],
   "source": [
    "[r['Truck'] + r['SUV'] for r in rows]"
   ]
  },
  {
   "cell_type": "code",
   "execution_count": 387,
   "metadata": {},
   "outputs": [
    {
     "data": {
      "text/plain": [
       "[Row(Salesperson='ann', SUV=30, Truck=12, Sedan='18', Compact='22'),\n",
       " Row(Salesperson='bob', SUV=34, Truck=20, Sedan='12', Compact='19'),\n",
       " Row(Salesperson='yolanda', SUV=64, Truck=15, Sedan='8', Compact='19'),\n",
       " Row(Salesperson='xerxes', SUV=36, Truck=9, Sedan='23', Compact='12')]"
      ]
     },
     "execution_count": 387,
     "metadata": {},
     "output_type": "execute_result"
    }
   ],
   "source": [
    "[r.set(Salesperson = r.Salesperson.lower(), SUV = r.SUV*2) for r in rows]"
   ]
  },
  {
   "cell_type": "markdown",
   "metadata": {},
   "source": [
    "## Using this approach makes it harder to make new columns -- We will need to make a new row class when mutating or selecting"
   ]
  },
  {
   "cell_type": "code",
   "execution_count": 388,
   "metadata": {},
   "outputs": [
    {
     "ename": "AttributeError",
     "evalue": "'Utility' is not among the specified fields for Row",
     "output_type": "error",
     "traceback": [
      "\u001b[0;31m---------------------------------------------------------------------------\u001b[0m",
      "\u001b[0;31mAttributeError\u001b[0m                            Traceback (most recent call last)",
      "\u001b[0;32m<ipython-input-388-c80a31c58092>\u001b[0m in \u001b[0;36m<module>\u001b[0;34m()\u001b[0m\n\u001b[0;32m----> 1\u001b[0;31m \u001b[0;34m[\u001b[0m\u001b[0mr\u001b[0m\u001b[0;34m.\u001b[0m\u001b[0mset\u001b[0m\u001b[0;34m(\u001b[0m\u001b[0mUtility\u001b[0m \u001b[0;34m=\u001b[0m \u001b[0mr\u001b[0m\u001b[0;34m.\u001b[0m\u001b[0mTruck\u001b[0m \u001b[0;34m+\u001b[0m \u001b[0mr\u001b[0m\u001b[0;34m.\u001b[0m\u001b[0mSUV\u001b[0m\u001b[0;34m)\u001b[0m \u001b[0;32mfor\u001b[0m \u001b[0mr\u001b[0m \u001b[0;32min\u001b[0m \u001b[0mrows\u001b[0m\u001b[0;34m]\u001b[0m\u001b[0;34m\u001b[0m\u001b[0m\n\u001b[0m",
      "\u001b[0;32m<ipython-input-388-c80a31c58092>\u001b[0m in \u001b[0;36m<listcomp>\u001b[0;34m(.0)\u001b[0m\n\u001b[0;32m----> 1\u001b[0;31m \u001b[0;34m[\u001b[0m\u001b[0mr\u001b[0m\u001b[0;34m.\u001b[0m\u001b[0mset\u001b[0m\u001b[0;34m(\u001b[0m\u001b[0mUtility\u001b[0m \u001b[0;34m=\u001b[0m \u001b[0mr\u001b[0m\u001b[0;34m.\u001b[0m\u001b[0mTruck\u001b[0m \u001b[0;34m+\u001b[0m \u001b[0mr\u001b[0m\u001b[0;34m.\u001b[0m\u001b[0mSUV\u001b[0m\u001b[0;34m)\u001b[0m \u001b[0;32mfor\u001b[0m \u001b[0mr\u001b[0m \u001b[0;32min\u001b[0m \u001b[0mrows\u001b[0m\u001b[0;34m]\u001b[0m\u001b[0;34m\u001b[0m\u001b[0m\n\u001b[0m",
      "\u001b[0;32m~/.pyenv/versions/anaconda3-5.0.0/lib/python3.6/site-packages/pyrsistent/_precord.py\u001b[0m in \u001b[0;36mset\u001b[0;34m(self, *args, **kwargs)\u001b[0m\n\u001b[1;32m     65\u001b[0m             \u001b[0;32mreturn\u001b[0m \u001b[0msuper\u001b[0m\u001b[0;34m(\u001b[0m\u001b[0mPRecord\u001b[0m\u001b[0;34m,\u001b[0m \u001b[0mself\u001b[0m\u001b[0;34m)\u001b[0m\u001b[0;34m.\u001b[0m\u001b[0mset\u001b[0m\u001b[0;34m(\u001b[0m\u001b[0margs\u001b[0m\u001b[0;34m[\u001b[0m\u001b[0;36m0\u001b[0m\u001b[0;34m]\u001b[0m\u001b[0;34m,\u001b[0m \u001b[0margs\u001b[0m\u001b[0;34m[\u001b[0m\u001b[0;36m1\u001b[0m\u001b[0;34m]\u001b[0m\u001b[0;34m)\u001b[0m\u001b[0;34m\u001b[0m\u001b[0m\n\u001b[1;32m     66\u001b[0m \u001b[0;34m\u001b[0m\u001b[0m\n\u001b[0;32m---> 67\u001b[0;31m         \u001b[0;32mreturn\u001b[0m \u001b[0mself\u001b[0m\u001b[0;34m.\u001b[0m\u001b[0mupdate\u001b[0m\u001b[0;34m(\u001b[0m\u001b[0mkwargs\u001b[0m\u001b[0;34m)\u001b[0m\u001b[0;34m\u001b[0m\u001b[0m\n\u001b[0m\u001b[1;32m     68\u001b[0m \u001b[0;34m\u001b[0m\u001b[0m\n\u001b[1;32m     69\u001b[0m     \u001b[0;32mdef\u001b[0m \u001b[0mevolver\u001b[0m\u001b[0;34m(\u001b[0m\u001b[0mself\u001b[0m\u001b[0;34m)\u001b[0m\u001b[0;34m:\u001b[0m\u001b[0;34m\u001b[0m\u001b[0m\n",
      "\u001b[0;32m~/.pyenv/versions/anaconda3-5.0.0/lib/python3.6/site-packages/pyrsistent/_pmap.py\u001b[0m in \u001b[0;36mupdate\u001b[0;34m(self, *maps)\u001b[0m\n\u001b[1;32m    218\u001b[0m         \u001b[0mpmap\u001b[0m\u001b[0;34m(\u001b[0m\u001b[0;34m{\u001b[0m\u001b[0;34m'a'\u001b[0m\u001b[0;34m:\u001b[0m \u001b[0;36m17\u001b[0m\u001b[0;34m,\u001b[0m \u001b[0;34m'c'\u001b[0m\u001b[0;34m:\u001b[0m \u001b[0;36m3\u001b[0m\u001b[0;34m,\u001b[0m \u001b[0;34m'b'\u001b[0m\u001b[0;34m:\u001b[0m \u001b[0;36m2\u001b[0m\u001b[0;34m,\u001b[0m \u001b[0;34m'd'\u001b[0m\u001b[0;34m:\u001b[0m \u001b[0;36m35\u001b[0m\u001b[0;34m}\u001b[0m\u001b[0;34m)\u001b[0m\u001b[0;34m\u001b[0m\u001b[0m\n\u001b[1;32m    219\u001b[0m         \"\"\"\n\u001b[0;32m--> 220\u001b[0;31m         \u001b[0;32mreturn\u001b[0m \u001b[0mself\u001b[0m\u001b[0;34m.\u001b[0m\u001b[0mupdate_with\u001b[0m\u001b[0;34m(\u001b[0m\u001b[0;32mlambda\u001b[0m \u001b[0ml\u001b[0m\u001b[0;34m,\u001b[0m \u001b[0mr\u001b[0m\u001b[0;34m:\u001b[0m \u001b[0mr\u001b[0m\u001b[0;34m,\u001b[0m \u001b[0;34m*\u001b[0m\u001b[0mmaps\u001b[0m\u001b[0;34m)\u001b[0m\u001b[0;34m\u001b[0m\u001b[0m\n\u001b[0m\u001b[1;32m    221\u001b[0m \u001b[0;34m\u001b[0m\u001b[0m\n\u001b[1;32m    222\u001b[0m     \u001b[0;32mdef\u001b[0m \u001b[0mupdate_with\u001b[0m\u001b[0;34m(\u001b[0m\u001b[0mself\u001b[0m\u001b[0;34m,\u001b[0m \u001b[0mupdate_fn\u001b[0m\u001b[0;34m,\u001b[0m \u001b[0;34m*\u001b[0m\u001b[0mmaps\u001b[0m\u001b[0;34m)\u001b[0m\u001b[0;34m:\u001b[0m\u001b[0;34m\u001b[0m\u001b[0m\n",
      "\u001b[0;32m~/.pyenv/versions/anaconda3-5.0.0/lib/python3.6/site-packages/pyrsistent/_pmap.py\u001b[0m in \u001b[0;36mupdate_with\u001b[0;34m(self, update_fn, *maps)\u001b[0m\n\u001b[1;32m    239\u001b[0m         \u001b[0;32mfor\u001b[0m \u001b[0mmap\u001b[0m \u001b[0;32min\u001b[0m \u001b[0mmaps\u001b[0m\u001b[0;34m:\u001b[0m\u001b[0;34m\u001b[0m\u001b[0m\n\u001b[1;32m    240\u001b[0m             \u001b[0;32mfor\u001b[0m \u001b[0mkey\u001b[0m\u001b[0;34m,\u001b[0m \u001b[0mvalue\u001b[0m \u001b[0;32min\u001b[0m \u001b[0mmap\u001b[0m\u001b[0;34m.\u001b[0m\u001b[0mitems\u001b[0m\u001b[0;34m(\u001b[0m\u001b[0;34m)\u001b[0m\u001b[0;34m:\u001b[0m\u001b[0;34m\u001b[0m\u001b[0m\n\u001b[0;32m--> 241\u001b[0;31m                 \u001b[0mevolver\u001b[0m\u001b[0;34m.\u001b[0m\u001b[0mset\u001b[0m\u001b[0;34m(\u001b[0m\u001b[0mkey\u001b[0m\u001b[0;34m,\u001b[0m \u001b[0mupdate_fn\u001b[0m\u001b[0;34m(\u001b[0m\u001b[0mevolver\u001b[0m\u001b[0;34m[\u001b[0m\u001b[0mkey\u001b[0m\u001b[0;34m]\u001b[0m\u001b[0;34m,\u001b[0m \u001b[0mvalue\u001b[0m\u001b[0;34m)\u001b[0m \u001b[0;32mif\u001b[0m \u001b[0mkey\u001b[0m \u001b[0;32min\u001b[0m \u001b[0mevolver\u001b[0m \u001b[0;32melse\u001b[0m \u001b[0mvalue\u001b[0m\u001b[0;34m)\u001b[0m\u001b[0;34m\u001b[0m\u001b[0m\n\u001b[0m\u001b[1;32m    242\u001b[0m \u001b[0;34m\u001b[0m\u001b[0m\n\u001b[1;32m    243\u001b[0m         \u001b[0;32mreturn\u001b[0m \u001b[0mevolver\u001b[0m\u001b[0;34m.\u001b[0m\u001b[0mpersistent\u001b[0m\u001b[0;34m(\u001b[0m\u001b[0;34m)\u001b[0m\u001b[0;34m\u001b[0m\u001b[0m\n",
      "\u001b[0;32m~/.pyenv/versions/anaconda3-5.0.0/lib/python3.6/site-packages/pyrsistent/_precord.py\u001b[0m in \u001b[0;36mset\u001b[0;34m(self, key, original_value)\u001b[0m\n\u001b[1;32m    140\u001b[0m             \u001b[0;32mreturn\u001b[0m \u001b[0msuper\u001b[0m\u001b[0;34m(\u001b[0m\u001b[0m_PRecordEvolver\u001b[0m\u001b[0;34m,\u001b[0m \u001b[0mself\u001b[0m\u001b[0;34m)\u001b[0m\u001b[0;34m.\u001b[0m\u001b[0mset\u001b[0m\u001b[0;34m(\u001b[0m\u001b[0mkey\u001b[0m\u001b[0;34m,\u001b[0m \u001b[0mvalue\u001b[0m\u001b[0;34m)\u001b[0m\u001b[0;34m\u001b[0m\u001b[0m\n\u001b[1;32m    141\u001b[0m         \u001b[0;32melse\u001b[0m\u001b[0;34m:\u001b[0m\u001b[0;34m\u001b[0m\u001b[0m\n\u001b[0;32m--> 142\u001b[0;31m             \u001b[0;32mraise\u001b[0m \u001b[0mAttributeError\u001b[0m\u001b[0;34m(\u001b[0m\u001b[0;34m\"'{0}' is not among the specified fields for {1}\"\u001b[0m\u001b[0;34m.\u001b[0m\u001b[0mformat\u001b[0m\u001b[0;34m(\u001b[0m\u001b[0mkey\u001b[0m\u001b[0;34m,\u001b[0m \u001b[0mself\u001b[0m\u001b[0;34m.\u001b[0m\u001b[0m_destination_cls\u001b[0m\u001b[0;34m.\u001b[0m\u001b[0m__name__\u001b[0m\u001b[0;34m)\u001b[0m\u001b[0;34m)\u001b[0m\u001b[0;34m\u001b[0m\u001b[0m\n\u001b[0m\u001b[1;32m    143\u001b[0m \u001b[0;34m\u001b[0m\u001b[0m\n\u001b[1;32m    144\u001b[0m     \u001b[0;32mdef\u001b[0m \u001b[0mpersistent\u001b[0m\u001b[0;34m(\u001b[0m\u001b[0mself\u001b[0m\u001b[0;34m)\u001b[0m\u001b[0;34m:\u001b[0m\u001b[0;34m\u001b[0m\u001b[0m\n",
      "\u001b[0;31mAttributeError\u001b[0m: 'Utility' is not among the specified fields for Row"
     ]
    }
   ],
   "source": [
    "[r.set(Utility = r.Truck + r.SUV) for r in rows]"
   ]
  },
  {
   "cell_type": "code",
   "execution_count": 389,
   "metadata": {},
   "outputs": [
    {
     "data": {
      "text/plain": [
       "['capitalize',\n",
       " 'casefold',\n",
       " 'center',\n",
       " 'count',\n",
       " 'encode',\n",
       " 'endswith',\n",
       " 'expandtabs',\n",
       " 'find',\n",
       " 'format',\n",
       " 'format_map',\n",
       " 'index',\n",
       " 'isalnum',\n",
       " 'isalpha',\n",
       " 'isdecimal',\n",
       " 'isdigit',\n",
       " 'isidentifier',\n",
       " 'islower',\n",
       " 'isnumeric',\n",
       " 'isprintable',\n",
       " 'isspace',\n",
       " 'istitle',\n",
       " 'isupper',\n",
       " 'join',\n",
       " 'ljust',\n",
       " 'lower',\n",
       " 'lstrip',\n",
       " 'maketrans',\n",
       " 'partition',\n",
       " 'replace',\n",
       " 'rfind',\n",
       " 'rindex',\n",
       " 'rjust',\n",
       " 'rpartition',\n",
       " 'rsplit',\n",
       " 'rstrip',\n",
       " 'split',\n",
       " 'splitlines',\n",
       " 'startswith',\n",
       " 'strip',\n",
       " 'swapcase',\n",
       " 'title',\n",
       " 'translate',\n",
       " 'upper',\n",
       " 'zfill']"
      ]
     },
     "execution_count": 389,
     "metadata": {},
     "output_type": "execute_result"
    }
   ],
   "source": [
    "[n for n in dir('a') if not n.startswith('__')]"
   ]
  },
  {
   "cell_type": "markdown",
   "metadata": {},
   "source": [
    "## Making generators for each row"
   ]
  },
  {
   "cell_type": "code",
   "execution_count": 821,
   "metadata": {},
   "outputs": [
    {
     "data": {
      "text/plain": [
       "[OrderedDict([('Salesperson', 'Ann'),\n",
       "              ('Compact', '22'),\n",
       "              ('Sedan', '18'),\n",
       "              ('SUV', '15'),\n",
       "              ('Truck', '12')]),\n",
       " OrderedDict([('Salesperson', 'Bob'),\n",
       "              ('Compact', '19'),\n",
       "              ('Sedan', '12'),\n",
       "              ('SUV', '17'),\n",
       "              ('Truck', '20')]),\n",
       " OrderedDict([('Salesperson', 'Yolanda'),\n",
       "              ('Compact', '19'),\n",
       "              ('Sedan', '8'),\n",
       "              ('SUV', '32'),\n",
       "              ('Truck', '15')]),\n",
       " OrderedDict([('Salesperson', 'Xerxes'),\n",
       "              ('Compact', '12'),\n",
       "              ('Sedan', '23'),\n",
       "              ('SUV', '18'),\n",
       "              ('Truck', '9')])]"
      ]
     },
     "execution_count": 821,
     "metadata": {},
     "output_type": "execute_result"
    }
   ],
   "source": [
    "from csv import DictReader, Sniffer\n",
    "with open('./data/auto_sales.csv', newline='\\n') as csvfile:\n",
    "    dialect = Sniffer().sniff(csvfile.read(1024))\n",
    "    csvfile.seek(0)\n",
    "    reader = DictReader(csvfile, dialect=dialect)\n",
    "    out_raw = [row for row in reader]\n",
    "out_raw"
   ]
  },
  {
   "cell_type": "code",
   "execution_count": 852,
   "metadata": {},
   "outputs": [],
   "source": [
    "from toolz import peek\n",
    "from collections import deque\n",
    "from functools import reduce\n",
    "\n",
    "class DataFrame(object):\n",
    "    def __init__(self, \n",
    "                 iter_of_dict, \n",
    "                 col_type_dict = {}, \n",
    "                 cache = [], \n",
    "                 mutators = (lambda x: x,)):\n",
    "        self.rows = iter_of_dict\n",
    "        self.col_type_dict = col_type_dict\n",
    "        # Cache holds raw unprocessed rows\n",
    "        self._cache = deque(cache)\n",
    "        try:\n",
    "            if len(self._cache) > 0:\n",
    "                first = self._cache[0]\n",
    "            else:\n",
    "                first = next(self.rows)\n",
    "        except StopIteration:\n",
    "            raise ValueError(\"There needs to be at least one row (in either iter_of_dict or cache)\")\n",
    "        self._mutators = mutators\n",
    "        # Apply the mutators then determine the Row type\n",
    "        mut_first = self._apply_mutators(first)\n",
    "        fieldnames = list(mut_first.keys())\n",
    "        self.col_record = make_column_record(fieldnames)\n",
    "        self.Row = makeRow(fieldnames, self.col_type_dict)\n",
    "        if len(self._cache) == 0:\n",
    "            # Cache is raw unprocessed rows\n",
    "            self._cache.append(first)\n",
    "        # Make sure that the last action is to convert to a Row\n",
    "        self._mutators = self._mutators + (lambda r: self.Row(**r), )\n",
    "            \n",
    "    def _apply_mutators(self, row):\n",
    "        # Note the newest mutator needs to be last\n",
    "        return reduce(lambda acc, f: f(acc), self._mutators, row)\n",
    "    \n",
    "    def __iter__(self):\n",
    "        return self\n",
    "        \n",
    "    def __next__(self):\n",
    "        if len(self._cache) > 0:\n",
    "            new_row = self.Row(**self._apply_mutators(self._cache.popleft()))\n",
    "            return new_row\n",
    "        new_row =  self.Row(**self._apply_mutators(next(self.rows)))\n",
    "        return new_row\n",
    "    \n",
    "    def __contains__(self, key):\n",
    "        return key in self.col_record\n",
    "    \n",
    "    def _mutated_stream(self, row_mutator):\n",
    "        example_current_row = self.Row(**self._apply_mutators(self._cache[0]))\n",
    "        example_output = row_mutator(example_current_row)\n",
    "        new_col_types = {col:type(val) for col, val in example_output.items()}\n",
    "        # Newest mutator needs to be last to be applied last\n",
    "        new_mutators = self._mutators + (row_mutator, ) \n",
    "        return DataFrame(self.rows, col_type_dict=new_col_types, cache=self._cache, mutators=new_mutators)"
   ]
  },
  {
   "cell_type": "code",
   "execution_count": 860,
   "metadata": {
    "scrolled": true
   },
   "outputs": [
    {
     "data": {
      "text/plain": [
       "[Row(Salesperson='Ann', SUV=15, Truck=12, Sedan=18, Compact=22),\n",
       " Row(Salesperson='Bob', SUV=17, Truck=20, Sedan=12, Compact=19),\n",
       " Row(Salesperson='Yolanda', SUV=32, Truck=15, Sedan=8, Compact=19),\n",
       " Row(Salesperson='Xerxes', SUV=18, Truck=9, Sedan=23, Compact=12)]"
      ]
     },
     "execution_count": 860,
     "metadata": {},
     "output_type": "execute_result"
    }
   ],
   "source": [
    "from csv import DictReader, Sniffer\n",
    "with open('./data/auto_sales.csv', newline='\\n') as csvfile:\n",
    "    dialect = Sniffer().sniff(csvfile.read(1024))\n",
    "    csvfile.seek(0)\n",
    "    reader = DictReader(csvfile, dialect=dialect)\n",
    "    df = DataFrame(reader, col_type_dict=my_col_types2)\n",
    "    out1 = [row for row in df]\n",
    "out1"
   ]
  },
  {
   "cell_type": "markdown",
   "metadata": {},
   "source": [
    "## Example mutate all ints"
   ]
  },
  {
   "cell_type": "code",
   "execution_count": 854,
   "metadata": {},
   "outputs": [],
   "source": [
    "def example_row_mutator(row):\n",
    "    return {col:2*i if isinstance(i, int) else i for col, i in row.items()}"
   ]
  },
  {
   "cell_type": "code",
   "execution_count": 861,
   "metadata": {},
   "outputs": [
    {
     "data": {
      "text/plain": [
       "[Row(Salesperson='Ann', SUV=30, Truck=24, Sedan=36, Compact=44),\n",
       " Row(Salesperson='Bob', SUV=34, Truck=40, Sedan=24, Compact=38),\n",
       " Row(Salesperson='Yolanda', SUV=64, Truck=30, Sedan=16, Compact=38),\n",
       " Row(Salesperson='Xerxes', SUV=36, Truck=18, Sedan=46, Compact=24)]"
      ]
     },
     "execution_count": 861,
     "metadata": {},
     "output_type": "execute_result"
    }
   ],
   "source": [
    "from csv import DictReader, Sniffer\n",
    "with open('./data/auto_sales.csv', newline='\\n') as csvfile:\n",
    "    dialect = Sniffer().sniff(csvfile.read(1024))\n",
    "    csvfile.seek(0)\n",
    "    reader = DictReader(csvfile, dialect=dialect)\n",
    "    df = DataFrame(reader, col_type_dict=my_col_types2)\n",
    "    df2 = df._mutated_stream(example_row_mutator)\n",
    "    out = [row for row in df2]\n",
    "out"
   ]
  },
  {
   "cell_type": "markdown",
   "metadata": {},
   "source": [
    "## Example - types change automatically  "
   ]
  },
  {
   "cell_type": "code",
   "execution_count": 856,
   "metadata": {},
   "outputs": [],
   "source": [
    "def example_row_mutator2(row):\n",
    "    return {col:2.0*i if isinstance(i, int) else i for col, i in row.items()}"
   ]
  },
  {
   "cell_type": "code",
   "execution_count": 862,
   "metadata": {},
   "outputs": [
    {
     "name": "stdout",
     "output_type": "stream",
     "text": [
      "Row(Salesperson='Ann', SUV=30.0, Truck=24.0, Sedan=36.0, Compact=44.0)\n",
      "Row(Salesperson='Bob', SUV=34.0, Truck=40.0, Sedan=24.0, Compact=38.0)\n",
      "Row(Salesperson='Yolanda', SUV=64.0, Truck=30.0, Sedan=16.0, Compact=38.0)\n",
      "Row(Salesperson='Xerxes', SUV=36.0, Truck=18.0, Sedan=46.0, Compact=24.0)\n"
     ]
    }
   ],
   "source": [
    "from csv import DictReader, Sniffer\n",
    "with open('./data/auto_sales.csv', newline='\\n') as csvfile:\n",
    "    dialect = Sniffer().sniff(csvfile.read(1024))\n",
    "    csvfile.seek(0)\n",
    "    reader = DictReader(csvfile, dialect=dialect)\n",
    "    df = DataFrame(reader, col_type_dict=my_col_types2)\n",
    "    df2 = df._mutated_stream(example_row_mutator2)\n",
    "    for row in df2:\n",
    "        print(row)"
   ]
  },
  {
   "cell_type": "markdown",
   "metadata": {},
   "source": [
    "## Example select"
   ]
  },
  {
   "cell_type": "code",
   "execution_count": 858,
   "metadata": {},
   "outputs": [],
   "source": [
    "def example_row_mutator3(row):\n",
    "    return {col:val for col, val in row.items() if col not in ['Truck', 'SUV']}"
   ]
  },
  {
   "cell_type": "code",
   "execution_count": 866,
   "metadata": {
    "scrolled": true
   },
   "outputs": [
    {
     "name": "stdout",
     "output_type": "stream",
     "text": [
      "Columns(Salesperson='Salesperson', Sedan='Sedan', columns=StrPSet(['Salesperson', 'Sedan', 'Compact']), Compact='Compact')\n",
      "deque([OrderedDict([('Salesperson', 'Ann'), ('Compact', '22'), ('Sedan', '18'), ('SUV', '15'), ('Truck', '12')])])\n",
      "Row(Salesperson='Ann', Sedan=18, Compact=22)\n",
      "Row(Salesperson='Bob', Sedan=12, Compact=19)\n",
      "Row(Salesperson='Yolanda', Sedan=8, Compact=19)\n",
      "Row(Salesperson='Xerxes', Sedan=23, Compact=12)\n"
     ]
    }
   ],
   "source": [
    "from csv import DictReader, Sniffer\n",
    "with open('./data/auto_sales.csv', newline='\\n') as csvfile:\n",
    "    dialect = Sniffer().sniff(csvfile.read(1024))\n",
    "    csvfile.seek(0)\n",
    "    reader = DictReader(csvfile, dialect=dialect)\n",
    "    df = DataFrame(reader, col_type_dict=my_col_types2)\n",
    "    df3 = df._mutated_stream(example_row_mutator3)\n",
    "    print(df3.col_record)\n",
    "    print(df3._cache)\n",
    "    for row in df3:\n",
    "        print(row)"
   ]
  },
  {
   "cell_type": "markdown",
   "metadata": {},
   "source": [
    "## Intension Exploration\n",
    "\n",
    "Applying to rows gives the values and evaluates expressions"
   ]
  },
  {
   "cell_type": "code",
   "execution_count": 881,
   "metadata": {},
   "outputs": [],
   "source": [
    "from dfply import X\n",
    "\n",
    "i = X.Truck + X.Salesperson"
   ]
  },
  {
   "cell_type": "code",
   "execution_count": 882,
   "metadata": {},
   "outputs": [
    {
     "data": {
      "text/plain": [
       "[Row(Salesperson='Ann', SUV=15, Truck=12, Sedan=18, Compact=22),\n",
       " Row(Salesperson='Bob', SUV=17, Truck=20, Sedan=12, Compact=19),\n",
       " Row(Salesperson='Yolanda', SUV=32, Truck=15, Sedan=8, Compact=19),\n",
       " Row(Salesperson='Xerxes', SUV=18, Truck=9, Sedan=23, Compact=12)]"
      ]
     },
     "execution_count": 882,
     "metadata": {},
     "output_type": "execute_result"
    }
   ],
   "source": [
    "rows"
   ]
  },
  {
   "cell_type": "code",
   "execution_count": 883,
   "metadata": {},
   "outputs": [
    {
     "data": {
      "text/plain": [
       "Row(Salesperson='Ann', SUV=15, Truck=12, Sedan=18, Compact=22)"
      ]
     },
     "execution_count": 883,
     "metadata": {},
     "output_type": "execute_result"
    }
   ],
   "source": [
    "r1 = rows[0]\n",
    "r1"
   ]
  },
  {
   "cell_type": "code",
   "execution_count": 884,
   "metadata": {},
   "outputs": [
    {
     "data": {
      "text/plain": [
       "NotImplemented"
      ]
     },
     "execution_count": 884,
     "metadata": {},
     "output_type": "execute_result"
    }
   ],
   "source": [
    "i.evaluate(r1)"
   ]
  },
  {
   "cell_type": "code",
   "execution_count": 885,
   "metadata": {},
   "outputs": [
    {
     "data": {
      "text/plain": [
       "<dfply.base.Intention at 0x119348470>"
      ]
     },
     "execution_count": 885,
     "metadata": {},
     "output_type": "execute_result"
    }
   ],
   "source": [
    "i(r1)"
   ]
  },
  {
   "cell_type": "code",
   "execution_count": 874,
   "metadata": {},
   "outputs": [
    {
     "data": {
      "text/plain": [
       "<dfply.base.Intention at 0x119348be0>"
      ]
     },
     "execution_count": 874,
     "metadata": {},
     "output_type": "execute_result"
    }
   ],
   "source": [
    "i"
   ]
  },
  {
   "cell_type": "code",
   "execution_count": 886,
   "metadata": {},
   "outputs": [],
   "source": [
    "e1 = X.SUV\n",
    "e2 = X.Truck\n",
    "e3 = e1 + e2"
   ]
  },
  {
   "cell_type": "code",
   "execution_count": 887,
   "metadata": {},
   "outputs": [
    {
     "data": {
      "text/plain": [
       "(15, 12, 27)"
      ]
     },
     "execution_count": 887,
     "metadata": {},
     "output_type": "execute_result"
    }
   ],
   "source": [
    "a1 = e1.evaluate(r1)\n",
    "a2 = e2.evaluate(r1)\n",
    "a3 = e3.evaluate(r1)\n",
    "a1, a2, a3"
   ]
  },
  {
   "cell_type": "code",
   "execution_count": 888,
   "metadata": {},
   "outputs": [
    {
     "data": {
      "text/plain": [
       "'ann'"
      ]
     },
     "execution_count": 888,
     "metadata": {},
     "output_type": "execute_result"
    }
   ],
   "source": [
    "e4 = X.Salesperson.lower()\n",
    "a4 = e4.evaluate(r1)\n",
    "a4"
   ]
  },
  {
   "cell_type": "code",
   "execution_count": 889,
   "metadata": {},
   "outputs": [
    {
     "data": {
      "text/plain": [
       "False"
      ]
     },
     "execution_count": 889,
     "metadata": {},
     "output_type": "execute_result"
    }
   ],
   "source": [
    "e6 = X.Truck > X.SUV\n",
    "a6 = e6.evaluate(r1)\n",
    "a6"
   ]
  },
  {
   "cell_type": "code",
   "execution_count": 890,
   "metadata": {},
   "outputs": [
    {
     "data": {
      "text/plain": [
       "[False, True, False, False]"
      ]
     },
     "execution_count": 890,
     "metadata": {},
     "output_type": "execute_result"
    }
   ],
   "source": [
    "[e6.evaluate(r) for r in rows]"
   ]
  },
  {
   "cell_type": "code",
   "execution_count": 891,
   "metadata": {},
   "outputs": [
    {
     "data": {
      "text/plain": [
       "12"
      ]
     },
     "execution_count": 891,
     "metadata": {},
     "output_type": "execute_result"
    }
   ],
   "source": [
    "e7 = abs(X.Truck)\n",
    "e7.evaluate(rows2[0])"
   ]
  },
  {
   "cell_type": "markdown",
   "metadata": {},
   "source": [
    "## Monad stuff"
   ]
  },
  {
   "cell_type": "code",
   "execution_count": 424,
   "metadata": {
    "scrolled": true
   },
   "outputs": [
    {
     "name": "stdout",
     "output_type": "stream",
     "text": [
      "Requirement already satisfied: oslash in /Users/tiverson/.pyenv/versions/anaconda3-5.0.0/lib/python3.6/site-packages (0.5.1)\r\n",
      "Requirement already satisfied: mypy-lang in /Users/tiverson/.pyenv/versions/anaconda3-5.0.0/lib/python3.6/site-packages (from oslash) (0.5.0)\r\n"
     ]
    }
   ],
   "source": [
    "!pip install oslash"
   ]
  },
  {
   "cell_type": "markdown",
   "metadata": {},
   "source": [
    "### Cont"
   ]
  },
  {
   "cell_type": "code",
   "execution_count": 411,
   "metadata": {},
   "outputs": [],
   "source": [
    "from oslash.cont import Cont\n",
    "from oslash.util import identity, compose\n",
    "\n",
    "\n",
    "# pure = Cont.pure\n",
    "unit = Cont.unit\n",
    "call_cc = Cont.call_cc"
   ]
  },
  {
   "cell_type": "code",
   "execution_count": 416,
   "metadata": {},
   "outputs": [],
   "source": [
    "add = lambda x, y: unit(x + y)\n",
    "square = lambda x: unit(x * x)\n",
    "\n",
    "pythagoras = lambda x, y: square(x) | (lambda xx: (\n",
    "                          square(y) | (lambda yy: \n",
    "                          add(xx, yy))))"
   ]
  },
  {
   "cell_type": "code",
   "execution_count": 417,
   "metadata": {},
   "outputs": [
    {
     "data": {
      "text/plain": [
       "25"
      ]
     },
     "execution_count": 417,
     "metadata": {},
     "output_type": "execute_result"
    }
   ],
   "source": [
    "pythagoras(3,4)(identity)"
   ]
  },
  {
   "cell_type": "code",
   "execution_count": 418,
   "metadata": {},
   "outputs": [
    {
     "data": {
      "text/plain": [
       "32"
      ]
     },
     "execution_count": 418,
     "metadata": {},
     "output_type": "execute_result"
    }
   ],
   "source": [
    "pythagoras(4,4)(identity)"
   ]
  },
  {
   "cell_type": "markdown",
   "metadata": {},
   "source": [
    "### Maybe"
   ]
  },
  {
   "cell_type": "code",
   "execution_count": 425,
   "metadata": {},
   "outputs": [],
   "source": [
    "from oslash.maybe import Maybe, Just, Nothing\n",
    "from oslash.util import identity, compose, fmap\n",
    "\n",
    "pure = Just.pure\n",
    "unit = Just.unit"
   ]
  },
  {
   "cell_type": "code",
   "execution_count": 427,
   "metadata": {},
   "outputs": [
    {
     "data": {
      "text/plain": [
       "(Just 42, Just 42, True)"
      ]
     },
     "execution_count": 427,
     "metadata": {},
     "output_type": "execute_result"
    }
   ],
   "source": [
    "f = lambda x: x * 2\n",
    "x = Just(21)\n",
    "\n",
    "x.map(f), Just(42), x.map(f) == Just(42)"
   ]
  },
  {
   "cell_type": "code",
   "execution_count": null,
   "metadata": {},
   "outputs": [],
   "source": []
  }
 ],
 "metadata": {
  "kernelspec": {
   "display_name": "Python 2",
   "language": "python",
   "name": "python2"
  },
  "language_info": {
   "codemirror_mode": {
    "name": "ipython",
    "version": 3
   },
   "file_extension": ".py",
   "mimetype": "text/x-python",
   "name": "python",
   "nbconvert_exporter": "python",
   "pygments_lexer": "ipython3",
   "version": "3.6.2"
  },
  "varInspector": {
   "cols": {
    "lenName": 16,
    "lenType": 16,
    "lenVar": 40
   },
   "kernels_config": {
    "python": {
     "delete_cmd_postfix": "",
     "delete_cmd_prefix": "del ",
     "library": "var_list.py",
     "varRefreshCmd": "print(var_dic_list())"
    },
    "r": {
     "delete_cmd_postfix": ") ",
     "delete_cmd_prefix": "rm(",
     "library": "var_list.r",
     "varRefreshCmd": "cat(var_dic_list()) "
    }
   },
   "types_to_exclude": [
    "module",
    "function",
    "builtin_function_or_method",
    "instance",
    "_Feature"
   ],
   "window_display": false
  }
 },
 "nbformat": 4,
 "nbformat_minor": 2
}
