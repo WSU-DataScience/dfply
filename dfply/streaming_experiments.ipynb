{
 "cells": [
  {
   "cell_type": "markdown",
   "metadata": {},
   "source": [
    "# Thinking about the data frame class"
   ]
  },
  {
   "cell_type": "markdown",
   "metadata": {},
   "source": [
    "# Main motivation\n",
    "\n",
    "* This module will provide `dfply` functionality for a csv file read in with the `DictReader`"
   ]
  },
  {
   "cell_type": "code",
   "execution_count": 1,
   "metadata": {},
   "outputs": [
    {
     "name": "stdout",
     "output_type": "stream",
     "text": [
      "['__class__', '__delattr__', '__dir__', '__doc__', '__eq__', '__format__', '__ge__', '__getattribute__', '__gt__', '__hash__', '__init__', '__init_subclass__', '__iter__', '__le__', '__lt__', '__ne__', '__new__', '__next__', '__reduce__', '__reduce_ex__', '__repr__', '__setattr__', '__sizeof__', '__str__', '__subclasshook__', 'dialect', 'line_num']\n"
     ]
    },
    {
     "data": {
      "text/plain": [
       "([OrderedDict([('Salesperson', 'Ann'),\n",
       "               ('Compact', '22'),\n",
       "               ('Sedan', '18'),\n",
       "               ('SUV', '15'),\n",
       "               ('Truck', '12')]),\n",
       "  OrderedDict([('Salesperson', 'Bob'),\n",
       "               ('Compact', '19'),\n",
       "               ('Sedan', '12'),\n",
       "               ('SUV', '17'),\n",
       "               ('Truck', '20')]),\n",
       "  OrderedDict([('Salesperson', 'Yolanda'),\n",
       "               ('Compact', '19'),\n",
       "               ('Sedan', '8'),\n",
       "               ('SUV', '32'),\n",
       "               ('Truck', '15')]),\n",
       "  OrderedDict([('Salesperson', 'Xerxes'),\n",
       "               ('Compact', '12'),\n",
       "               ('Sedan', '23'),\n",
       "               ('SUV', '18'),\n",
       "               ('Truck', '9')])],\n",
       " ['Salesperson', 'Compact', 'Sedan', 'SUV', 'Truck'])"
      ]
     },
     "execution_count": 1,
     "metadata": {},
     "output_type": "execute_result"
    }
   ],
   "source": [
    "from csv import DictReader, Sniffer\n",
    "with open('./data/auto_sales.csv', newline='\\n') as csvfile:\n",
    "    dialect = Sniffer().sniff(csvfile.read(1024))\n",
    "    csvfile.seek(0)\n",
    "    reader = DictReader(csvfile, dialect=dialect)\n",
    "    print(dir(reader.reader))\n",
    "    columns = reader.fieldnames\n",
    "    l = list(reader)\n",
    "l, columns"
   ]
  },
  {
   "cell_type": "markdown",
   "metadata": {},
   "source": [
    "## Options\n",
    "\n",
    "* Replace `dict` rows a la `csv.DictReader` with `PMap` or `Records` from `pyrsistent`\n",
    "    * Advantages\n",
    "        * Immutable and persistent\n",
    "        * We can leverage some of the built-in features\n",
    "            * Types and Invariants\n",
    "            * Transformations\n",
    "    * Disadvantages\n",
    "        * Performance hit\n",
    "        * Rowwise\n",
    "* Create column generators + operations\n",
    "    * Advantages\n",
    "        * Makes columns operations very easy\n",
    "        * We can avoid Intention overhead\n",
    "    * Disadvantages\n",
    "        * Need to `intertools.tee` the original iterator"
   ]
  },
  {
   "cell_type": "markdown",
   "metadata": {},
   "source": [
    "## Use a `PRecord` to store the Column index \n",
    "\n",
    "Each dataframe will have a `column` attribute with the following properties\n",
    "\n",
    "* `all_columns` a ordered vector of all columns names\n",
    "    * Used to perform set complement with the invert operator `~`\n",
    "    * Used to refer to columns by index \n",
    "    * **TODO: do we want to store indexes in a dictionary? (probably premature optimization)**\n",
    "* `current_set` a set of column labels\n",
    "    * Used to create subsets\n",
    "    * Will be returned by column fields in a dynamically created subclass\n",
    "\n",
    "Note that this class acts like a set with the contents of `current_set` and most pset method/operators are available."
   ]
  },
  {
   "cell_type": "code",
   "execution_count": 10,
   "metadata": {},
   "outputs": [],
   "source": [
    "# Things I decided to remove/ignore\n",
    "_set_methods_return_set = ['remove', \n",
    "                           'copy', \n",
    "                           'discard', \n",
    "                           'add']"
   ]
  },
  {
   "cell_type": "code",
   "execution_count": 2,
   "metadata": {},
   "outputs": [],
   "source": [
    "from columns import Columns, make_columns\n",
    "from pyrsistent import pset"
   ]
  },
  {
   "cell_type": "code",
   "execution_count": 5,
   "metadata": {},
   "outputs": [
    {
     "data": {
      "text/plain": [
       "Column3(all_columns=StrPVector(['Salesperson', 'Compact', 'Sedan', 'SUV', 'Truck']), Compact=Columns(all_columns=StrPVector(['Salesperson', 'Compact', 'Sedan', 'SUV', 'Truck']), current_set=StrPSet(['Compact'])), Sedan=Columns(all_columns=StrPVector(['Salesperson', 'Compact', 'Sedan', 'SUV', 'Truck']), current_set=StrPSet(['Sedan'])), current_set=StrPSet(['Sedan', 'Truck', 'SUV', 'Compact', 'Salesperson']), SUV=Columns(all_columns=StrPVector(['Salesperson', 'Compact', 'Sedan', 'SUV', 'Truck']), current_set=StrPSet(['SUV'])), Truck=Columns(all_columns=StrPVector(['Salesperson', 'Compact', 'Sedan', 'SUV', 'Truck']), current_set=StrPSet(['Truck'])), Salesperson=Columns(all_columns=StrPVector(['Salesperson', 'Compact', 'Sedan', 'SUV', 'Truck']), current_set=StrPSet(['Salesperson'])))"
      ]
     },
     "execution_count": 5,
     "metadata": {},
     "output_type": "execute_result"
    }
   ],
   "source": [
    "columns = ['Salesperson', 'Compact', 'Sedan', 'SUV', 'Truck']\n",
    "cols = make_columns(columns)\n",
    "cols"
   ]
  },
  {
   "cell_type": "code",
   "execution_count": 47,
   "metadata": {},
   "outputs": [],
   "source": [
    "columns = ['Salesperson', 'Compact', 'Sedan', 'SUV', 'Truck']\n",
    "c1 = Columns(all_columns=columns, current_set=columns)\n",
    "c2 = Columns(all_columns=columns, current_set=columns)\n",
    "c3 = Columns(all_columns=columns, current_set=pset(['Truck','SUV']))\n",
    "\n",
    "def check_membership(items, cols):\n",
    "    return all(i in items for i in cols)\n",
    "def check_equality(items, cols):\n",
    "    return pset(items) == pset(cols)\n",
    "\n",
    "assert check_equality(['Compact', 'Truck', 'Salesperson', 'Sedan', 'SUV'], ~(c1 ^ c1))\n",
    "assert not c1 != c1\n",
    "assert not c1 != c2\n",
    "assert c1 != c3\n",
    "assert check_membership(['Compact', 'Salesperson', 'Sedan'], c1 ^ c1)\n",
    "assert check_equality([],  c1 ^ c2)\n",
    "assert check_equality(['Compact', 'Salesperson', 'Sedan'], c1 ^ c3)\n",
    "assert check_equality(['Compact', 'Truck', 'Salesperson', 'Sedan', 'SUV'], ~(c1 ^ c2))\n",
    "assert check_equality(['Truck', 'SUV'], ~(c1 ^ c3))\n",
    "assert check_equality(columns, c1 & c1)\n",
    "assert check_equality(columns, c1 & c2)\n",
    "assert check_equality(['Truck', 'SUV'], c1 & c3)\n",
    "assert check_equality([], c1 - c1)\n",
    "assert check_equality([], c1 - c2)\n",
    "assert check_equality(['Compact', 'Salesperson', 'Sedan'], c1 - c3)\n",
    "assert check_equality(['Truck', 'SUV'], ~(c1 - c3))"
   ]
  },
  {
   "cell_type": "code",
   "execution_count": 19,
   "metadata": {
    "scrolled": true
   },
   "outputs": [
    {
     "ename": "NameError",
     "evalue": "name 'column_fields' is not defined",
     "output_type": "error",
     "traceback": [
      "\u001b[0;31m---------------------------------------------------------------------------\u001b[0m",
      "\u001b[0;31mNameError\u001b[0m                                 Traceback (most recent call last)",
      "\u001b[0;32m<ipython-input-19-ddc95730d970>\u001b[0m in \u001b[0;36m<module>\u001b[0;34m()\u001b[0m\n\u001b[0;32m----> 1\u001b[0;31m \u001b[0mcol_fields\u001b[0m \u001b[0;34m=\u001b[0m \u001b[0mcolumn_fields\u001b[0m\u001b[0;34m(\u001b[0m\u001b[0mcolumns\u001b[0m\u001b[0;34m)\u001b[0m\u001b[0;34m\u001b[0m\u001b[0m\n\u001b[0m\u001b[1;32m      2\u001b[0m \u001b[0;32massert\u001b[0m \u001b[0mcheck_membership\u001b[0m\u001b[0;34m(\u001b[0m\u001b[0mcolumns\u001b[0m\u001b[0;34m,\u001b[0m \u001b[0mlist\u001b[0m\u001b[0;34m(\u001b[0m\u001b[0mcol_fields\u001b[0m\u001b[0;34m.\u001b[0m\u001b[0mkeys\u001b[0m\u001b[0;34m(\u001b[0m\u001b[0;34m)\u001b[0m\u001b[0;34m)\u001b[0m\u001b[0;34m)\u001b[0m\u001b[0;34m\u001b[0m\u001b[0m\n\u001b[1;32m      3\u001b[0m \u001b[0;32massert\u001b[0m \u001b[0mall\u001b[0m\u001b[0;34m(\u001b[0m\u001b[0misinstance\u001b[0m\u001b[0;34m(\u001b[0m\u001b[0mv\u001b[0m\u001b[0;34m,\u001b[0m \u001b[0mpyrsistent\u001b[0m\u001b[0;34m.\u001b[0m\u001b[0m_field_common\u001b[0m\u001b[0;34m.\u001b[0m\u001b[0m_PField\u001b[0m\u001b[0;34m)\u001b[0m \u001b[0;32mfor\u001b[0m \u001b[0mv\u001b[0m \u001b[0;32min\u001b[0m \u001b[0mcol_fields\u001b[0m\u001b[0;34m.\u001b[0m\u001b[0mvalues\u001b[0m\u001b[0;34m(\u001b[0m\u001b[0;34m)\u001b[0m\u001b[0;34m)\u001b[0m\u001b[0;34m\u001b[0m\u001b[0m\n",
      "\u001b[0;31mNameError\u001b[0m: name 'column_fields' is not defined"
     ]
    }
   ],
   "source": [
    "col_fields = column_fields(columns)\n",
    "assert check_membership(columns, list(col_fields.keys()))\n",
    "assert all(isinstance(v, pyrsistent._field_common._PField) for v in col_fields.values())"
   ]
  },
  {
   "cell_type": "code",
   "execution_count": 33,
   "metadata": {},
   "outputs": [
    {
     "data": {
      "text/plain": [
       "{'Salesperson': <pyrsistent._field_common._PField at 0x1126b9780>,\n",
       " 'Compact': <pyrsistent._field_common._PField at 0x1126b9fc0>,\n",
       " 'Sedan': <pyrsistent._field_common._PField at 0x1126b9f10>,\n",
       " 'SUV': <pyrsistent._field_common._PField at 0x1126b9e60>,\n",
       " 'Truck': <pyrsistent._field_common._PField at 0x1126b9e08>}"
      ]
     },
     "execution_count": 33,
     "metadata": {},
     "output_type": "execute_result"
    }
   ],
   "source": [
    "from columns import _column_fields\n",
    "col_fields = _column_fields(columns)\n",
    "col_fields"
   ]
  },
  {
   "cell_type": "code",
   "execution_count": 34,
   "metadata": {},
   "outputs": [],
   "source": [
    "from columns import _column_fields\n",
    "from pyrsistent._field_common import _PField\n",
    "def test_col_fields():\n",
    "    col_fields = _column_fields(columns)\n",
    "    assert check_membership(columns, list(col_fields.keys()))\n",
    "    assert all(isinstance(v, _PField) for v in col_fields.values())\n",
    "test_col_fields()"
   ]
  },
  {
   "cell_type": "code",
   "execution_count": 35,
   "metadata": {},
   "outputs": [
    {
     "data": {
      "text/plain": [
       "pmap({'all_columns': ['Salesperson', 'Compact', 'Sedan', 'SUV', 'Truck'], 'Sedan': 'Sedan', 'Compact': 'Compact', 'current_set': ['Salesperson', 'Compact', 'Sedan', 'SUV', 'Truck'], 'Truck': 'Truck', 'SUV': 'SUV', 'Salesperson': 'Salesperson'})"
      ]
     },
     "execution_count": 35,
     "metadata": {},
     "output_type": "execute_result"
    }
   ],
   "source": [
    "from columns import _make_columns_input\n",
    "col_input = _make_columns_input(columns)\n",
    "col_input"
   ]
  },
  {
   "cell_type": "code",
   "execution_count": 36,
   "metadata": {},
   "outputs": [],
   "source": [
    "from columns import _make_columns_input\n",
    "def test_col_input():\n",
    "    col_input = _make_columns_input(columns)\n",
    "    assert col_input['all_columns'] == columns\n",
    "    assert col_input['current_set'] == columns\n",
    "    assert all(col_input[k] == k for k in columns)\n",
    "test_col_input()"
   ]
  },
  {
   "cell_type": "code",
   "execution_count": 42,
   "metadata": {},
   "outputs": [
    {
     "data": {
      "text/plain": [
       "Column5(all_columns=StrPVector(['Salesperson', 'Compact', 'Sedan', 'SUV', 'Truck']), Compact=Columns(all_columns=StrPVector(['Salesperson', 'Compact', 'Sedan', 'SUV', 'Truck']), current_set=StrPSet(['Compact'])), Sedan=Columns(all_columns=StrPVector(['Salesperson', 'Compact', 'Sedan', 'SUV', 'Truck']), current_set=StrPSet(['Sedan'])), current_set=StrPSet(['Sedan', 'Truck', 'SUV', 'Compact', 'Salesperson']), SUV=Columns(all_columns=StrPVector(['Salesperson', 'Compact', 'Sedan', 'SUV', 'Truck']), current_set=StrPSet(['SUV'])), Truck=Columns(all_columns=StrPVector(['Salesperson', 'Compact', 'Sedan', 'SUV', 'Truck']), current_set=StrPSet(['Truck'])), Salesperson=Columns(all_columns=StrPVector(['Salesperson', 'Compact', 'Sedan', 'SUV', 'Truck']), current_set=StrPSet(['Salesperson'])))"
      ]
     },
     "execution_count": 42,
     "metadata": {},
     "output_type": "execute_result"
    }
   ],
   "source": [
    "from columns import make_columns\n",
    "columns = ['Salesperson', 'Compact', 'Sedan', 'SUV', 'Truck']\n",
    "cols = make_columns(columns)\n",
    "cols"
   ]
  },
  {
   "cell_type": "code",
   "execution_count": 40,
   "metadata": {},
   "outputs": [
    {
     "data": {
      "text/plain": [
       "Columns(all_columns=StrPVector(['Salesperson', 'Compact', 'Sedan', 'SUV', 'Truck']), current_set=StrPSet(['Salesperson']))"
      ]
     },
     "execution_count": 40,
     "metadata": {},
     "output_type": "execute_result"
    }
   ],
   "source": [
    "cols.Salesperson "
   ]
  },
  {
   "cell_type": "code",
   "execution_count": 50,
   "metadata": {},
   "outputs": [],
   "source": [
    "from columns import make_columns\n",
    "def test_columns_field():\n",
    "    cols = make_columns(columns)\n",
    "    assert check_membership(columns, cols.Salesperson.all_columns)\n",
    "    assert check_equality(['Salesperson'], cols.Salesperson.current_set)\n",
    "test_columns_field()"
   ]
  },
  {
   "cell_type": "code",
   "execution_count": 41,
   "metadata": {},
   "outputs": [
    {
     "data": {
      "text/plain": [
       "Columns(all_columns=StrPVector(['Salesperson', 'Compact', 'Sedan', 'SUV', 'Truck']), current_set=StrPSet(['Truck']))"
      ]
     },
     "execution_count": 41,
     "metadata": {},
     "output_type": "execute_result"
    }
   ],
   "source": [
    "cols.Truck "
   ]
  },
  {
   "cell_type": "code",
   "execution_count": 37,
   "metadata": {
    "scrolled": true
   },
   "outputs": [
    {
     "data": {
      "text/plain": [
       "Columns(all_columns=StrPVector(['Salesperson', 'Compact', 'Sedan', 'SUV', 'Truck']), current_set=StrPSet(['Truck', 'Salesperson']))"
      ]
     },
     "execution_count": 37,
     "metadata": {},
     "output_type": "execute_result"
    }
   ],
   "source": [
    "cols.Salesperson + cols.Truck"
   ]
  },
  {
   "cell_type": "code",
   "execution_count": 38,
   "metadata": {},
   "outputs": [
    {
     "data": {
      "text/plain": [
       "Columns(all_columns=StrPVector(['Salesperson', 'Compact', 'Sedan', 'SUV', 'Truck']), current_set=StrPSet(['Compact', 'Sedan', 'SUV']))"
      ]
     },
     "execution_count": 38,
     "metadata": {},
     "output_type": "execute_result"
    }
   ],
   "source": [
    "~(cols.Salesperson + cols.Truck)"
   ]
  },
  {
   "cell_type": "code",
   "execution_count": 57,
   "metadata": {
    "scrolled": true
   },
   "outputs": [],
   "source": [
    "def test_field_operations():\n",
    "    cols = make_columns(columns)\n",
    "    out1 = cols.Salesperson + cols.Truck\n",
    "    out2 = ~(cols.Salesperson + cols.Truck)\n",
    "    assert all(check_equality(columns, o.all_columns) for o in (out1, out2))\n",
    "    assert check_equality(['Truck', 'Salesperson'], out1.current_set)\n",
    "    assert check_equality(['Compact', 'Sedan', 'SUV'], out2.current_set)\n",
    "test_field_operations()"
   ]
  },
  {
   "cell_type": "markdown",
   "metadata": {},
   "source": [
    "## Intensions on column precord\n",
    "\n",
    "Applying an col record gives col names"
   ]
  },
  {
   "cell_type": "code",
   "execution_count": 58,
   "metadata": {},
   "outputs": [
    {
     "data": {
      "text/plain": [
       "Column14(all_columns=StrPVector(['Salesperson', 'Compact', 'Sedan', 'SUV', 'Truck']), Compact=Columns(all_columns=StrPVector(['Salesperson', 'Compact', 'Sedan', 'SUV', 'Truck']), current_set=StrPSet(['Compact'])), Sedan=Columns(all_columns=StrPVector(['Salesperson', 'Compact', 'Sedan', 'SUV', 'Truck']), current_set=StrPSet(['Sedan'])), current_set=StrPSet(['Sedan', 'Truck', 'SUV', 'Compact', 'Salesperson']), SUV=Columns(all_columns=StrPVector(['Salesperson', 'Compact', 'Sedan', 'SUV', 'Truck']), current_set=StrPSet(['SUV'])), Truck=Columns(all_columns=StrPVector(['Salesperson', 'Compact', 'Sedan', 'SUV', 'Truck']), current_set=StrPSet(['Truck'])), Salesperson=Columns(all_columns=StrPVector(['Salesperson', 'Compact', 'Sedan', 'SUV', 'Truck']), current_set=StrPSet(['Salesperson'])))"
      ]
     },
     "execution_count": 58,
     "metadata": {},
     "output_type": "execute_result"
    }
   ],
   "source": [
    "from dfply import Intention\n",
    "from dfply.base import _set_magic_method\n",
    "\n",
    "# To make the invert operator, ~, work for complements\n",
    "setattr(Intention, '__invert__', _set_magic_method('__invert__'))\n",
    "X = Intention()\n",
    "\n",
    "columns = ['Salesperson', 'Compact', 'Sedan', 'SUV', 'Truck']\n",
    "cols = make_columns(columns)\n",
    "cols"
   ]
  },
  {
   "cell_type": "code",
   "execution_count": 59,
   "metadata": {},
   "outputs": [],
   "source": [
    "e1 = X.SUV\n",
    "e2 = X.Truck\n",
    "e3 = e1 + e2\n",
    "e4 = ~e3"
   ]
  },
  {
   "cell_type": "code",
   "execution_count": 60,
   "metadata": {},
   "outputs": [
    {
     "data": {
      "text/plain": [
       "(Columns(all_columns=StrPVector(['Salesperson', 'Compact', 'Sedan', 'SUV', 'Truck']), current_set=StrPSet(['SUV'])),\n",
       " Columns(all_columns=StrPVector(['Salesperson', 'Compact', 'Sedan', 'SUV', 'Truck']), current_set=StrPSet(['Truck'])),\n",
       " Columns(all_columns=StrPVector(['Salesperson', 'Compact', 'Sedan', 'SUV', 'Truck']), current_set=StrPSet(['Truck', 'SUV'])),\n",
       " Columns(all_columns=StrPVector(['Salesperson', 'Compact', 'Sedan', 'SUV', 'Truck']), current_set=StrPSet(['Compact', 'Sedan', 'Salesperson'])))"
      ]
     },
     "execution_count": 60,
     "metadata": {},
     "output_type": "execute_result"
    }
   ],
   "source": [
    "a1 = e1.evaluate(cols)\n",
    "a2 = e2.evaluate(cols)\n",
    "a3 = e3.evaluate(cols)\n",
    "a4 = e4.evaluate(cols)\n",
    "a1, a2, a3, a4"
   ]
  },
  {
   "cell_type": "markdown",
   "metadata": {},
   "source": [
    "## Making a `Row` with type"
   ]
  },
  {
   "cell_type": "code",
   "execution_count": 2,
   "metadata": {},
   "outputs": [],
   "source": [
    "from row import *"
   ]
  },
  {
   "cell_type": "code",
   "execution_count": 3,
   "metadata": {},
   "outputs": [
    {
     "data": {
      "text/plain": [
       "pmap({'Compact': <class 'int'>, 'Truck': <class 'int'>, 'SUV': <class 'int'>, 'Sedan': <class 'int'>, 'Salesperson': <class 'str'>})"
      ]
     },
     "execution_count": 3,
     "metadata": {},
     "output_type": "execute_result"
    }
   ],
   "source": [
    "columns = ['Salesperson', 'Compact', 'Sedan', 'SUV', 'Truck']\n",
    "my_col_types = {'Salesperson':str, \n",
    "             'SUV':int, \n",
    "             'Truck':int}\n",
    "my_col_types2 = freeze(my_col_types).update({'Sedan':int, 'Compact':int})\n",
    "my_col_types2"
   ]
  },
  {
   "cell_type": "code",
   "execution_count": 4,
   "metadata": {},
   "outputs": [
    {
     "data": {
      "text/plain": [
       "[Row2(SUV=15, Compact=22, Salesperson='Ann', Truck=12, Sedan=18),\n",
       " Row2(SUV=17, Compact=19, Salesperson='Bob', Truck=20, Sedan=12),\n",
       " Row2(SUV=32, Compact=19, Salesperson='Yolanda', Truck=15, Sedan=8),\n",
       " Row2(SUV=18, Compact=12, Salesperson='Xerxes', Truck=9, Sedan=23)]"
      ]
     },
     "execution_count": 4,
     "metadata": {},
     "output_type": "execute_result"
    }
   ],
   "source": [
    "Row = make_row_class(columns, my_col_types)\n",
    "rows1 = [Row(**row) for row in l]\n",
    "Row = make_row_class(columns, my_col_types2)\n",
    "rows2 = [Row(**row) for row in l]\n",
    "rows2"
   ]
  },
  {
   "cell_type": "code",
   "execution_count": 5,
   "metadata": {},
   "outputs": [
    {
     "data": {
      "text/plain": [
       "{NoneType, str}"
      ]
     },
     "execution_count": 5,
     "metadata": {},
     "output_type": "execute_result"
    }
   ],
   "source": [
    "r1 = rows2[0]\n",
    "r1._precord_fields['Salesperson'].type"
   ]
  },
  {
   "cell_type": "markdown",
   "metadata": {},
   "source": [
    "### This approach makes column arithmetic easy"
   ]
  },
  {
   "cell_type": "code",
   "execution_count": 6,
   "metadata": {},
   "outputs": [
    {
     "data": {
      "text/plain": [
       "['ann', 'bob', 'yolanda', 'xerxes']"
      ]
     },
     "execution_count": 6,
     "metadata": {},
     "output_type": "execute_result"
    }
   ],
   "source": [
    "[r.Salesperson.lower() for r in rows2]"
   ]
  },
  {
   "cell_type": "markdown",
   "metadata": {},
   "source": [
    "## The adjust method gives us the ability to map functions onto a column"
   ]
  },
  {
   "cell_type": "code",
   "execution_count": 7,
   "metadata": {},
   "outputs": [
    {
     "data": {
      "text/plain": [
       "[Row2(SUV=15, Compact=22, Salesperson='ann', Truck=12, Sedan=18),\n",
       " Row2(SUV=17, Compact=19, Salesperson='bob', Truck=20, Sedan=12),\n",
       " Row2(SUV=32, Compact=19, Salesperson='yolanda', Truck=15, Sedan=8),\n",
       " Row2(SUV=18, Compact=12, Salesperson='xerxes', Truck=9, Sedan=23)]"
      ]
     },
     "execution_count": 7,
     "metadata": {},
     "output_type": "execute_result"
    }
   ],
   "source": [
    "[r.adjust('Salesperson', lambda s: s.lower()) for r in rows2]"
   ]
  },
  {
   "cell_type": "markdown",
   "metadata": {},
   "source": [
    "## Embedding `r.adjust` in a lambda allows us to map over the data frame"
   ]
  },
  {
   "cell_type": "code",
   "execution_count": 8,
   "metadata": {},
   "outputs": [
    {
     "data": {
      "text/plain": [
       "[Row2(SUV=15, Compact=22, Salesperson='ann', Truck=12, Sedan=18),\n",
       " Row2(SUV=17, Compact=19, Salesperson='bob', Truck=20, Sedan=12),\n",
       " Row2(SUV=32, Compact=19, Salesperson='yolanda', Truck=15, Sedan=8),\n",
       " Row2(SUV=18, Compact=12, Salesperson='xerxes', Truck=9, Sedan=23)]"
      ]
     },
     "execution_count": 8,
     "metadata": {},
     "output_type": "execute_result"
    }
   ],
   "source": [
    "row_func = lambda r: r.adjust('Salesperson', lambda s: s.lower())\n",
    "list(map(row_func, rows2))"
   ]
  },
  {
   "cell_type": "markdown",
   "metadata": {},
   "source": [
    "## We can use `r.adjust_with` to apply many functions at once"
   ]
  },
  {
   "cell_type": "code",
   "execution_count": 9,
   "metadata": {
    "scrolled": true
   },
   "outputs": [
    {
     "data": {
      "text/plain": [
       "[Row2(SUV=30, Compact=44, Salesperson='Ann', Truck=24, Sedan=36),\n",
       " Row2(SUV=34, Compact=38, Salesperson='Bob', Truck=40, Sedan=24),\n",
       " Row2(SUV=64, Compact=38, Salesperson='Yolanda', Truck=30, Sedan=16),\n",
       " Row2(SUV=36, Compact=24, Salesperson='Xerxes', Truck=18, Sedan=46)]"
      ]
     },
     "execution_count": 9,
     "metadata": {},
     "output_type": "execute_result"
    }
   ],
   "source": [
    "funcs = {col:lambda x: 2*x for col in columns if col != 'Salesperson'}\n",
    "[r.adjust_with(**funcs) for r in rows2]"
   ]
  },
  {
   "cell_type": "markdown",
   "metadata": {},
   "source": [
    "## Embedding `r.adjust_with` in a lambda allows us to map over the data frame"
   ]
  },
  {
   "cell_type": "code",
   "execution_count": 10,
   "metadata": {},
   "outputs": [
    {
     "data": {
      "text/plain": [
       "[Row2(SUV=30, Compact=44, Salesperson='Ann', Truck=24, Sedan=36),\n",
       " Row2(SUV=34, Compact=38, Salesperson='Bob', Truck=40, Sedan=24),\n",
       " Row2(SUV=64, Compact=38, Salesperson='Yolanda', Truck=30, Sedan=16),\n",
       " Row2(SUV=36, Compact=24, Salesperson='Xerxes', Truck=18, Sedan=46)]"
      ]
     },
     "execution_count": 10,
     "metadata": {},
     "output_type": "execute_result"
    }
   ],
   "source": [
    "funcs = {col:lambda x: 2*x for col in columns if col != 'Salesperson'}\n",
    "row_func2 = lambda r: r.adjust_with(**funcs)\n",
    "list(map(row_func2, rows2))"
   ]
  },
  {
   "cell_type": "markdown",
   "metadata": {},
   "source": [
    "## Rows content can also be accessed using the standard dict indexing"
   ]
  },
  {
   "cell_type": "code",
   "execution_count": 11,
   "metadata": {},
   "outputs": [
    {
     "data": {
      "text/plain": [
       "[27, 37, 47, 27]"
      ]
     },
     "execution_count": 11,
     "metadata": {},
     "output_type": "execute_result"
    }
   ],
   "source": [
    "[r['Truck'] + r['SUV'] for r in rows2]"
   ]
  },
  {
   "cell_type": "markdown",
   "metadata": {},
   "source": [
    "## The set method is another method of altering the content of a row"
   ]
  },
  {
   "cell_type": "code",
   "execution_count": 13,
   "metadata": {},
   "outputs": [
    {
     "data": {
      "text/plain": [
       "[Row2(SUV=30, Compact=22, Salesperson='ann', Truck=12, Sedan=18),\n",
       " Row2(SUV=34, Compact=19, Salesperson='bob', Truck=20, Sedan=12),\n",
       " Row2(SUV=64, Compact=19, Salesperson='yolanda', Truck=15, Sedan=8),\n",
       " Row2(SUV=36, Compact=12, Salesperson='xerxes', Truck=9, Sedan=23)]"
      ]
     },
     "execution_count": 13,
     "metadata": {},
     "output_type": "execute_result"
    }
   ],
   "source": [
    "[r.set(Salesperson = r.Salesperson.lower(), SUV = r.SUV*2) for r in rows2]"
   ]
  },
  {
   "cell_type": "markdown",
   "metadata": {},
   "source": [
    "## Using this approach makes it harder to make new columns -- We will need to make a new row class when mutating or selecting"
   ]
  },
  {
   "cell_type": "code",
   "execution_count": 14,
   "metadata": {},
   "outputs": [
    {
     "ename": "AttributeError",
     "evalue": "'Utility' is not among the specified fields for Row2",
     "output_type": "error",
     "traceback": [
      "\u001b[0;31m---------------------------------------------------------------------------\u001b[0m",
      "\u001b[0;31mAttributeError\u001b[0m                            Traceback (most recent call last)",
      "\u001b[0;32m<ipython-input-14-f91c3570362d>\u001b[0m in \u001b[0;36m<module>\u001b[0;34m()\u001b[0m\n\u001b[0;32m----> 1\u001b[0;31m \u001b[0;34m[\u001b[0m\u001b[0mr\u001b[0m\u001b[0;34m.\u001b[0m\u001b[0mset\u001b[0m\u001b[0;34m(\u001b[0m\u001b[0mUtility\u001b[0m \u001b[0;34m=\u001b[0m \u001b[0mr\u001b[0m\u001b[0;34m.\u001b[0m\u001b[0mTruck\u001b[0m \u001b[0;34m+\u001b[0m \u001b[0mr\u001b[0m\u001b[0;34m.\u001b[0m\u001b[0mSUV\u001b[0m\u001b[0;34m)\u001b[0m \u001b[0;32mfor\u001b[0m \u001b[0mr\u001b[0m \u001b[0;32min\u001b[0m \u001b[0mrows2\u001b[0m\u001b[0;34m]\u001b[0m\u001b[0;34m\u001b[0m\u001b[0m\n\u001b[0m",
      "\u001b[0;32m<ipython-input-14-f91c3570362d>\u001b[0m in \u001b[0;36m<listcomp>\u001b[0;34m(.0)\u001b[0m\n\u001b[0;32m----> 1\u001b[0;31m \u001b[0;34m[\u001b[0m\u001b[0mr\u001b[0m\u001b[0;34m.\u001b[0m\u001b[0mset\u001b[0m\u001b[0;34m(\u001b[0m\u001b[0mUtility\u001b[0m \u001b[0;34m=\u001b[0m \u001b[0mr\u001b[0m\u001b[0;34m.\u001b[0m\u001b[0mTruck\u001b[0m \u001b[0;34m+\u001b[0m \u001b[0mr\u001b[0m\u001b[0;34m.\u001b[0m\u001b[0mSUV\u001b[0m\u001b[0;34m)\u001b[0m \u001b[0;32mfor\u001b[0m \u001b[0mr\u001b[0m \u001b[0;32min\u001b[0m \u001b[0mrows2\u001b[0m\u001b[0;34m]\u001b[0m\u001b[0;34m\u001b[0m\u001b[0m\n\u001b[0m",
      "\u001b[0;32m~/.pyenv/versions/anaconda3-5.0.0/lib/python3.6/site-packages/pyrsistent/_precord.py\u001b[0m in \u001b[0;36mset\u001b[0;34m(self, *args, **kwargs)\u001b[0m\n\u001b[1;32m     65\u001b[0m             \u001b[0;32mreturn\u001b[0m \u001b[0msuper\u001b[0m\u001b[0;34m(\u001b[0m\u001b[0mPRecord\u001b[0m\u001b[0;34m,\u001b[0m \u001b[0mself\u001b[0m\u001b[0;34m)\u001b[0m\u001b[0;34m.\u001b[0m\u001b[0mset\u001b[0m\u001b[0;34m(\u001b[0m\u001b[0margs\u001b[0m\u001b[0;34m[\u001b[0m\u001b[0;36m0\u001b[0m\u001b[0;34m]\u001b[0m\u001b[0;34m,\u001b[0m \u001b[0margs\u001b[0m\u001b[0;34m[\u001b[0m\u001b[0;36m1\u001b[0m\u001b[0;34m]\u001b[0m\u001b[0;34m)\u001b[0m\u001b[0;34m\u001b[0m\u001b[0m\n\u001b[1;32m     66\u001b[0m \u001b[0;34m\u001b[0m\u001b[0m\n\u001b[0;32m---> 67\u001b[0;31m         \u001b[0;32mreturn\u001b[0m \u001b[0mself\u001b[0m\u001b[0;34m.\u001b[0m\u001b[0mupdate\u001b[0m\u001b[0;34m(\u001b[0m\u001b[0mkwargs\u001b[0m\u001b[0;34m)\u001b[0m\u001b[0;34m\u001b[0m\u001b[0m\n\u001b[0m\u001b[1;32m     68\u001b[0m \u001b[0;34m\u001b[0m\u001b[0m\n\u001b[1;32m     69\u001b[0m     \u001b[0;32mdef\u001b[0m \u001b[0mevolver\u001b[0m\u001b[0;34m(\u001b[0m\u001b[0mself\u001b[0m\u001b[0;34m)\u001b[0m\u001b[0;34m:\u001b[0m\u001b[0;34m\u001b[0m\u001b[0m\n",
      "\u001b[0;32m~/.pyenv/versions/anaconda3-5.0.0/lib/python3.6/site-packages/pyrsistent/_pmap.py\u001b[0m in \u001b[0;36mupdate\u001b[0;34m(self, *maps)\u001b[0m\n\u001b[1;32m    218\u001b[0m         \u001b[0mpmap\u001b[0m\u001b[0;34m(\u001b[0m\u001b[0;34m{\u001b[0m\u001b[0;34m'a'\u001b[0m\u001b[0;34m:\u001b[0m \u001b[0;36m17\u001b[0m\u001b[0;34m,\u001b[0m \u001b[0;34m'c'\u001b[0m\u001b[0;34m:\u001b[0m \u001b[0;36m3\u001b[0m\u001b[0;34m,\u001b[0m \u001b[0;34m'b'\u001b[0m\u001b[0;34m:\u001b[0m \u001b[0;36m2\u001b[0m\u001b[0;34m,\u001b[0m \u001b[0;34m'd'\u001b[0m\u001b[0;34m:\u001b[0m \u001b[0;36m35\u001b[0m\u001b[0;34m}\u001b[0m\u001b[0;34m)\u001b[0m\u001b[0;34m\u001b[0m\u001b[0m\n\u001b[1;32m    219\u001b[0m         \"\"\"\n\u001b[0;32m--> 220\u001b[0;31m         \u001b[0;32mreturn\u001b[0m \u001b[0mself\u001b[0m\u001b[0;34m.\u001b[0m\u001b[0mupdate_with\u001b[0m\u001b[0;34m(\u001b[0m\u001b[0;32mlambda\u001b[0m \u001b[0ml\u001b[0m\u001b[0;34m,\u001b[0m \u001b[0mr\u001b[0m\u001b[0;34m:\u001b[0m \u001b[0mr\u001b[0m\u001b[0;34m,\u001b[0m \u001b[0;34m*\u001b[0m\u001b[0mmaps\u001b[0m\u001b[0;34m)\u001b[0m\u001b[0;34m\u001b[0m\u001b[0m\n\u001b[0m\u001b[1;32m    221\u001b[0m \u001b[0;34m\u001b[0m\u001b[0m\n\u001b[1;32m    222\u001b[0m     \u001b[0;32mdef\u001b[0m \u001b[0mupdate_with\u001b[0m\u001b[0;34m(\u001b[0m\u001b[0mself\u001b[0m\u001b[0;34m,\u001b[0m \u001b[0mupdate_fn\u001b[0m\u001b[0;34m,\u001b[0m \u001b[0;34m*\u001b[0m\u001b[0mmaps\u001b[0m\u001b[0;34m)\u001b[0m\u001b[0;34m:\u001b[0m\u001b[0;34m\u001b[0m\u001b[0m\n",
      "\u001b[0;32m~/.pyenv/versions/anaconda3-5.0.0/lib/python3.6/site-packages/pyrsistent/_pmap.py\u001b[0m in \u001b[0;36mupdate_with\u001b[0;34m(self, update_fn, *maps)\u001b[0m\n\u001b[1;32m    239\u001b[0m         \u001b[0;32mfor\u001b[0m \u001b[0mmap\u001b[0m \u001b[0;32min\u001b[0m \u001b[0mmaps\u001b[0m\u001b[0;34m:\u001b[0m\u001b[0;34m\u001b[0m\u001b[0m\n\u001b[1;32m    240\u001b[0m             \u001b[0;32mfor\u001b[0m \u001b[0mkey\u001b[0m\u001b[0;34m,\u001b[0m \u001b[0mvalue\u001b[0m \u001b[0;32min\u001b[0m \u001b[0mmap\u001b[0m\u001b[0;34m.\u001b[0m\u001b[0mitems\u001b[0m\u001b[0;34m(\u001b[0m\u001b[0;34m)\u001b[0m\u001b[0;34m:\u001b[0m\u001b[0;34m\u001b[0m\u001b[0m\n\u001b[0;32m--> 241\u001b[0;31m                 \u001b[0mevolver\u001b[0m\u001b[0;34m.\u001b[0m\u001b[0mset\u001b[0m\u001b[0;34m(\u001b[0m\u001b[0mkey\u001b[0m\u001b[0;34m,\u001b[0m \u001b[0mupdate_fn\u001b[0m\u001b[0;34m(\u001b[0m\u001b[0mevolver\u001b[0m\u001b[0;34m[\u001b[0m\u001b[0mkey\u001b[0m\u001b[0;34m]\u001b[0m\u001b[0;34m,\u001b[0m \u001b[0mvalue\u001b[0m\u001b[0;34m)\u001b[0m \u001b[0;32mif\u001b[0m \u001b[0mkey\u001b[0m \u001b[0;32min\u001b[0m \u001b[0mevolver\u001b[0m \u001b[0;32melse\u001b[0m \u001b[0mvalue\u001b[0m\u001b[0;34m)\u001b[0m\u001b[0;34m\u001b[0m\u001b[0m\n\u001b[0m\u001b[1;32m    242\u001b[0m \u001b[0;34m\u001b[0m\u001b[0m\n\u001b[1;32m    243\u001b[0m         \u001b[0;32mreturn\u001b[0m \u001b[0mevolver\u001b[0m\u001b[0;34m.\u001b[0m\u001b[0mpersistent\u001b[0m\u001b[0;34m(\u001b[0m\u001b[0;34m)\u001b[0m\u001b[0;34m\u001b[0m\u001b[0m\n",
      "\u001b[0;32m~/.pyenv/versions/anaconda3-5.0.0/lib/python3.6/site-packages/pyrsistent/_precord.py\u001b[0m in \u001b[0;36mset\u001b[0;34m(self, key, original_value)\u001b[0m\n\u001b[1;32m    140\u001b[0m             \u001b[0;32mreturn\u001b[0m \u001b[0msuper\u001b[0m\u001b[0;34m(\u001b[0m\u001b[0m_PRecordEvolver\u001b[0m\u001b[0;34m,\u001b[0m \u001b[0mself\u001b[0m\u001b[0;34m)\u001b[0m\u001b[0;34m.\u001b[0m\u001b[0mset\u001b[0m\u001b[0;34m(\u001b[0m\u001b[0mkey\u001b[0m\u001b[0;34m,\u001b[0m \u001b[0mvalue\u001b[0m\u001b[0;34m)\u001b[0m\u001b[0;34m\u001b[0m\u001b[0m\n\u001b[1;32m    141\u001b[0m         \u001b[0;32melse\u001b[0m\u001b[0;34m:\u001b[0m\u001b[0;34m\u001b[0m\u001b[0m\n\u001b[0;32m--> 142\u001b[0;31m             \u001b[0;32mraise\u001b[0m \u001b[0mAttributeError\u001b[0m\u001b[0;34m(\u001b[0m\u001b[0;34m\"'{0}' is not among the specified fields for {1}\"\u001b[0m\u001b[0;34m.\u001b[0m\u001b[0mformat\u001b[0m\u001b[0;34m(\u001b[0m\u001b[0mkey\u001b[0m\u001b[0;34m,\u001b[0m \u001b[0mself\u001b[0m\u001b[0;34m.\u001b[0m\u001b[0m_destination_cls\u001b[0m\u001b[0;34m.\u001b[0m\u001b[0m__name__\u001b[0m\u001b[0;34m)\u001b[0m\u001b[0;34m)\u001b[0m\u001b[0;34m\u001b[0m\u001b[0m\n\u001b[0m\u001b[1;32m    143\u001b[0m \u001b[0;34m\u001b[0m\u001b[0m\n\u001b[1;32m    144\u001b[0m     \u001b[0;32mdef\u001b[0m \u001b[0mpersistent\u001b[0m\u001b[0;34m(\u001b[0m\u001b[0mself\u001b[0m\u001b[0;34m)\u001b[0m\u001b[0;34m:\u001b[0m\u001b[0;34m\u001b[0m\u001b[0m\n",
      "\u001b[0;31mAttributeError\u001b[0m: 'Utility' is not among the specified fields for Row2"
     ]
    }
   ],
   "source": [
    "[r.set(Utility = r.Truck + r.SUV) for r in rows2]"
   ]
  },
  {
   "cell_type": "markdown",
   "metadata": {},
   "source": [
    "## Use `alter` and `alter_with` to create new columns\n",
    "\n",
    "**Note that we lose the Row structure, which will need to be applied in the data frame.**"
   ]
  },
  {
   "cell_type": "code",
   "execution_count": 15,
   "metadata": {},
   "outputs": [
    {
     "data": {
      "text/plain": [
       "pmap({'Utility': 27, 'SUV': 15, 'Salesperson': 'Ann', 'Compact': 22, 'Truck': 12, 'Sedan': 18})"
      ]
     },
     "execution_count": 15,
     "metadata": {},
     "output_type": "execute_result"
    }
   ],
   "source": [
    "r2 = r1.alter('Utility', lambda r: r.Truck + r.SUV, new_type = int)\n",
    "r2"
   ]
  },
  {
   "cell_type": "code",
   "execution_count": 18,
   "metadata": {},
   "outputs": [
    {
     "data": {
      "text/plain": [
       "[pmap({'Utility': 27, 'SUV': 15, 'Salesperson': 'Ann', 'Compact': 22, 'Truck': 12, 'Sedan': 18}),\n",
       " pmap({'Utility': 37, 'SUV': 17, 'Salesperson': 'Bob', 'Compact': 19, 'Truck': 20, 'Sedan': 12}),\n",
       " pmap({'Utility': 47, 'SUV': 32, 'Salesperson': 'Yolanda', 'Compact': 19, 'Truck': 15, 'Sedan': 8}),\n",
       " pmap({'Utility': 27, 'SUV': 18, 'Salesperson': 'Xerxes', 'Compact': 12, 'Truck': 9, 'Sedan': 23})]"
      ]
     },
     "execution_count": 18,
     "metadata": {},
     "output_type": "execute_result"
    }
   ],
   "source": [
    "row_func3 = lambda row: row.alter('Utility', lambda r: r.Truck + r.SUV, new_type = int)\n",
    "list(map(row_func3, rows2))"
   ]
  },
  {
   "cell_type": "code",
   "execution_count": 16,
   "metadata": {},
   "outputs": [
    {
     "data": {
      "text/plain": [
       "pmap({'Salesperson': 'Ann', 'Sedan': 18, 'SUV': 15, 'Utility': 27, 'Compact': 22, 'Car': 40, 'Truck': 12})"
      ]
     },
     "execution_count": 16,
     "metadata": {},
     "output_type": "execute_result"
    }
   ],
   "source": [
    "r3 = r1.alter_with(Utility = lambda r: r.Truck + r.SUV, Car = lambda r: r.Sedan + r.Compact)\n",
    "r3"
   ]
  },
  {
   "cell_type": "code",
   "execution_count": 20,
   "metadata": {},
   "outputs": [
    {
     "data": {
      "text/plain": [
       "[pmap({'Salesperson': 'Ann', 'Sedan': 18, 'SUV': 15, 'Utility': 27, 'Compact': 22, 'Car': 40, 'Truck': 12}),\n",
       " pmap({'Salesperson': 'Bob', 'Sedan': 12, 'SUV': 17, 'Utility': 37, 'Compact': 19, 'Car': 31, 'Truck': 20}),\n",
       " pmap({'Salesperson': 'Yolanda', 'Sedan': 8, 'SUV': 32, 'Utility': 47, 'Compact': 19, 'Car': 27, 'Truck': 15}),\n",
       " pmap({'Salesperson': 'Xerxes', 'Sedan': 23, 'SUV': 18, 'Utility': 27, 'Compact': 12, 'Car': 35, 'Truck': 9})]"
      ]
     },
     "execution_count": 20,
     "metadata": {},
     "output_type": "execute_result"
    }
   ],
   "source": [
    "row_func4 = lambda row: row.alter_with(Utility = lambda r: r.Truck + r.SUV, Car = lambda r: r.Sedan + r.Compact)\n",
    "list(map(row_func4, rows2))"
   ]
  },
  {
   "cell_type": "code",
   "execution_count": 22,
   "metadata": {},
   "outputs": [
    {
     "data": {
      "text/plain": [
       "[pmap({'Salesperson': 'Ann', 'Sedan': 18, 'SUV': 15, 'Utility': 27, 'Compact': 22, 'Car': 40, 'Truck': 12}),\n",
       " pmap({'Salesperson': 'Bob', 'Sedan': 12, 'SUV': 17, 'Utility': 37, 'Compact': 19, 'Car': 31, 'Truck': 20}),\n",
       " pmap({'Salesperson': 'Yolanda', 'Sedan': 8, 'SUV': 32, 'Utility': 47, 'Compact': 19, 'Car': 27, 'Truck': 15}),\n",
       " pmap({'Salesperson': 'Xerxes', 'Sedan': 23, 'SUV': 18, 'Utility': 27, 'Compact': 12, 'Car': 35, 'Truck': 9})]"
      ]
     },
     "execution_count": 22,
     "metadata": {},
     "output_type": "execute_result"
    }
   ],
   "source": [
    "funcs2 = {'Utility': lambda r: r.Truck + r.SUV, \n",
    "          'Car':lambda r: r.Sedan + r.Compact}\n",
    "row_func4 = lambda row: row.alter_with(**funcs2)\n",
    "list(map(row_func4, rows2))"
   ]
  },
  {
   "cell_type": "markdown",
   "metadata": {},
   "source": [
    "## Making generators for each row"
   ]
  },
  {
   "cell_type": "code",
   "execution_count": 821,
   "metadata": {},
   "outputs": [
    {
     "data": {
      "text/plain": [
       "[OrderedDict([('Salesperson', 'Ann'),\n",
       "              ('Compact', '22'),\n",
       "              ('Sedan', '18'),\n",
       "              ('SUV', '15'),\n",
       "              ('Truck', '12')]),\n",
       " OrderedDict([('Salesperson', 'Bob'),\n",
       "              ('Compact', '19'),\n",
       "              ('Sedan', '12'),\n",
       "              ('SUV', '17'),\n",
       "              ('Truck', '20')]),\n",
       " OrderedDict([('Salesperson', 'Yolanda'),\n",
       "              ('Compact', '19'),\n",
       "              ('Sedan', '8'),\n",
       "              ('SUV', '32'),\n",
       "              ('Truck', '15')]),\n",
       " OrderedDict([('Salesperson', 'Xerxes'),\n",
       "              ('Compact', '12'),\n",
       "              ('Sedan', '23'),\n",
       "              ('SUV', '18'),\n",
       "              ('Truck', '9')])]"
      ]
     },
     "execution_count": 821,
     "metadata": {},
     "output_type": "execute_result"
    }
   ],
   "source": [
    "from csv import DictReader, Sniffer\n",
    "with open('./data/auto_sales.csv', newline='\\n') as csvfile:\n",
    "    dialect = Sniffer().sniff(csvfile.read(1024))\n",
    "    csvfile.seek(0)\n",
    "    reader = DictReader(csvfile, dialect=dialect)\n",
    "    out_raw = [row for row in reader]\n",
    "out_raw"
   ]
  },
  {
   "cell_type": "code",
   "execution_count": 852,
   "metadata": {},
   "outputs": [],
   "source": [
    "from toolz import peek\n",
    "from collections import deque\n",
    "from functools import reduce\n",
    "\n",
    "class DataFrame(object):\n",
    "    def __init__(self, \n",
    "                 iter_of_dict, \n",
    "                 col_type_dict = {}, \n",
    "                 cache = [], \n",
    "                 mutators = (lambda x: x,)):\n",
    "        self.rows = iter_of_dict\n",
    "        self.col_type_dict = col_type_dict\n",
    "        # Cache holds raw unprocessed rows\n",
    "        self._cache = deque(cache)\n",
    "        try:\n",
    "            if len(self._cache) > 0:\n",
    "                first = self._cache[0]\n",
    "            else:\n",
    "                first = next(self.rows)\n",
    "        except StopIteration:\n",
    "            raise ValueError(\"There needs to be at least one row (in either iter_of_dict or cache)\")\n",
    "        self._mutators = mutators\n",
    "        # Apply the mutators then determine the Row type\n",
    "        # DANGER!!! This is too danagerous, need to default to string.  See Row method\n",
    "        mut_first = self._apply_mutators(first)\n",
    "        fieldnames = list(mut_first.keys())\n",
    "        self.col_record = make_column_record(fieldnames)\n",
    "        self.Row = makeRow(fieldnames, self.col_type_dict)\n",
    "        if len(self._cache) == 0:\n",
    "            # Cache is raw unprocessed rows\n",
    "            self._cache.append(first)\n",
    "        # Make sure that the last action is to convert to a Row\n",
    "        self._mutators = self._mutators + (lambda r: self.Row(**r), )\n",
    "            \n",
    "    def _apply_mutators(self, row):\n",
    "        # Note the newest mutator needs to be last\n",
    "        return reduce(lambda acc, f: f(acc), self._mutators, row)\n",
    "    \n",
    "    def __iter__(self):\n",
    "        return self\n",
    "        \n",
    "    def __next__(self):\n",
    "        if len(self._cache) > 0:\n",
    "            new_row = self.Row(**self._apply_mutators(self._cache.popleft()))\n",
    "            return new_row\n",
    "        new_row =  self.Row(**self._apply_mutators(next(self.rows)))\n",
    "        return new_row\n",
    "    \n",
    "    def __contains__(self, key):\n",
    "        return key in self.col_record\n",
    "    \n",
    "    def _mutated_stream(self, row_mutator):\n",
    "        example_current_row = self.Row(**self._apply_mutators(self._cache[0]))\n",
    "        example_output = row_mutator(example_current_row)\n",
    "        new_col_types = {col:type(val) for col, val in example_output.items()}\n",
    "        # Newest mutator needs to be last to be applied last\n",
    "        new_mutators = self._mutators + (row_mutator, ) \n",
    "        return DataFrame(self.rows, col_type_dict=new_col_types, cache=self._cache, mutators=new_mutators)"
   ]
  },
  {
   "cell_type": "code",
   "execution_count": 860,
   "metadata": {
    "scrolled": true
   },
   "outputs": [
    {
     "data": {
      "text/plain": [
       "[Row(Salesperson='Ann', SUV=15, Truck=12, Sedan=18, Compact=22),\n",
       " Row(Salesperson='Bob', SUV=17, Truck=20, Sedan=12, Compact=19),\n",
       " Row(Salesperson='Yolanda', SUV=32, Truck=15, Sedan=8, Compact=19),\n",
       " Row(Salesperson='Xerxes', SUV=18, Truck=9, Sedan=23, Compact=12)]"
      ]
     },
     "execution_count": 860,
     "metadata": {},
     "output_type": "execute_result"
    }
   ],
   "source": [
    "from csv import DictReader, Sniffer\n",
    "with open('./data/auto_sales.csv', newline='\\n') as csvfile:\n",
    "    dialect = Sniffer().sniff(csvfile.read(1024))\n",
    "    csvfile.seek(0)\n",
    "    reader = DictReader(csvfile, dialect=dialect)\n",
    "    df = DataFrame(reader, col_type_dict=my_col_types2)\n",
    "    out1 = [row for row in df]\n",
    "out1"
   ]
  },
  {
   "cell_type": "markdown",
   "metadata": {},
   "source": [
    "## Example mutate all ints"
   ]
  },
  {
   "cell_type": "code",
   "execution_count": 854,
   "metadata": {},
   "outputs": [],
   "source": [
    "def example_row_mutator(row):\n",
    "    return {col:2*i if isinstance(i, int) else i for col, i in row.items()}"
   ]
  },
  {
   "cell_type": "code",
   "execution_count": 861,
   "metadata": {},
   "outputs": [
    {
     "data": {
      "text/plain": [
       "[Row(Salesperson='Ann', SUV=30, Truck=24, Sedan=36, Compact=44),\n",
       " Row(Salesperson='Bob', SUV=34, Truck=40, Sedan=24, Compact=38),\n",
       " Row(Salesperson='Yolanda', SUV=64, Truck=30, Sedan=16, Compact=38),\n",
       " Row(Salesperson='Xerxes', SUV=36, Truck=18, Sedan=46, Compact=24)]"
      ]
     },
     "execution_count": 861,
     "metadata": {},
     "output_type": "execute_result"
    }
   ],
   "source": [
    "from csv import DictReader, Sniffer\n",
    "with open('./data/auto_sales.csv', newline='\\n') as csvfile:\n",
    "    dialect = Sniffer().sniff(csvfile.read(1024))\n",
    "    csvfile.seek(0)\n",
    "    reader = DictReader(csvfile, dialect=dialect)\n",
    "    df = DataFrame(reader, col_type_dict=my_col_types2)\n",
    "    df2 = df._mutated_stream(example_row_mutator)\n",
    "    out = [row for row in df2]\n",
    "out"
   ]
  },
  {
   "cell_type": "markdown",
   "metadata": {},
   "source": [
    "## Example - types change automatically  "
   ]
  },
  {
   "cell_type": "code",
   "execution_count": 856,
   "metadata": {},
   "outputs": [],
   "source": [
    "def example_row_mutator2(row):\n",
    "    return {col:2.0*i if isinstance(i, int) else i for col, i in row.items()}"
   ]
  },
  {
   "cell_type": "code",
   "execution_count": 862,
   "metadata": {},
   "outputs": [
    {
     "name": "stdout",
     "output_type": "stream",
     "text": [
      "Row(Salesperson='Ann', SUV=30.0, Truck=24.0, Sedan=36.0, Compact=44.0)\n",
      "Row(Salesperson='Bob', SUV=34.0, Truck=40.0, Sedan=24.0, Compact=38.0)\n",
      "Row(Salesperson='Yolanda', SUV=64.0, Truck=30.0, Sedan=16.0, Compact=38.0)\n",
      "Row(Salesperson='Xerxes', SUV=36.0, Truck=18.0, Sedan=46.0, Compact=24.0)\n"
     ]
    }
   ],
   "source": [
    "from csv import DictReader, Sniffer\n",
    "with open('./data/auto_sales.csv', newline='\\n') as csvfile:\n",
    "    dialect = Sniffer().sniff(csvfile.read(1024))\n",
    "    csvfile.seek(0)\n",
    "    reader = DictReader(csvfile, dialect=dialect)\n",
    "    df = DataFrame(reader, col_type_dict=my_col_types2)\n",
    "    df2 = df._mutated_stream(example_row_mutator2)\n",
    "    for row in df2:\n",
    "        print(row)"
   ]
  },
  {
   "cell_type": "markdown",
   "metadata": {},
   "source": [
    "## Example select"
   ]
  },
  {
   "cell_type": "code",
   "execution_count": 858,
   "metadata": {},
   "outputs": [],
   "source": [
    "def example_row_mutator3(row):\n",
    "    return {col:val for col, val in row.items() if col not in ['Truck', 'SUV']}"
   ]
  },
  {
   "cell_type": "code",
   "execution_count": 866,
   "metadata": {
    "scrolled": true
   },
   "outputs": [
    {
     "name": "stdout",
     "output_type": "stream",
     "text": [
      "Columns(Salesperson='Salesperson', Sedan='Sedan', columns=StrPSet(['Salesperson', 'Sedan', 'Compact']), Compact='Compact')\n",
      "deque([OrderedDict([('Salesperson', 'Ann'), ('Compact', '22'), ('Sedan', '18'), ('SUV', '15'), ('Truck', '12')])])\n",
      "Row(Salesperson='Ann', Sedan=18, Compact=22)\n",
      "Row(Salesperson='Bob', Sedan=12, Compact=19)\n",
      "Row(Salesperson='Yolanda', Sedan=8, Compact=19)\n",
      "Row(Salesperson='Xerxes', Sedan=23, Compact=12)\n"
     ]
    }
   ],
   "source": [
    "from csv import DictReader, Sniffer\n",
    "with open('./data/auto_sales.csv', newline='\\n') as csvfile:\n",
    "    dialect = Sniffer().sniff(csvfile.read(1024))\n",
    "    csvfile.seek(0)\n",
    "    reader = DictReader(csvfile, dialect=dialect)\n",
    "    df = DataFrame(reader, col_type_dict=my_col_types2)\n",
    "    df3 = df._mutated_stream(example_row_mutator3)\n",
    "    print(df3.col_record)\n",
    "    print(df3._cache)\n",
    "    for row in df3:\n",
    "        print(row)"
   ]
  },
  {
   "cell_type": "markdown",
   "metadata": {},
   "source": [
    "## Intension Exploration\n",
    "\n",
    "Applying to rows gives the values and evaluates expressions"
   ]
  },
  {
   "cell_type": "code",
   "execution_count": 881,
   "metadata": {},
   "outputs": [],
   "source": [
    "from dfply import X\n",
    "\n",
    "i = X.Truck + X.Salesperson"
   ]
  },
  {
   "cell_type": "code",
   "execution_count": 882,
   "metadata": {},
   "outputs": [
    {
     "data": {
      "text/plain": [
       "[Row(Salesperson='Ann', SUV=15, Truck=12, Sedan=18, Compact=22),\n",
       " Row(Salesperson='Bob', SUV=17, Truck=20, Sedan=12, Compact=19),\n",
       " Row(Salesperson='Yolanda', SUV=32, Truck=15, Sedan=8, Compact=19),\n",
       " Row(Salesperson='Xerxes', SUV=18, Truck=9, Sedan=23, Compact=12)]"
      ]
     },
     "execution_count": 882,
     "metadata": {},
     "output_type": "execute_result"
    }
   ],
   "source": [
    "rows"
   ]
  },
  {
   "cell_type": "code",
   "execution_count": 883,
   "metadata": {},
   "outputs": [
    {
     "data": {
      "text/plain": [
       "Row(Salesperson='Ann', SUV=15, Truck=12, Sedan=18, Compact=22)"
      ]
     },
     "execution_count": 883,
     "metadata": {},
     "output_type": "execute_result"
    }
   ],
   "source": [
    "r1 = rows[0]\n",
    "r1"
   ]
  },
  {
   "cell_type": "code",
   "execution_count": 884,
   "metadata": {},
   "outputs": [
    {
     "data": {
      "text/plain": [
       "NotImplemented"
      ]
     },
     "execution_count": 884,
     "metadata": {},
     "output_type": "execute_result"
    }
   ],
   "source": [
    "i.evaluate(r1)"
   ]
  },
  {
   "cell_type": "code",
   "execution_count": 885,
   "metadata": {},
   "outputs": [
    {
     "data": {
      "text/plain": [
       "<dfply.base.Intention at 0x119348470>"
      ]
     },
     "execution_count": 885,
     "metadata": {},
     "output_type": "execute_result"
    }
   ],
   "source": [
    "i(r1)"
   ]
  },
  {
   "cell_type": "code",
   "execution_count": 874,
   "metadata": {},
   "outputs": [
    {
     "data": {
      "text/plain": [
       "<dfply.base.Intention at 0x119348be0>"
      ]
     },
     "execution_count": 874,
     "metadata": {},
     "output_type": "execute_result"
    }
   ],
   "source": [
    "i"
   ]
  },
  {
   "cell_type": "code",
   "execution_count": 886,
   "metadata": {},
   "outputs": [],
   "source": [
    "e1 = X.SUV\n",
    "e2 = X.Truck\n",
    "e3 = e1 + e2"
   ]
  },
  {
   "cell_type": "code",
   "execution_count": 887,
   "metadata": {},
   "outputs": [
    {
     "data": {
      "text/plain": [
       "(15, 12, 27)"
      ]
     },
     "execution_count": 887,
     "metadata": {},
     "output_type": "execute_result"
    }
   ],
   "source": [
    "a1 = e1.evaluate(r1)\n",
    "a2 = e2.evaluate(r1)\n",
    "a3 = e3.evaluate(r1)\n",
    "a1, a2, a3"
   ]
  },
  {
   "cell_type": "code",
   "execution_count": 888,
   "metadata": {},
   "outputs": [
    {
     "data": {
      "text/plain": [
       "'ann'"
      ]
     },
     "execution_count": 888,
     "metadata": {},
     "output_type": "execute_result"
    }
   ],
   "source": [
    "e4 = X.Salesperson.lower()\n",
    "a4 = e4.evaluate(r1)\n",
    "a4"
   ]
  },
  {
   "cell_type": "code",
   "execution_count": 889,
   "metadata": {},
   "outputs": [
    {
     "data": {
      "text/plain": [
       "False"
      ]
     },
     "execution_count": 889,
     "metadata": {},
     "output_type": "execute_result"
    }
   ],
   "source": [
    "e6 = X.Truck > X.SUV\n",
    "a6 = e6.evaluate(r1)\n",
    "a6"
   ]
  },
  {
   "cell_type": "code",
   "execution_count": 890,
   "metadata": {},
   "outputs": [
    {
     "data": {
      "text/plain": [
       "[False, True, False, False]"
      ]
     },
     "execution_count": 890,
     "metadata": {},
     "output_type": "execute_result"
    }
   ],
   "source": [
    "[e6.evaluate(r) for r in rows]"
   ]
  },
  {
   "cell_type": "code",
   "execution_count": 891,
   "metadata": {},
   "outputs": [
    {
     "data": {
      "text/plain": [
       "12"
      ]
     },
     "execution_count": 891,
     "metadata": {},
     "output_type": "execute_result"
    }
   ],
   "source": [
    "e7 = abs(X.Truck)\n",
    "e7.evaluate(rows2[0])"
   ]
  },
  {
   "cell_type": "markdown",
   "metadata": {},
   "source": [
    "## Monad stuff"
   ]
  },
  {
   "cell_type": "code",
   "execution_count": 424,
   "metadata": {
    "scrolled": true
   },
   "outputs": [
    {
     "name": "stdout",
     "output_type": "stream",
     "text": [
      "Requirement already satisfied: oslash in /Users/tiverson/.pyenv/versions/anaconda3-5.0.0/lib/python3.6/site-packages (0.5.1)\r\n",
      "Requirement already satisfied: mypy-lang in /Users/tiverson/.pyenv/versions/anaconda3-5.0.0/lib/python3.6/site-packages (from oslash) (0.5.0)\r\n"
     ]
    }
   ],
   "source": [
    "!pip install oslash"
   ]
  },
  {
   "cell_type": "markdown",
   "metadata": {},
   "source": [
    "### Cont"
   ]
  },
  {
   "cell_type": "code",
   "execution_count": 411,
   "metadata": {},
   "outputs": [],
   "source": [
    "from oslash.cont import Cont\n",
    "from oslash.util import identity, compose\n",
    "\n",
    "\n",
    "# pure = Cont.pure\n",
    "unit = Cont.unit\n",
    "call_cc = Cont.call_cc"
   ]
  },
  {
   "cell_type": "code",
   "execution_count": 416,
   "metadata": {},
   "outputs": [],
   "source": [
    "add = lambda x, y: unit(x + y)\n",
    "square = lambda x: unit(x * x)\n",
    "\n",
    "pythagoras = lambda x, y: square(x) | (lambda xx: (\n",
    "                          square(y) | (lambda yy: \n",
    "                          add(xx, yy))))"
   ]
  },
  {
   "cell_type": "code",
   "execution_count": 417,
   "metadata": {},
   "outputs": [
    {
     "data": {
      "text/plain": [
       "25"
      ]
     },
     "execution_count": 417,
     "metadata": {},
     "output_type": "execute_result"
    }
   ],
   "source": [
    "pythagoras(3,4)(identity)"
   ]
  },
  {
   "cell_type": "code",
   "execution_count": 418,
   "metadata": {},
   "outputs": [
    {
     "data": {
      "text/plain": [
       "32"
      ]
     },
     "execution_count": 418,
     "metadata": {},
     "output_type": "execute_result"
    }
   ],
   "source": [
    "pythagoras(4,4)(identity)"
   ]
  },
  {
   "cell_type": "markdown",
   "metadata": {},
   "source": [
    "### Maybe"
   ]
  },
  {
   "cell_type": "code",
   "execution_count": 425,
   "metadata": {},
   "outputs": [],
   "source": [
    "from oslash.maybe import Maybe, Just, Nothing\n",
    "from oslash.util import identity, compose, fmap\n",
    "\n",
    "pure = Just.pure\n",
    "unit = Just.unit"
   ]
  },
  {
   "cell_type": "code",
   "execution_count": 427,
   "metadata": {},
   "outputs": [
    {
     "data": {
      "text/plain": [
       "(Just 42, Just 42, True)"
      ]
     },
     "execution_count": 427,
     "metadata": {},
     "output_type": "execute_result"
    }
   ],
   "source": [
    "f = lambda x: x * 2\n",
    "x = Just(21)\n",
    "\n",
    "x.map(f), Just(42), x.map(f) == Just(42)"
   ]
  },
  {
   "cell_type": "code",
   "execution_count": 102,
   "metadata": {},
   "outputs": [
    {
     "data": {
      "text/plain": [
       "'None'"
      ]
     },
     "execution_count": 102,
     "metadata": {},
     "output_type": "execute_result"
    }
   ],
   "source": [
    "str(None)"
   ]
  },
  {
   "cell_type": "code",
   "execution_count": null,
   "metadata": {},
   "outputs": [],
   "source": []
  }
 ],
 "metadata": {
  "kernelspec": {
   "display_name": "Python 2",
   "language": "python",
   "name": "python2"
  },
  "varInspector": {
   "cols": {
    "lenName": 16,
    "lenType": 16,
    "lenVar": 40
   },
   "kernels_config": {
    "python": {
     "delete_cmd_postfix": "",
     "delete_cmd_prefix": "del ",
     "library": "var_list.py",
     "varRefreshCmd": "print(var_dic_list())"
    },
    "r": {
     "delete_cmd_postfix": ") ",
     "delete_cmd_prefix": "rm(",
     "library": "var_list.r",
     "varRefreshCmd": "cat(var_dic_list()) "
    }
   },
   "types_to_exclude": [
    "module",
    "function",
    "builtin_function_or_method",
    "instance",
    "_Feature"
   ],
   "window_display": false
  }
 },
 "nbformat": 4,
 "nbformat_minor": 2
}
